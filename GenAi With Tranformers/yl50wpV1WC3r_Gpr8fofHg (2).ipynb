{
 "cells": [
  {
   "cell_type": "markdown",
   "id": "32cf4d49-68b2-46a5-b385-109233a3a490",
   "metadata": {},
   "source": [
    "<p style=\"text-align:center\">\n",
    "    <a href=\"https://skills.network\" target=\"_blank\">\n",
    "    <img src=\"https://cf-courses-data.s3.us.cloud-object-storage.appdomain.cloud/assets/logos/SN_web_lightmode.png\" width=\"200\" alt=\"Skills Network Logo\"  />\n",
    "    </a>\n",
    "</p>\n"
   ]
  },
  {
   "cell_type": "markdown",
   "id": "18f27fcc-f727-4054-8bed-9212d4a64cce",
   "metadata": {},
   "source": [
    "# **Self-Attention and Positional Encoding**\n"
   ]
  },
  {
   "cell_type": "markdown",
   "id": "7d613a01-73f9-461f-8098-6930196d18e6",
   "metadata": {},
   "source": [
    "Estimated time needed: **45** minutes\n"
   ]
  },
  {
   "cell_type": "markdown",
   "id": "0ff0e4b0-6b99-47d8-8d3f-eb1e2f51aadd",
   "metadata": {},
   "source": [
    "## __Table of Contents__\n",
    "\n",
    "<ol>\n",
    "    <li><a href=\"#Self-attention\">Self-attention</a></li>\n",
    "    <li>\n",
    "        <a href=\"#Setup\">Setup</a>\n",
    "        <ol>\n",
    "            <li><a href=\"#Installing-required-libraries\">Installing required libraries</a></li>\n",
    "            <li><a href=\"#Importing-required-libraries\">Importing required libraries</a></li>\n",
    "        </ol>\n",
    "    </li>\n",
    "    <li>\n",
    "        <a href=\"#Program-for-literal-translation\">Program for literal translation</a>\n",
    "        <ol>\n",
    "            <li><a href=\"#Improvement:-What-if-the-'key'-is-not-in-the-dictionary?\">Improvement: What if the 'key' is not in the dictionary?</a></li>\n",
    "        </ol>\n",
    "    </li>\n",
    "    <li>\n",
    "        <a href=\"#Convert-to-neural-network\">Convert to neural network</a>\n",
    "        <ol>\n",
    "            <li><a href=\"#Define-'vocabularies'\">Define 'vocabularies'</a></li>\n",
    "            <li><a href=\"#Encode-tokens-using-'one-hot'-encoding\">Encode tokens using 'one hot' encoding</a></li>\n",
    "            <li><a href=\"#Decode-one-hot-vector\">Decode one-hot vector</a></li>\n",
    "            <li><a href=\"#Matrix-based-translate-function\">Matrix-based translate function</a></li>\n",
    "            <li><a href=\"#Softmax-function-for-similarity\">Softmax function for similarity</a></li>\n",
    "            <li><a href=\"#Translation-with-attention-mechanism\">Translation with attention mechanism</a></li>\n",
    "            <li><a href=\"#Creating-the-'Q'-matrix\">Creating the 'Q' matrix</a></li>\n",
    "        </ol>\n",
    "        <li><a href=\"#Self-attention-class-(optional)\">Self-attention class (optional)</a>\n",
    "        <ol>\n",
    "            <li><a href=\"#Dataset-definition\">Dataset definition</a></li>\n",
    "            <li><a href=\"#Tokenization-setup\">Tokenization setup</a></li>\n",
    "            <li><a href=\"#Vocabulary-building\">Vocabulary building</a></li>\n",
    "            <li><a href=\"#Text-processing-pipeline\">Text processing pipeline</a></li>\n",
    "            <li><a href=\"#Hyperparameter-definition\">Hyperparameter definition</a></li>\n",
    "            <li><a href=\"#Dummy-data-for-testing\">Dummy data for testing</a></li>\n",
    "        </ol>\n",
    "        </li>\n",
    "    </li>\n",
    "    <li><a href=\"#Positional-encoding\">Positional encoding</a>\n",
    "    <li><a href=\"#Transformers-in-PyTorch\">Transformers in PyTorch</a>\n",
    "        <ol>\n",
    "            <li><a href=\"#MultiHead-attention\">MultiHead attention</a></li>\n",
    "            <li><a href=\"#TransformerEncoderLayer-and-TransformerEncoder\">TransformerEncoderLayer and TransformerEncoder</a>\n",
    "        </ol>\n",
    "    </li>\n",
    "     <li><a href=\"#Exercise\">Exercise</a>\n",
    "</li>\n",
    "    \n",
    "    \n",
    "</ol>\n"
   ]
  },
  {
   "cell_type": "markdown",
   "id": "d620887f-cfe3-4839-9fda-3f20beff33a8",
   "metadata": {},
   "source": [
    "## Objectives\n",
    "\n",
    "After completing this lab you will be able to:\n",
    "\n",
    "- Understand the basics of tokenization and how textual data is prepared for neural network models.\n",
    "- Learn the concept of one-hot encoding and its application in representing textual data for machine learning models.\n",
    "- Explore the self-attention mechanism, a key component of Transformer models, which allows the model to dynamically focus on different parts of the input sequence for making predictions.\n",
    "- Implement a basic self-attention mechanism and integrate it into a neural network model.\n",
    "- Grasp the importance of positional encoding in Transformer models, providing the model with the necessary information about the order of words in a sentence.\n",
    "- Implement positional encoding and observe its effect on model performance and understanding of sequence order.\n",
    "- Apply the learned concepts to build a simple translation model or text processing task, demonstrating the practical application of self-attention and positional encoding.\n",
    "- Develop an intuition for the workings of modern NLP models, particularly the Transformer architecture, and understand their advantages over traditional sequence processing models like RNNs and LSTMs.\n",
    "- Encourage further exploration and experimentation with different model architectures, hyperparameters, and applications in natural language processing.\n"
   ]
  },
  {
   "cell_type": "markdown",
   "id": "0a5ff039-05cc-437e-a79e-45392e5ab47d",
   "metadata": {},
   "source": [
    "# Self-attention\n",
    "Self-attention is a mechanism used in neural networks to help the model focus on different parts of the input data when generating each part of the output. It is a key component of the Transformer architecture, which is widely used in natural language processing tasks such as machine translation, text summarization, and sentiment analysis.\n",
    "\n",
    "The idea behind self-attention is to allow the model to weigh the importance of each input token when generating each output token. This is done by computing a weighted sum of the input tokens, where the weights are determined by the relationships between all pairs of input tokens.\n"
   ]
  },
  {
   "cell_type": "markdown",
   "id": "32a82b3f-734f-414d-b725-1d265543a3fb",
   "metadata": {},
   "source": [
    "## Setup\n"
   ]
  },
  {
   "cell_type": "markdown",
   "id": "a3d7b7d1-2176-47da-94c4-59da4a11b508",
   "metadata": {},
   "source": [
    "For this lab, let's us the following libraries:\n",
    "\n",
    "- [`torch`](https://pytorch.org/): The core library for building and training neural network models in this project, including the implementation of Self-Attention mechanisms and Positional Encodings.\n",
    "- [`torch.nn`](https://pytorch.org/docs/stable/nn.html), [`torch.nn.functional`](https://pytorch.org/docs/stable/nn.functional.html): These PyTorch submodules are used to define the neural network layers and apply functions such as activations, which are essential in building the model architecture.\n",
    "- [`Levenshtein`](https://pypi.org/project/python-Levenshtein/): This library is used for calculating the Levenshtein distance, which can be useful for evaluating model performance in tasks like text generation or translation by measuring the difference between the predicted and actual text sequences.\n",
    "- [`get_tokenizer`](https://pytorch.org/text/stable/data_utils.html), [`build_vocab_from_iterator`](https://pytorch.org/text/stable/vocab.html) from `torchtext`: These functions are crucial for preprocessing text data, including tokenizing text into words or subwords and building a vocabulary from the dataset, which are foundational steps in preparing data for NLP models.\n"
   ]
  },
  {
   "cell_type": "markdown",
   "id": "ee1b558e-90ec-427b-9633-5e2a086f8adc",
   "metadata": {},
   "source": [
    "### Installing required libraries\n",
    "\n",
    "The following required libraries are __not__ pre-installed in the Skills Network Labs environment. __You will need to run the following cell__ to install them.\n",
    "\n",
    ">Please note that this takes a few minutes to install. \n"
   ]
  },
  {
   "cell_type": "code",
   "execution_count": null,
   "id": "9ad0bc79-1bd1-4f77-bcc1-ed244956e548",
   "metadata": {},
   "outputs": [],
   "source": [
    "# Install packages\n",
    "! pip install Levenshtein\n",
    "! pip install matplotlib\n",
    "!pip install torch==2.3.0 torchtext==0.18.0"
   ]
  },
  {
   "cell_type": "markdown",
   "id": "7baef384-f465-4c31-8a70-bc5c217c9772",
   "metadata": {},
   "source": [
    "### Importing required libraries\n"
   ]
  },
  {
   "cell_type": "code",
   "execution_count": 1,
   "id": "d6b5ed8b-f980-48cf-bb16-c36ee4e3fd6e",
   "metadata": {},
   "outputs": [],
   "source": [
    "import os\n",
    "import sys\n",
    "import time\n",
    "import warnings\n",
    "from pathlib import Path\n",
    "import matplotlib.pyplot as plt\n",
    "\n",
    "import numpy as np\n",
    "import torch\n",
    "import torch.nn as nn\n",
    "import torch.nn.functional as F\n",
    "import requests\n",
    "\n",
    "from Levenshtein import distance\n",
    "from torchtext.data.utils import get_tokenizer\n",
    "from torchtext.vocab import build_vocab_from_iterator\n",
    "\n",
    "# You can also use this section to suppress warnings generated by your code:\n",
    "def warn(*args, **kwargs):\n",
    "    pass\n",
    "import warnings\n",
    "warnings.warn = warn\n",
    "warnings.filterwarnings('ignore')"
   ]
  },
  {
   "cell_type": "markdown",
   "id": "0ff2661a-531c-429c-bc83-9f0878f5765c",
   "metadata": {},
   "source": [
    "In this section, initialize our neural network's training environment and set up various hyperparameters for our model:\n",
    "\n",
    "- **Device setup**: We assign the computations to a GPU if available, otherwise, we use the CPU. Utilizing a GPU can significantly speed up the training of deep learning models. If CUDA is available we will set it to `cuda` else we will set it to `cpu`. Compute Unified Device Architecture (CUDA) is a parallel computing platform and application programming interface (API) enabling software to leverage specific graphics processing units (GPUs) for accelerated general-purpose processing, known as general-purpose computing on GPUs.\n",
    "\n",
    "  >In this lab environment, you don't have `cuda`.\n",
    "\n",
    "- **Training parameters**: \n",
    "  - `learning_rate`: This is the step size at each iteration while moving toward a minimum of the loss function. We've set it to `3e-4`, which is a common starting point for many models.\n",
    "  - `batch_size`: The number of samples that will be propagated through the network in one forward/backward pass. Here, it's `64`.\n",
    "  - `max_iters`: The total number of training iterations we plan to run. Set to `5000` to allow the model ample opportunity to learn from the data.\n",
    "  - `eval_interval` and `eval_iters`: Parameters defining how frequently we evaluate the model's performance on a set number of batches to approximate loss.\n",
    "\n",
    "- **Architecture parameters**: \n",
    "  - `max_vocab_size`: This represents the maximum number of tokens in our vocabulary. It's set to `256`, meaning that we will only consider the most frequent 256 tokens.\n",
    "  - `vocab_size`: The actual number of tokens in the vocabulary, which may be less than the maximum due to the variable length of tokens in subword tokenization like BPE (Byte Pair Encoding).\n",
    "  - `block_size`: The length of the input sequence that the model is designed to handle. Here it's `16`.\n",
    "  - `n_embd`: The size of each embedding vector, set to `32`. Embeddings convert tokens into a continuous space where similar tokens are closer to each other.\n",
    "  - `num_heads`: The number of heads in the multi-headed self-attention mechanism, `2` in this case, which allows the model to jointly attend to information from different representation subspaces.\n",
    "  - `n_layer`: The number of layers (or depth) of the network. Here, `2` layers are used.\n",
    "  - `ff_scale_factor`: A scaling factor for the size of the feed-forward networks, chosen as `4` here.\n",
    "  - `dropout`: The dropout rate used for regularization to prevent overfitting, set at `0.0`, indicating no dropout in this case.\n",
    "\n",
    "Finally, you have a `head_size` calculation that is derived from the embedding size and number of heads, ensuring that each head has an equal chunk of the embedding size to work with. We also include an assertion to verify that the `head_size` times `num_heads` equals the `n_embd`.\n"
   ]
  },
  {
   "cell_type": "code",
   "execution_count": 2,
   "id": "f8fe877a-1972-48b7-889a-f63af956d439",
   "metadata": {},
   "outputs": [],
   "source": [
    "# Device for training\n",
    "device = 'cuda' if torch.cuda.is_available() else 'cpu'\n",
    "split = 'train'\n",
    "\n",
    "# Training parameters\n",
    "learning_rate = 3e-4\n",
    "batch_size = 64\n",
    "max_iters = 5000              # Maximum training iterations\n",
    "eval_interval = 200           # Evaluate model every 'eval_interval' iterations in the training loop\n",
    "eval_iters = 100              # When evaluating, approximate loss using 'eval_iters' batches\n",
    "\n",
    "# Architecture parameters\n",
    "max_vocab_size = 256          # Maximum vocabulary size\n",
    "vocab_size = max_vocab_size   # Real vocabulary size (e.g. BPE has a variable length, so it can be less than 'max_vocab_size')\n",
    "block_size = 16               # Context length for predictions\n",
    "n_embd = 32                   # Embedding size\n",
    "num_heads = 2                 # Number of head in multi-headed attention\n",
    "n_layer = 2                   # Number of Blocks\n",
    "ff_scale_factor = 4           # Note: The '4' magic number is from the paper: In equation 2 uses d_model=512, but d_ff=2048\n",
    "dropout = 0.0                 # Normalization using dropout# 10.788929 M parameters\n",
    "\n",
    "head_size = n_embd // num_heads\n",
    "assert (num_heads * head_size) == n_embd"
   ]
  },
  {
   "cell_type": "markdown",
   "id": "cce9d869-455f-493e-ad10-b764a62bb890",
   "metadata": {},
   "source": [
    "Following the parameter setup, you will create a function defined as `plot_embeddings`, which is designed to visualize the learned embeddings in a 3D space using `matplotlib`. This helps in understanding how the embeddings cluster and separate different tokens, providing insight into what the model has learned.\n"
   ]
  },
  {
   "cell_type": "code",
   "execution_count": 3,
   "id": "90fb1656-245b-4701-a554-c71aff8a9f89",
   "metadata": {},
   "outputs": [],
   "source": [
    "def plot_embdings(my_embdings,name,vocab):\n",
    "\n",
    "  fig = plt.figure()\n",
    "  ax = fig.add_subplot(111, projection='3d')\n",
    "\n",
    "  # Plot the data points\n",
    "  ax.scatter(my_embdings[:,0], my_embdings[:,1], my_embdings[:,2])\n",
    "\n",
    "  # Label the points\n",
    "  for j, label in enumerate(name):\n",
    "      i=vocab.get_stoi()[label]\n",
    "      ax.text(my_embdings[j,0], my_embdings[j,1], my_embdings[j,2], label)\n",
    "\n",
    "  # Set axis labels\n",
    "  ax.set_xlabel('X Label')\n",
    "  ax.set_ylabel('Y Label')\n",
    "  ax.set_zlabel('Z Label')\n",
    "\n",
    "  # Show the plot\n",
    "  plt.show()"
   ]
  },
  {
   "cell_type": "markdown",
   "id": "38f1a916-e8bb-4d02-886f-bea9d9156158",
   "metadata": {},
   "source": [
    "## Program for literal translation\n",
    "\n",
    "In the next part, let's explore the fundamental concepts of tokenization and translation through a simple program for literal translation from French to English:\n",
    "\n",
    "- A `dictionary` is defined, mapping French words to their English equivalents, forming the basis of our translation logic.\n"
   ]
  },
  {
   "cell_type": "code",
   "execution_count": 4,
   "id": "b28333fa-87e1-4e2d-95fc-b74a5d074f0b",
   "metadata": {},
   "outputs": [],
   "source": [
    "dictionary = {\n",
    "    'le': 'the'\n",
    "    , 'chat': 'cat'\n",
    "    , 'est': 'is'\n",
    "    , 'sous': 'under'\n",
    "    , 'la': 'the'\n",
    "    , 'table': 'table'\n",
    "}"
   ]
  },
  {
   "cell_type": "markdown",
   "id": "1a7ba600-7916-4a0f-ba37-0a6ddf8ce77e",
   "metadata": {},
   "source": [
    "- The `tokenize` function is responsible for breaking down a sentence into individual words.\n",
    "- The `translate` function uses this `tokenize` function to split the input sentence and then translates each word according to the dictionary. The translated words are concatenated to form the output sentence.\n"
   ]
  },
  {
   "cell_type": "code",
   "execution_count": 5,
   "id": "dfff8439-5289-48b3-8c7a-c63fa994aa02",
   "metadata": {},
   "outputs": [],
   "source": [
    "# Function to split a sentence into tokens (words)\n",
    "def tokenize(text):\n",
    "    \"\"\"\n",
    "    This function takes a string of text as input and returns a list of words (tokens).\n",
    "    It uses the split method, which by default splits on any whitespace, to tokenize the text.\n",
    "    \"\"\"\n",
    "    return text.split()  # Split the input text on whitespace and return the list of tokens\n",
    "\n",
    "# Function to translate a sentence from source to target language word by word\n",
    "def translate(sentence):\n",
    "    \"\"\"\n",
    "    This function translates a sentence by looking up each word's translation in a predefined dictionary.\n",
    "    It assumes that every word in the sentence is a key in the dictionary.\n",
    "    \"\"\"\n",
    "    out = ''  # Initialize the output string\n",
    "    for token in tokenize(sentence):  # Tokenize the sentence into words\n",
    "        # Append the translated word to the output string\n",
    "        # This line assumes the dictionary contains a translation for every word in the input\n",
    "        out += dictionary[token] + ' '\n",
    "    return out.strip()  # Return the translated sentence, stripping any extra whitespace"
   ]
  },
  {
   "cell_type": "markdown",
   "id": "db7ab44c-4a44-480f-b225-04012b20845f",
   "metadata": {},
   "source": [
    "- Finally, the `translate` function is demonstrated with the input \"le chat est sous la table\", which translates to \"the cat is under the table\" in English.\n"
   ]
  },
  {
   "cell_type": "code",
   "execution_count": 6,
   "id": "d7015ecd-b35c-4afe-bfd6-0be9b663b5db",
   "metadata": {},
   "outputs": [
    {
     "data": {
      "text/plain": [
       "'the cat is under the table'"
      ]
     },
     "execution_count": 6,
     "metadata": {},
     "output_type": "execute_result"
    }
   ],
   "source": [
    "translate(\"le chat est sous la table\")"
   ]
  },
  {
   "cell_type": "markdown",
   "id": "ec051712-b33f-418c-bc6c-93c19f891219",
   "metadata": {},
   "source": [
    "This straightforward example illustrates a word-by-word replacement, which, while not sophisticated, provides an introduction to computational translation methods.\n"
   ]
  },
  {
   "cell_type": "markdown",
   "id": "8f403301-0ec9-4a69-8596-021f39253b8f",
   "metadata": {},
   "source": [
    "### Improvement: What if the 'key' is not in the dictionary?\n",
    "\n",
    "The code presents an enhancement to the translation program, addressing the scenario when a word does not exist in our dictionary:\n",
    "\n",
    "- **find_closest_key Function**: This new function aims to find the closest key in the dictionary to a given query word. It uses the **Levenshtein distance** (a measure of the difference between two sequences) to find the dictionary key with the minimum distance to the query, suggesting a similar word if an exact match isn't found.\n",
    "\n",
    "- **Improved translate function**: The `translate` function is updated to use `find_closest_key`. Now, instead of directly translating tokens based on the dictionary, it first finds the closest key for each tokenized word. This allows for a more robust translation, especially when encountering words with minor spelling errors or variations not present in the dictionary.\n",
    "\n",
    "- **Demonstration**: The improved translate function is demonstrated with the input \"tables\". Although \"tables\" is not in the dictionary, the function is expected to find and use the closest key \"table\" for the translation, outputting \"table\" in English.\n",
    "\n",
    "This improvement showcases a simple form of error handling and fuzzy matching in translation systems, allowing for more flexible and fault-tolerant translations.\n"
   ]
  },
  {
   "cell_type": "code",
   "execution_count": 7,
   "id": "93813c49-800a-497f-a62c-3681898ad8e0",
   "metadata": {},
   "outputs": [],
   "source": [
    "# Function to find the closest key in the dictionary to the given query word\n",
    "def find_closest_key(query):\n",
    "    \"\"\"\n",
    "    The function computes the Levenshtein distance between the query and each key in the dictionary.\n",
    "    The Levenshtein distance is a measure of the number of single-character edits required to change one word into the other.\n",
    "    \"\"\"\n",
    "    closest_key, min_dist = None, float('inf')  # Initialize the closest key and minimum distance to infinity\n",
    "    for key in dictionary.keys():\n",
    "        dist = distance(query, key)  # Calculate the Levenshtein distance to the current key\n",
    "        if dist < min_dist:  # If the current distance is less than the previously found minimum\n",
    "            min_dist, closest_key = dist, key  # Update the minimum distance and the closest key\n",
    "    return closest_key  # Return the closest key found\n",
    "\n",
    "# Function to translate a sentence from source to target language using the dictionary\n",
    "def translate(sentence):\n",
    "    \"\"\"\n",
    "    This function tokenizes the input sentence into words and finds the closest translation for each word.\n",
    "    It constructs the translated sentence by appending the translated words together.\n",
    "    \"\"\"\n",
    "    out = ''  # Initialize the output string\n",
    "    for query in tokenize(sentence):  # Tokenize the sentence into words\n",
    "        key = find_closest_key(query)  # Find the closest key in the dictionary for each word\n",
    "        out += dictionary[key] + ' '  # Append the translation of the closest key to the output string\n",
    "    return out.strip()  # Return the translated sentence, stripping any extra whitespace"
   ]
  },
  {
   "cell_type": "code",
   "execution_count": 8,
   "id": "f176da35-7572-4c1e-9db0-1372c9282085",
   "metadata": {},
   "outputs": [
    {
     "data": {
      "text/plain": [
       "'table'"
      ]
     },
     "execution_count": 8,
     "metadata": {},
     "output_type": "execute_result"
    }
   ],
   "source": [
    "translate(\"tables\")"
   ]
  },
  {
   "cell_type": "markdown",
   "id": "b1dfa717-a0ae-4672-8324-248b92618134",
   "metadata": {},
   "source": [
    "## Convert to neural network\n",
    "\n",
    "Transitioning from basic translation to neural networks, let's start by defining our input and output vocabularies and then move on to encoding our tokens:\n",
    "\n",
    "- **Vocabulary definition**: Two vocabularies are created from the dictionary—`vocabulary_in` for the source language (French) and `vocabulary_out` for the target language (English). These vocabularies are the lists of unique words obtained from the dictionary's keys and values, respectively, and they are sorted to maintain a consistent order.\n",
    "\n",
    "- **One-hot encoding**: The `encode_one_hot` function is introduced to convert each word in the vocabulary into a one-hot encoded vector. One-hot encoding is a process where represents each word as a binary vector with a '1' in the position corresponding to the word's index in the vocabulary and '0's elsewhere. This creates a unique, fixed-size vector for each word, which is essential for neural network processing.\n",
    "\n",
    "- **Encoding demonstration**: Demonstrate the one-hot encoding process by applying `encode_one_hot` to our input vocabulary (`vocabulary_in`) and showing the encoded vectors for each word. The same process is then applied to the output vocabulary (`vocabulary_out`).\n",
    "\n",
    "This step is critical in machine learning as it prepares our textual data for input into a neural network, allowing it to learn from and make predictions on our data.\n"
   ]
  },
  {
   "cell_type": "markdown",
   "id": "24f66d13-6d6c-435c-83e9-42b49d4444f8",
   "metadata": {},
   "source": [
    "### Define 'vocabularies'\n"
   ]
  },
  {
   "cell_type": "code",
   "execution_count": 9,
   "id": "ca4fbb0b-536a-4b77-bd78-ce7fad1a1cdc",
   "metadata": {},
   "outputs": [
    {
     "name": "stdout",
     "output_type": "stream",
     "text": [
      "Vocabulary input (6): ['chat', 'est', 'la', 'le', 'sous', 'table']\n",
      "Vocabulary output (5): ['cat', 'is', 'table', 'the', 'under']\n"
     ]
    }
   ],
   "source": [
    "# Create and sort the input vocabulary from the dictionary's keys\n",
    "vocabulary_in = sorted(list(set(dictionary.keys())))\n",
    "# Display the size and the sorted vocabulary for the input language\n",
    "print(f\"Vocabulary input ({len(vocabulary_in)}): {vocabulary_in}\")\n",
    "\n",
    "# Create and sort the output vocabulary from the dictionary's values\n",
    "vocabulary_out = sorted(list(set(dictionary.values())))\n",
    "# Display the size and the sorted vocabulary for the output language\n",
    "print(f\"Vocabulary output ({len(vocabulary_out)}): {vocabulary_out}\")"
   ]
  },
  {
   "cell_type": "markdown",
   "id": "b504d2b5-1573-4e88-aecd-92da534fd7d8",
   "metadata": {},
   "source": [
    "### Encode tokens using 'one hot' encoding\n"
   ]
  },
  {
   "cell_type": "code",
   "execution_count": 10,
   "id": "83486ab8-f975-414f-87c4-43550895f332",
   "metadata": {},
   "outputs": [],
   "source": [
    "# Function to convert a list of vocabulary words into one-hot encoded vectors\n",
    "def encode_one_hot(vocabulary):\n",
    "    vocabulary_size = len(vocabulary)  # Get the size of the vocabulary\n",
    "    one_hot = dict()  # Initialize a dictionary to hold our one-hot encodings\n",
    "    LEN = len(vocabulary)  # The length of each one-hot encoded vector will be equal to the vocabulary size\n",
    "    \n",
    "    # Iterate over the vocabulary to create a one-hot encoded vector for each word\n",
    "    for i, key in enumerate(vocabulary):\n",
    "        one_hot_vector = torch.zeros(LEN)  # Start with a vector of zeros\n",
    "        one_hot_vector[i] = 1  # Set the i-th position to 1 for the current word\n",
    "        one_hot[key] = one_hot_vector  # Map the word to its one-hot encoded vector\n",
    "        print(f\"{key}\\t: {one_hot[key]}\")  # Print each word and its encoded vector\n",
    "    \n",
    "    return one_hot  # Return the dictionary of words and their one-hot encoded vectors"
   ]
  },
  {
   "cell_type": "code",
   "execution_count": 11,
   "id": "568417f5-b0d1-4107-a884-bffb5a92140b",
   "metadata": {},
   "outputs": [
    {
     "name": "stdout",
     "output_type": "stream",
     "text": [
      "chat\t: tensor([1., 0., 0., 0., 0., 0.])\n",
      "est\t: tensor([0., 1., 0., 0., 0., 0.])\n",
      "la\t: tensor([0., 0., 1., 0., 0., 0.])\n",
      "le\t: tensor([0., 0., 0., 1., 0., 0.])\n",
      "sous\t: tensor([0., 0., 0., 0., 1., 0.])\n",
      "table\t: tensor([0., 0., 0., 0., 0., 1.])\n"
     ]
    }
   ],
   "source": [
    "# Apply the one-hot encoding function to the input vocabulary and store the result\n",
    "one_hot_in = encode_one_hot(vocabulary_in)"
   ]
  },
  {
   "cell_type": "code",
   "execution_count": 12,
   "id": "fa5b6096-f271-4860-af03-4c1b617ab31a",
   "metadata": {},
   "outputs": [
    {
     "name": "stdout",
     "output_type": "stream",
     "text": [
      "E_{ chat } =  tensor([1., 0., 0., 0., 0., 0.])\n",
      "E_{ est } =  tensor([0., 1., 0., 0., 0., 0.])\n",
      "E_{ la } =  tensor([0., 0., 1., 0., 0., 0.])\n",
      "E_{ le } =  tensor([0., 0., 0., 1., 0., 0.])\n",
      "E_{ sous } =  tensor([0., 0., 0., 0., 1., 0.])\n",
      "E_{ table } =  tensor([0., 0., 0., 0., 0., 1.])\n"
     ]
    }
   ],
   "source": [
    "# Iterate over the one-hot encoded input vocabulary and print each vector\n",
    "# This visualizes the one-hot representation for each word in the input vocabulary\n",
    "for k, v in one_hot_in.items():\n",
    "    print(f\"E_{{ {k} }} = \" , v)"
   ]
  },
  {
   "cell_type": "code",
   "execution_count": 13,
   "id": "a404586e-c2f4-40b2-a838-7bc1817587ce",
   "metadata": {},
   "outputs": [
    {
     "name": "stdout",
     "output_type": "stream",
     "text": [
      "cat\t: tensor([1., 0., 0., 0., 0.])\n",
      "is\t: tensor([0., 1., 0., 0., 0.])\n",
      "table\t: tensor([0., 0., 1., 0., 0.])\n",
      "the\t: tensor([0., 0., 0., 1., 0.])\n",
      "under\t: tensor([0., 0., 0., 0., 1.])\n"
     ]
    }
   ],
   "source": [
    "# Apply the one-hot encoding function to the output vocabulary and store the result\n",
    "# This time we're encoding the target language vocabulary\n",
    "one_hot_out = encode_one_hot(vocabulary_out)"
   ]
  },
  {
   "cell_type": "markdown",
   "id": "22fea7c2-420d-4981-b5de-8c9ec2c670dc",
   "metadata": {},
   "source": [
    "### Let's create a 'dictionary' using matrix multiplication\n",
    "\n",
    "We're now illustrating how to create a representation of our dictionary suitable for neural network operations:\n",
    "\n",
    "- **Matrix creation**: Using PyTorch's `torch.stack`, convert the one-hot encoded vectors for both input (`K`) and output (`V`) vocabularies into tensors. `K` is constructed from the input vocabulary's one-hot vectors, and `V` from the output vocabulary's vectors. These tensors can be thought of as a look-up table that our model will use to associate input tokens with output tokens.\n",
    "\n",
    "- **Dictionary as matrices**: This step effectively translates our word-to-word dictionary mapping into a neural network-friendly format. Each row in `K` corresponds to a word in the input language represented as a one-hot vector, and each row in `V` corresponds to the respective translated word in the output language.\n",
    "\n",
    "- **Query example**: An example shows how to use matrix operations to find a translation. Look up the one-hot vector for the word \"sous\" from the input vocabulary (`q`). Then demonstrate how to find its corresponding translation by performing matrix multiplication with the transpose of `K` (i.e., `q @ K.T`) to identify the index and then use that index to select the relevant row from `V`. This process mimics the lookup the you would perform in an actual neural network during translation tasks.\n",
    "\n",
    "This matrix representation is a precursor to understanding how more complex neural network architectures, like those using self-attention, manage token translations.\n"
   ]
  },
  {
   "cell_type": "code",
   "execution_count": 14,
   "id": "32ae6e4c-9340-40c1-b3f9-394555400a7a",
   "metadata": {},
   "outputs": [
    {
     "name": "stdout",
     "output_type": "stream",
     "text": [
      "tensor([[0., 0., 0., 1., 0., 0.],\n",
      "        [1., 0., 0., 0., 0., 0.],\n",
      "        [0., 1., 0., 0., 0., 0.],\n",
      "        [0., 0., 0., 0., 1., 0.],\n",
      "        [0., 0., 1., 0., 0., 0.],\n",
      "        [0., 0., 0., 0., 0., 1.]])\n"
     ]
    }
   ],
   "source": [
    "# Stacking the one-hot encoded vectors for input vocabulary to form a tensor\n",
    "K = torch.stack([one_hot_in[k] for k in dictionary.keys()])\n",
    "# K now represents a matrix of one-hot vectors for the input vocabulary\n",
    "\n",
    "# Display the tensor for verification\n",
    "print(K)"
   ]
  },
  {
   "cell_type": "code",
   "execution_count": 15,
   "id": "fdb346c9-6d8f-40ba-9ac4-13f194e99a31",
   "metadata": {},
   "outputs": [
    {
     "name": "stdout",
     "output_type": "stream",
     "text": [
      "tensor([[0., 0., 0., 1., 0.],\n",
      "        [1., 0., 0., 0., 0.],\n",
      "        [0., 1., 0., 0., 0.],\n",
      "        [0., 0., 0., 0., 1.],\n",
      "        [0., 0., 0., 1., 0.],\n",
      "        [0., 0., 1., 0., 0.]])\n"
     ]
    }
   ],
   "source": [
    "# Similarly, stack the one-hot encoded vectors for output vocabulary to form a tensor\n",
    "V = torch.stack([one_hot_out[k] for k in dictionary.values()])\n",
    "# V represents the corresponding matrix of one-hot vectors for the output vocabulary\n",
    "\n",
    "# Display the tensor for verification\n",
    "print(V)"
   ]
  },
  {
   "cell_type": "code",
   "execution_count": 16,
   "id": "94b0c22d-8b1f-4b7f-b3b7-539a8bae4fe2",
   "metadata": {},
   "outputs": [
    {
     "name": "stdout",
     "output_type": "stream",
     "text": [
      "Query token : tensor([0., 0., 0., 0., 1., 0.])\n"
     ]
    }
   ],
   "source": [
    "# Demonstrating how to look up a translation for a given word using matrix operations\n",
    "# Here, we take the one-hot representation of 'sous' from the input vocabulary\n",
    "q = one_hot_in['sous']\n",
    "# Display the query token vector\n",
    "print(\"Query token :\", q)"
   ]
  },
  {
   "cell_type": "code",
   "execution_count": 17,
   "id": "1a2569d6-e61f-4406-826e-815b47f34532",
   "metadata": {},
   "outputs": [
    {
     "name": "stdout",
     "output_type": "stream",
     "text": [
      "Select key (K) : tensor([0., 0., 0., 1., 0., 0.])\n"
     ]
    }
   ],
   "source": [
    "# Select the corresponding key vector in K (input dictionary matrix) using matrix multiplication\n",
    "# This operation gives us the index where 'sous' would be '1' in the one-hot encoded input matrix\n",
    "print(\"Select key (K) :\", q @ K.T)"
   ]
  },
  {
   "cell_type": "code",
   "execution_count": 18,
   "id": "7b6a9907-51f2-417e-b2b3-ed30c0bf14db",
   "metadata": {},
   "outputs": [
    {
     "name": "stdout",
     "output_type": "stream",
     "text": [
      "Select value (V): tensor([0., 0., 0., 0., 1.])\n"
     ]
    }
   ],
   "source": [
    "# Use the index found from the key selection to find the corresponding value vector in V (output dictionary matrix)\n",
    "# This operation selects the row from V that is the translation of 'sous' in the output vocabulary\n",
    "print(\"Select value (V):\", q @ K.T @ V)\n",
    "\n",
    "# The final output demonstrates how 'sous' can be translated using the neural network approach"
   ]
  },
  {
   "cell_type": "markdown",
   "id": "f5fe89e8-10be-47e0-963a-754d848b23c1",
   "metadata": {},
   "source": [
    "Query vector, K matrix, and V matrix:\n",
    "\n",
    "$$\n",
    "q = \\left[\\begin{matrix}\n",
    "  0 & 0 & 0 & 0 & 1 & 0\\\\\\\\\\\\\\\\\\\\\\\\\\\\\n",
    "\\end{matrix}\\right]\n",
    "; \\\n",
    "K = \\left[\\begin{matrix}\n",
    "  0 & 0 & 0 & 1 & 0 & 0\\\\\\\\\n",
    "  1 & 0 & 0 & 0 & 0 & 0\\\\\\\\\n",
    "  0 & 1 & 0 & 0 & 0 & 0\\\\\\\\\n",
    "  0 & 0 & 0 & 0 & 1 & 0\\\\\\\\\n",
    "  0 & 0 & 1 & 0 & 0 & 0\\\\\\\\\n",
    "  0 & 0 & 0 & 0 & 0 & 1\\\\\\\\\n",
    "\\end{matrix}\\right]\n",
    "; \\\n",
    "V = \\left[\\begin{matrix}\n",
    "  0 & 0 & 0 & 1 & 0\\\\\\\\\n",
    "  1 & 0 & 0 & 0 & 0\\\\\\\\\n",
    "  0 & 1 & 0 & 0 & 0\\\\\\\\\n",
    "  0 & 0 & 0 & 0 & 1\\\\\\\\\n",
    "  0 & 0 & 0 & 1 & 0\\\\\\\\\n",
    "  0 & 0 & 1 & 0 & 0\\\\\\\\\n",
    "\\end{matrix}\\right]\n",
    "$$\n"
   ]
  },
  {
   "cell_type": "markdown",
   "id": "5a41cef3-7d2e-487e-9c14-4cf69532f25d",
   "metadata": {},
   "source": [
    "The operation $q \\cdot K^T \\cdot V$ allows us to build a dictionary-like structure from a set of vectors\n",
    "\n",
    "This is an example on how to select the value from a query:\n",
    "\n",
    "$$\n",
    "q \\cdot K^T \\cdot V =\n",
    "\\left[\\begin{matrix}\n",
    "  0 & 0 & 0 & 0 & 1 & 0\\\\\\\\\\\\\\\\\\\\\\\\\\\\\n",
    "\\end{matrix}\\right]\n",
    "\\cdot\n",
    "\\left[\\begin{matrix}\n",
    "  0 & 1 & 0 & 0 & 0 & 0\\\\\\\\\n",
    "  0 & 0 & 1 & 0 & 0 & 0\\\\\\\\\n",
    "  0 & 0 & 0 & 0 & 1 & 0\\\\\\\\\n",
    "  1 & 0 & 0 & 0 & 0 & 0\\\\\\\\\n",
    "  0 & 0 & 0 & 1 & 0 & 0\\\\\\\\\n",
    "  0 & 0 & 0 & 0 & 0 & 1\\\\\\\\\n",
    "\\end{matrix}\\right]\n",
    "\\cdot\n",
    "\\left[\\begin{matrix}\n",
    "  0 & 0 & 0 & 1 & 0\\\\\\\\\n",
    "  1 & 0 & 0 & 0 & 0\\\\\\\\\n",
    "  0 & 1 & 0 & 0 & 0\\\\\\\\\n",
    "  0 & 0 & 0 & 0 & 1\\\\\\\\\n",
    "  0 & 0 & 0 & 1 & 0\\\\\\\\\n",
    "  0 & 0 & 1 & 0 & 0\\\\\\\\\n",
    "\\end{matrix}\\right]\n",
    "$$\n"
   ]
  },
  {
   "cell_type": "markdown",
   "id": "9e326f9a-c3fb-4f61-8cb9-0238f8310108",
   "metadata": {},
   "source": [
    "$$\n",
    "q \\cdot K^T \\cdot V =\n",
    "%\\hspace{2cm}\n",
    "\\left[\\begin{matrix}\n",
    "  0 & 0 & 0 & 1 & 0 & 0\\\\\\\\\\\\\\\\\\\\\\\\\\\\\n",
    "\\end{matrix}\\right]\n",
    "%\\hspace{2.5cm}\n",
    "\\cdot\n",
    "\\left[\\begin{matrix}\n",
    "  0 & 0 & 0 & 1 & 0\\\\\\\\\n",
    "  1 & 0 & 0 & 0 & 0\\\\\\\\\n",
    "  0 & 1 & 0 & 0 & 0\\\\\\\\\n",
    "  0 & 0 & 0 & 0 & 1\\\\\\\\\n",
    "  0 & 0 & 0 & 1 & 0\\\\\\\\\n",
    "  0 & 0 & 1 & 0 & 0\\\\\\\\\n",
    "\\end{matrix}\\right]\n",
    "\\hspace{4.5cm}\n",
    "$$\n"
   ]
  },
  {
   "cell_type": "markdown",
   "id": "6767222e-c355-4b40-8346-527c0701f4fc",
   "metadata": {},
   "source": [
    "$$\n",
    "q \\cdot K^T \\cdot V\n",
    "=\n",
    "%\\hspace{3.5cm}\n",
    "\\left[\\begin{matrix}\n",
    "0 & 0 & 0 & 0 & 1\\\\\\\\\\\\\\\\\\\\\\\\\\\\\n",
    "\\end{matrix}\\right]\n",
    "%\\hspace{3.5cm}\n",
    "\\hspace{9cm}\n",
    "$$\n"
   ]
  },
  {
   "cell_type": "markdown",
   "id": "d6c9ee4f-a702-4de4-8e69-e204d9c23339",
   "metadata": {},
   "source": [
    "The code introduces a function for decoding one-hot vectors to tokens and updates the translation function to utilize matrix multiplication:\n",
    "\n",
    "### Decode one-hot vector\n",
    "The `decode_one_hot` function is designed to decode a one-hot encoded vector back into the corresponding token (word). It does this by finding the token whose one-hot representation has the highest cosine similarity with the given vector, which is effectively just the dot product due to the nature of one-hot vectors.\n"
   ]
  },
  {
   "cell_type": "code",
   "execution_count": 19,
   "id": "ffb0f4e2-9ef5-4df6-92e9-5f71cb9520ae",
   "metadata": {},
   "outputs": [],
   "source": [
    "def decode_one_hot(one_hot, vector):\n",
    "    \"\"\" \n",
    "    Decode a one-hot encoded vector to find the best matching token in the vocabulary.\n",
    "    \"\"\"\n",
    "    best_key, best_cosine_sim = None, 0\n",
    "    for k, v in one_hot.items():  # Iterate over the one-hot encoded vocabulary\n",
    "        cosine_sim = torch.dot(vector, v)  # Calculate dot product (cosine similarity)\n",
    "        if cosine_sim > best_cosine_sim:  # If this is the best similarity we've found\n",
    "            best_cosine_sim, best_key = cosine_sim, k  # Update the best similarity and token\n",
    "    return best_key  # Return the token corresponding to the one-hot vector"
   ]
  },
  {
   "cell_type": "markdown",
   "id": "e6520b1f-3b48-4de1-b03e-e2215c434317",
   "metadata": {},
   "source": [
    "### Matrix-based translate function\n",
    "The `translate` function now leverages matrix operations to perform the translation. For each token in the input sentence, it finds its one-hot vector, multiplies it with the matrices `K.T` and `V` to find the corresponding one-hot vector in the output vocabulary, and then decodes this vector to get the translated word.\n"
   ]
  },
  {
   "cell_type": "code",
   "execution_count": 20,
   "id": "58943664-cf56-42e1-864c-55cc30f1752c",
   "metadata": {},
   "outputs": [],
   "source": [
    "def translate(sentence):\n",
    "    \"\"\" \n",
    "    Translate a sentence using matrix multiplication, treating the dictionaries as matrices.\n",
    "    \"\"\"\n",
    "    sentence_out = ''  # Initialize the output sentence\n",
    "    for token_in in tokenize(sentence):  # Tokenize the input sentence\n",
    "        q = one_hot_in[token_in]  # Find the one-hot vector for the token\n",
    "        out = q @ K.T @ V  # Multiply with the input and output matrices to find the translation\n",
    "        token_out = decode_one_hot(one_hot_out, out)  # Decode the output one-hot vector to a token\n",
    "        sentence_out += token_out + ' '  # Append the translated token to the output sentence\n",
    "    return sentence_out.strip()  # Return the translated sentence"
   ]
  },
  {
   "cell_type": "markdown",
   "id": "4714713f-5be8-4a75-93fd-24265100ac6d",
   "metadata": {},
   "source": [
    "### Translation test\n",
    "The improved translate function is tested with the sentence \"le chat est sous la table\", verifying that it correctly translates to \"the cat is under the table\" using the matrix operations for a seamless word-by-word translation.\n"
   ]
  },
  {
   "cell_type": "code",
   "execution_count": 21,
   "id": "84dafab2-d3b5-400a-bd0b-fde2c5cdd608",
   "metadata": {},
   "outputs": [
    {
     "data": {
      "text/plain": [
       "'the cat is under the table'"
      ]
     },
     "execution_count": 21,
     "metadata": {},
     "output_type": "execute_result"
    }
   ],
   "source": [
    "translate(\"le chat est sous la table\")"
   ]
  },
  {
   "cell_type": "markdown",
   "id": "dbc878d5-94b6-4416-904b-824e9122107c",
   "metadata": {},
   "source": [
    "\n",
    "This enhanced approach shows how neural network models can translate languages by representing the translation dictionary as matrices and using vector operations.\n"
   ]
  },
  {
   "cell_type": "markdown",
   "id": "ed24fe1c-2788-43fa-bbde-b3669f46ec5f",
   "metadata": {},
   "source": [
    "**The next code segment introduces concepts that lead up to the implementation of \"Attention\" in neural networks:**\n"
   ]
  },
  {
   "cell_type": "markdown",
   "id": "e06e5771-e1e4-4095-86b4-98ae7efc0ec0",
   "metadata": {},
   "source": [
    "### Softmax function for similarity\n",
    "It is explained that similar tokens will have similar vectors, and a softmax function is added to the equation. This function is applied to the output of the matrix multiplication of the query vector `q` and the transpose of the matrix `K`. The softmax function converts these values into probabilities, emphasizing the most similar token while still considering the others.\n"
   ]
  },
  {
   "cell_type": "code",
   "execution_count": 22,
   "id": "0ad012e0-540a-4fcc-abec-82b060870863",
   "metadata": {},
   "outputs": [
    {
     "name": "stdout",
     "output_type": "stream",
     "text": [
      "E_{table} =  tensor([0., 0., 0., 0., 0., 1.])\n"
     ]
    }
   ],
   "source": [
    "print('E_{table} = ', one_hot_in['table'])"
   ]
  },
  {
   "cell_type": "markdown",
   "id": "608bf999-7e0d-4870-9e14-681dd40802b9",
   "metadata": {},
   "source": [
    "$$\n",
    "E_{table} =  \\left[\\begin{matrix}\n",
    "  0 & 0 & 0 & 0 & 0 & 1\\\\\\\\\\\\\\\\\\\\\\\\\\\\\n",
    "\\end{matrix}\\right]\n",
    "\\ \\ \\\n",
    "$$\n",
    "\n",
    "$$\n",
    "E_{tables} =  \\left[\\begin{matrix}\n",
    "  0 & 0 & 0 & 0 & 0 & 0.95\\\\\\\\\n",
    "\\end{matrix}\\right]\n",
    "$$\n"
   ]
  },
  {
   "cell_type": "markdown",
   "id": "69518bdb-b899-421b-842f-c18d86b64011",
   "metadata": {},
   "source": [
    "Our new equation is:\n",
    "$$\n",
    "softmax(q \\cdot K^T) \\cdot V\n",
    "$$\n",
    "\n",
    "Let's adjust using by the dimensionality of the query vector, and you'll get:\n",
    "\n",
    "$$\n",
    "softmax\\left( \\frac{q \\cdot K^T}{\\sqrt{d}} \\right) \\cdot V\n",
    "$$\n"
   ]
  },
  {
   "cell_type": "markdown",
   "id": "deaa4434-809d-41bf-b70f-19be6a8ef243",
   "metadata": {},
   "source": [
    "### Translation with attention mechanism\n",
    "The `translate` function is modified to use the softmax function as a way of applying attention. It first finds the one-hot vector for the token, then applies the softmax function to the dot product of `q` and `K.T`, scales it by the square root of the dimensionality (for normalization purposes), and finally multiplies this by `V` to get the output vector.\n"
   ]
  },
  {
   "cell_type": "code",
   "execution_count": 23,
   "id": "f879ee67-8d85-4f7d-a6ab-bfe50017809d",
   "metadata": {},
   "outputs": [
    {
     "data": {
      "text/plain": [
       "'the cat is under the table'"
      ]
     },
     "execution_count": 23,
     "metadata": {},
     "output_type": "execute_result"
    }
   ],
   "source": [
    "def translate(sentence):\n",
    "    \"\"\"\n",
    "    Translate a sentence using the attention mechanism represented by the K and V matrices.\n",
    "    The softmax function is used to calculate a weighted sum of the V vectors, focusing on the most relevant vector for translation.\n",
    "    \"\"\"\n",
    "    sentence_out = ''  # Initialize the output sentence\n",
    "    for token_in in tokenize(sentence):  # Tokenize the input sentence\n",
    "        q = one_hot_in[token_in]  # Get the one-hot vector for the current token\n",
    "        # Apply softmax to the scaled dot product of q and K.T, then multiply by V\n",
    "        # This selects the most relevant translation vector from V\n",
    "        out = torch.softmax(q @ K.T, dim=0) @ V\n",
    "        token_out = decode_one_hot(one_hot_out, out)  # Decode the output vector to a token\n",
    "        sentence_out += token_out + ' '  # Append the translated token to the output sentence\n",
    "    return sentence_out.strip()  # Return the translated sentence\n",
    "\n",
    "# Test the translate function\n",
    "translate(\"le chat est sous la table\")"
   ]
  },
  {
   "cell_type": "markdown",
   "id": "49c5269e-84a3-4235-86dc-f07b9dfa5863",
   "metadata": {},
   "source": [
    "**Test Translation**: The updated translate function is tested to ensure it correctly processes the sample sentence \"le chat est sous la table\", translating it to \"the cat is under the table\". This verifies that the attention mechanism implemented using softmax works as intended.\n",
    "\n",
    "This step marks the progression from simple look-up-based translation to an attention-based approach, introducing students to a key component of modern neural translation models.\n"
   ]
  },
  {
   "cell_type": "markdown",
   "id": "630d4656-8cff-4063-b556-2da93b61c609",
   "metadata": {},
   "source": [
    "**The next part of the code demonstrates an improvement in the translation process by handling all queries in parallel:**\n"
   ]
  },
  {
   "cell_type": "markdown",
   "id": "eaad031c-fb03-46b4-80c4-053652df6256",
   "metadata": {},
   "source": [
    "### Creating the 'Q' matrix\n",
    "The matrix `Q` is constructed by stacking the one-hot encoded vectors of all tokens in the input sentence. This parallelizes the process of preparing the query vectors, which is more efficient than doing it sequentially.\n"
   ]
  },
  {
   "cell_type": "code",
   "execution_count": 24,
   "id": "b5825e04-3dbe-4dc0-b718-462e07cfd40e",
   "metadata": {},
   "outputs": [
    {
     "name": "stdout",
     "output_type": "stream",
     "text": [
      "tensor([[0., 0., 0., 1., 0., 0.],\n",
      "        [1., 0., 0., 0., 0., 0.],\n",
      "        [0., 1., 0., 0., 0., 0.],\n",
      "        [0., 0., 0., 0., 1., 0.],\n",
      "        [0., 0., 1., 0., 0., 0.],\n",
      "        [0., 0., 0., 0., 0., 1.]])\n"
     ]
    }
   ],
   "source": [
    "# The sentence we want to translate\n",
    "sentence = \"le chat est sous la table\"\n",
    "\n",
    "# Stack all the one-hot encoded vectors for the tokens in the sentence to form the Q matrix\n",
    "Q = torch.stack([one_hot_in[token] for token in tokenize(sentence)])\n",
    "\n",
    "# Display the Q matrix\n",
    "print(Q)"
   ]
  },
  {
   "cell_type": "markdown",
   "id": "df191cb9-2649-4112-882b-523a518041fb",
   "metadata": {},
   "source": [
    "$$\n",
    "Q = \\left[\\begin{matrix}\n",
    "  0 & 0 & 0 & 1 & 0 & 0 \\\\\\\\\\\\\\\\\\\\\\\\\\\\\n",
    "  1 & 0 & 0 & 0 & 0 & 0 \\\\\\\\\n",
    "  0 & 1 & 0 & 0 & 0 & 0 \\\\\\\\\n",
    "  0 & 0 & 0 & 0 & 1 & 0 \\\\\\\\\n",
    "  0 & 0 & 1 & 0 & 0 & 0 \\\\\\\\\n",
    "  0 & 0 & 0 & 0 & 0 & 1 \\\\\\\\\n",
    "\\end{matrix}\\right]\n",
    "$$\n"
   ]
  },
  {
   "cell_type": "markdown",
   "id": "4826f09e-5205-49fc-811d-115c89268210",
   "metadata": {},
   "source": [
    "$$\n",
    "Attention(Q, K, V) = softmax\\left( \\frac{Q \\cdot K^T}{\\sqrt{d}} \\right) V\n",
    "$$\n"
   ]
  },
  {
   "cell_type": "markdown",
   "id": "afb50dd1-3249-4654-917c-4074cd568a5e",
   "metadata": {},
   "source": [
    "### Updated translate function\n",
    "The `translate` function is revised to use matrix multiplication across the entire sentence. Instead of translating word by word, it now uses the \"Q\" matrix to perform the operation in parallel for all words.\n"
   ]
  },
  {
   "cell_type": "code",
   "execution_count": 25,
   "id": "ae20878d-201f-4355-b571-3664df6438de",
   "metadata": {},
   "outputs": [
    {
     "data": {
      "text/plain": [
       "'the cat is under the table'"
      ]
     },
     "execution_count": 25,
     "metadata": {},
     "output_type": "execute_result"
    }
   ],
   "source": [
    "def translate(sentence):\n",
    "    \"\"\"\n",
    "    Translate a sentence using matrix multiplication in parallel.\n",
    "    This function replaces the iterative approach with a single matrix multiplication step,\n",
    "    applying the attention mechanism across all tokens at once.\n",
    "    \"\"\"\n",
    "    # Tokenize the sentence and stack the one-hot vectors to form the Q matrix\n",
    "    Q = torch.stack([one_hot_in[token] for token in tokenize(sentence)])\n",
    "    \n",
    "    # Apply softmax to the dot product of Q and K.T and multiply by V\n",
    "    # This will give us the output vectors for all tokens in parallel\n",
    "    out = torch.softmax(Q @ K.T, 0) @ V\n",
    "    \n",
    "    # Decode each one-hot vector in the output to the corresponding token\n",
    "    # And join the tokens to form the translated sentence\n",
    "    return ' '.join([decode_one_hot(one_hot_out, o) for o in out])\n",
    "    \n",
    "# Test the function to ensure it produces the correct translation\n",
    "translate(\"le chat est sous la table\")"
   ]
  },
  {
   "cell_type": "markdown",
   "id": "12b5380e-d737-471b-81fb-a668df5bb5c4",
   "metadata": {},
   "source": [
    "- **Efficiency improvement**: By applying operations to the entire sentence at once, this approach simulates a key aspect of the actual attention mechanism used in neural networks, which is processing multiple components of input data in parallel for faster computation.\n",
    "\n",
    "- **Test output**: The updated function correctly translates the French sentence \"le chat est sous la table\" to \"the cat is under the table\", confirming that the parallelization works effectively.\n",
    "\n",
    "This optimization hints at the computational advantages of matrix operations in neural networks, particularly for tasks like translation which benefit from parallel processing.\n"
   ]
  },
  {
   "cell_type": "markdown",
   "id": "67767ef5-9df9-417c-aba5-3f9124f27336",
   "metadata": {},
   "source": [
    "## Self-attention class (optional)\n",
    "In this section, you will learn how to create self-attention heads from scratch. This is an optional component in the lab because you can also create self-attention heads using PyTorch transformer models in `nn.torch` which is discussed in [Transformers in PyTorch](#torchtr). \n",
    "\n",
    "The `Head` class represents a self-attention head. It extends PyTorch's `nn.Module`, making it a part of a neural network that can learn from data.\n",
    "\n",
    "<p style=\"text-align:center\">\n",
    "    <img src=\"https://cf-courses-data.s3.us.cloud-object-storage.appdomain.cloud/IBMSkillsNetwork-AI0201EN-Coursera/attention.png\" width=\"200\" alt=\"attention\"/>\n",
    "</p>\n"
   ]
  },
  {
   "cell_type": "markdown",
   "id": "3c67778e-8001-4b37-8f94-4cc7124a077c",
   "metadata": {},
   "source": [
    "$$\n",
    "Attention(Q, K, V)  => Attention(Q \\cdot W^Q, K \\cdot W^K, V \\cdot W^V)\n",
    "$$\n"
   ]
  },
  {
   "cell_type": "code",
   "execution_count": 26,
   "id": "4dc5abc9-23fa-4f85-a5ff-5d3a6bbbeeb7",
   "metadata": {},
   "outputs": [],
   "source": [
    "class Head(nn.Module):\n",
    "    \"\"\" Self attention head. This class implements a self-attention mechanism\n",
    "        which is a key component of transformer-based neural network architectures. \"\"\"\n",
    "\n",
    "    def __init__(self):\n",
    "        super().__init__()  # Initialize the superclass (nn.Module)\n",
    "        # Embedding layer to convert input token indices to vectors of fixed size (n_embd)\n",
    "        self.embedding = nn.Embedding(vocab_size, n_embd)\n",
    "        # Linear layers to compute the queries, keys, and values from the embeddings\n",
    "        self.key = nn.Linear(n_embd, n_embd, bias=False)\n",
    "        self.query = nn.Linear(n_embd, n_embd, bias=False)\n",
    "        self.value = nn.Linear(n_embd, n_embd, bias=False)\n",
    "\n",
    "    def attention(self, x):\n",
    "        embedded_x = self.embedding(x)\n",
    "        k = self.key(embedded_x)\n",
    "        q = self.query(embedded_x)\n",
    "        v = self.value(embedded_x)\n",
    "        # Attention score\n",
    "        w = q @ k.transpose(-2, -1) * k.shape[-1]**-0.5   # Query * Keys / normalization\n",
    "        w = F.softmax(w, dim=-1)  # Do a softmax across the last dimesion\n",
    "        return embedded_x,k,q,v,w\n",
    "    \n",
    "    def forward(self, x):\n",
    "        embedded_x = self.embedding(x)\n",
    "        k = self.key(embedded_x)\n",
    "        q = self.query(embedded_x)\n",
    "        v = self.value(embedded_x)\n",
    "        # Attention score\n",
    "        w = q @ k.transpose(-2, -1) * k.shape[-1]**-0.5   # Query * Keys / normalization\n",
    "        w = F.softmax(w, dim=-1)  # Do a softmax across the last dimesion\n",
    "        # Add weighted values\n",
    "        out = w @ v\n",
    "        return out"
   ]
  },
  {
   "cell_type": "markdown",
   "id": "6c03faaf-a353-4dcc-a8b4-85fd481a33e9",
   "metadata": {},
   "source": [
    "### Dataset definition\n",
    "To illustrate the transformations on input text, a sample dataset is defined, which appears to be a list of tuples, each containing an ID and a string of text related to various NLP tasks.\n"
   ]
  },
  {
   "cell_type": "code",
   "execution_count": 27,
   "id": "b8767f47-593e-4163-8115-527261812a9c",
   "metadata": {},
   "outputs": [],
   "source": [
    "dataset = [\n",
    "    (1,\"Introduction to NLP\"),\n",
    "    (2,\"Basics of PyTorch\"),\n",
    "    (1,\"NLP Techniques for Text Classification\"),\n",
    "    (3,\"Named Entity Recognition with PyTorch\"),\n",
    "    (3,\"Sentiment Analysis using PyTorch\"),\n",
    "    (3,\"Machine Translation with PyTorch\"),\n",
    "    (1,\" NLP Named Entity,Sentiment Analysis,Machine Translation \"),\n",
    "    (1,\" Machine Translation with NLP \"),\n",
    "    (1,\" Named Entity vs Sentiment Analysis  NLP \"),\n",
    "    (3,\"he painted the car red\"),\n",
    "    (1,\"he painted the red car\")\n",
    "    ]"
   ]
  },
  {
   "cell_type": "markdown",
   "id": "4f5c080f-79cb-4a3a-87cc-1badbda156b5",
   "metadata": {},
   "source": [
    "### Tokenization setup\n",
    "A tokenizer is created using `torchtext`'s `get_tokenizer` function which will break down strings into tokens (words).\n"
   ]
  },
  {
   "cell_type": "code",
   "execution_count": 28,
   "id": "ac83e956-d4d1-4b3a-afc7-33dea14e206f",
   "metadata": {},
   "outputs": [],
   "source": [
    "tokenizer = get_tokenizer(\"basic_english\")  # Get a basic English tokenizer"
   ]
  },
  {
   "cell_type": "markdown",
   "id": "78fac3f7-c9c6-4749-b358-f86ed0073ad0",
   "metadata": {},
   "source": [
    "### Vocabulary building\n",
    "The function `yield_tokens` iterates over the dataset and yields tokenized versions of the text data. These tokens are then used by `build_vocab_from_iterator` to create a vocabulary object, which includes a special `<unk>` token for unknown words.\n"
   ]
  },
  {
   "cell_type": "code",
   "execution_count": 29,
   "id": "03eed9ea-fbc2-46bb-9579-80ba303cd269",
   "metadata": {},
   "outputs": [],
   "source": [
    "def yield_tokens(data_iter):\n",
    "    \"\"\"Yield list of tokens in the dataset.\"\"\"\n",
    "    for _, text in data_iter:\n",
    "        yield tokenizer(text)\n",
    "\n",
    "vocab = build_vocab_from_iterator(yield_tokens(dataset), specials=[\"<unk>\"])\n",
    "vocab.set_default_index(vocab[\"<unk>\"])  # Set default index for unknown words"
   ]
  },
  {
   "cell_type": "markdown",
   "id": "1f03cf4e-b005-4d1f-a0cd-45ea146f843d",
   "metadata": {},
   "source": [
    "### Text processing pipeline\n",
    "A `text_pipeline` function is defined to convert raw text strings into token indices using the tokenizer and the vocabulary.\n"
   ]
  },
  {
   "cell_type": "code",
   "execution_count": 30,
   "id": "91d95d93-6e57-468c-a4c7-f7049e045fd4",
   "metadata": {},
   "outputs": [],
   "source": [
    "def text_pipeline(x):\n",
    "    \"\"\"Converts a text string to a list of token indices.\"\"\"\n",
    "    return vocab(tokenizer(x))  # Tokenize the input and map each token to its index in the vocabulary"
   ]
  },
  {
   "cell_type": "markdown",
   "id": "6c5937d2-f5b9-4cfb-86fe-0463d2ed30be",
   "metadata": {},
   "source": [
    "### Hyperparameter definition\n",
    "Hyperparameters for the model are specified, including the size of the vocabulary and the embedding dimension.\n"
   ]
  },
  {
   "cell_type": "code",
   "execution_count": 31,
   "id": "2a01436c-6724-42ee-b582-79a91c8623ed",
   "metadata": {},
   "outputs": [],
   "source": [
    "vocab_size = len(vocab)  # Total number of tokens in the vocabulary\n",
    "n_embd = 3  # Dimension of the embedding space\n",
    "\n",
    "# Create the attention head with the integrated embedding layer\n",
    "attention_head = Head()"
   ]
  },
  {
   "cell_type": "markdown",
   "id": "b27a01b4-a2bc-4551-bc8f-3d8e90418200",
   "metadata": {},
   "source": [
    "### Dummy data for testing\n",
    "Dummy input data is created for testing, and the `text_pipeline` function is applied to convert the input text into a tensor of token indices, which will be used as input to the neural network model.\n"
   ]
  },
  {
   "cell_type": "code",
   "execution_count": 32,
   "id": "c943007c-1a40-460c-acfa-9b8352884064",
   "metadata": {},
   "outputs": [
    {
     "name": "stdout",
     "output_type": "stream",
     "text": [
      "torch.Size([5])\n",
      "tensor([12, 13, 15, 11, 14])\n"
     ]
    }
   ],
   "source": [
    "# Define the sentence to be tokenized and converted to indices\n",
    "my_tokens = 'he painted the car red'\n",
    "# Apply the text pipeline to the sentence to get token indices\n",
    "input_data = torch.tensor(text_pipeline(my_tokens), dtype=torch.long)\n",
    "\n",
    "# Print out the shape and the token indices tensor\n",
    "print(input_data.shape)\n",
    "print(input_data)"
   ]
  },
  {
   "cell_type": "code",
   "execution_count": 33,
   "id": "a004198d-0d3b-4956-8ba9-e56443083d4a",
   "metadata": {},
   "outputs": [
    {
     "name": "stdout",
     "output_type": "stream",
     "text": [
      "torch.Size([5, 3])\n",
      "embedded_x: tensor([[ 3.8353e-01, -3.7310e-01, -3.0708e-01],\n",
      "        [-6.3931e-03, -3.0599e+00, -9.0247e-01],\n",
      "        [-2.5710e-01,  6.1483e-01, -4.6448e-01],\n",
      "        [-1.4946e-02, -6.0065e-01, -2.3208e-01],\n",
      "        [ 9.3918e-01,  8.6484e-01, -2.4804e-03]], grad_fn=<EmbeddingBackward0>)\n"
     ]
    }
   ],
   "source": [
    "# Pass the tokenized input data through the embedding layer and the attention mechanism of the Head class\n",
    "embedded_x, k, q, v, w = attention_head.attention(input_data)\n",
    "\n",
    "# Print the size of the resulting embedded vector for verification\n",
    "print(embedded_x.shape)  # Should show the shape as [number of tokens, embedding dimension]\n",
    "print(\"embedded_x:\", embedded_x)  # The actual embedded representations of the input tokens"
   ]
  },
  {
   "cell_type": "code",
   "execution_count": 34,
   "id": "3d342281-e962-4eee-85f4-a5e5942b6e49",
   "metadata": {},
   "outputs": [
    {
     "name": "stdout",
     "output_type": "stream",
     "text": [
      "k: torch.Size([5, 3])\n",
      "q: torch.Size([5, 3])\n",
      "v: torch.Size([5, 3])\n",
      "w: torch.Size([5, 5])\n"
     ]
    }
   ],
   "source": [
    "# Print the shapes of the key, query, value, and attention weight matrices\n",
    "# This helps verify the dimensions are as expected for the attention calculations\n",
    "print(\"k:\", k.shape)  # The shape of the keys tensor\n",
    "print(\"q:\", q.shape)  # The shape of the queries tensor\n",
    "print(\"v:\", v.shape)  # The shape of the values tensor\n",
    "print(\"w:\", w.shape)  # The shape of the attention weights tensor"
   ]
  },
  {
   "cell_type": "code",
   "execution_count": 35,
   "id": "46e5e02e-1771-492e-bae0-c99057ac5419",
   "metadata": {},
   "outputs": [
    {
     "name": "stdout",
     "output_type": "stream",
     "text": [
      "torch.Size([5, 3])\n",
      "tensor([[ 0.0993, -0.1280, -0.0550],\n",
      "        [-0.3217,  0.0603,  0.1724],\n",
      "        [ 0.2233, -0.1892, -0.1381],\n",
      "        [ 0.0462, -0.1047, -0.0290],\n",
      "        [ 0.4038, -0.2748, -0.2429]], grad_fn=<MmBackward0>)\n"
     ]
    }
   ],
   "source": [
    "# Now we actually pass the input data through the entire attention head to get the output\n",
    "output = attention_head(input_data)\n",
    "\n",
    "# Print the output and its shape, which should match the shape of the input\n",
    "# The output tensor contains the final attention-applied representations of the input\n",
    "print(output.shape)\n",
    "print(output)"
   ]
  },
  {
   "cell_type": "markdown",
   "id": "1a3f793b-8272-4acb-bce1-2b10aa0c8e92",
   "metadata": {},
   "source": [
    "# Positional encoding\n",
    "\n",
    "To illustrate, consider the sentences: 'He painted the car red' and 'He painted the red car.' These sentences have different meanings due to the different positions of the words 'red' and 'car.' Properly implemented positional encodings would allow the model to distinguish between the positions of these words, ensuring that the embeddings for these sentences are distinct.\n"
   ]
  },
  {
   "cell_type": "markdown",
   "id": "7abf0d3a-d721-4964-9740-d10e4342eeb9",
   "metadata": {},
   "source": [
    "In sequence processing tasks, it's crucial for the model to understand the positions of elements within a sequence. Achieve this by associating each sample with a unique position index, denoted as $p_{n}=n$, where $n$ represents the sample's position in the sequence. To elaborate, let's consider a sequence of elements. Start by assigning index 0 to the first element, index 1 to the second, and so forth. This simple yet effective technique enables the model to grasp the relative positions of elements in the sequence. Importantly, this method remains reliable even when dealing with long sequences, extending as far as our vocabulary allows. By incorporating positional encodings, our model gains a deep understanding of the order and arrangement of elements, enhancing its performance in various sequence-related tasks.\n",
    "\n",
    "The position printed below incorporates the whole length of the vocabulary size.\n"
   ]
  },
  {
   "cell_type": "code",
   "execution_count": 36,
   "id": "9d627a5c-bb37-4ef6-ac8f-7ee3d58c8432",
   "metadata": {},
   "outputs": [
    {
     "name": "stdout",
     "output_type": "stream",
     "text": [
      "Word: <unk>, Position Index: 0.0\n",
      "Word: nlp, Position Index: 1.0\n",
      "Word: pytorch, Position Index: 2.0\n",
      "Word: analysis, Position Index: 3.0\n",
      "Word: entity, Position Index: 4.0\n",
      "Word: machine, Position Index: 5.0\n",
      "Word: named, Position Index: 6.0\n",
      "Word: sentiment, Position Index: 7.0\n",
      "Word: translation, Position Index: 8.0\n",
      "Word: with, Position Index: 9.0\n",
      "Word: ,, Position Index: 10.0\n",
      "Word: car, Position Index: 11.0\n",
      "Word: he, Position Index: 12.0\n",
      "Word: painted, Position Index: 13.0\n",
      "Word: red, Position Index: 14.0\n",
      "Word: the, Position Index: 15.0\n",
      "Word: basics, Position Index: 16.0\n",
      "Word: classification, Position Index: 17.0\n",
      "Word: for, Position Index: 18.0\n",
      "Word: introduction, Position Index: 19.0\n",
      "Word: of, Position Index: 20.0\n",
      "Word: recognition, Position Index: 21.0\n",
      "Word: techniques, Position Index: 22.0\n",
      "Word: text, Position Index: 23.0\n",
      "Word: to, Position Index: 24.0\n",
      "Word: using, Position Index: 25.0\n",
      "Word: vs, Position Index: 26.0\n"
     ]
    }
   ],
   "source": [
    "# Generate a range of position indices from 0 to the size of the vocabulary\n",
    "position = torch.arange(0, vocab_size, dtype=torch.float).unsqueeze(1)\n",
    "\n",
    "# Retrieve the list of words from the vocabulary object\n",
    "vocab_list = list(vocab.get_itos())\n",
    "\n",
    "# Iterate over the range of vocabulary size\n",
    "for idx in range(vocab_size):\n",
    "    word = vocab_list[idx]  # Get the word from the vocabulary list at the current index\n",
    "    pos = position[idx][0].item()  # Extract the numerical value of the position index from the tensor\n",
    "    print(f\"Word: {word}, Position Index: {pos}\")"
   ]
  },
  {
   "cell_type": "markdown",
   "id": "b4b3fec7-14db-480f-b2c1-f044dbf484fb",
   "metadata": {},
   "source": [
    "In positional encodings, each dimension \\(d\\) within the embedding holds specific importance, denoted as $\\textbf{p}_{n,d}$. For example, if you have an embedding dimension of three, the positional encodings $\\textbf{p}_{n,d}$ ​are represented as $[\\text{ }p_{n,1},\\text{ }p_{n,2},\\text{ }p_{n,3}]$. These values correspond to a three-dimensional embedding for each token, capturing its position and unique characteristics within the sequence. By organizing positional information this way, the model gains a richer understanding of the relationship between tokens.\n"
   ]
  },
  {
   "cell_type": "code",
   "execution_count": 37,
   "id": "e16b0438-1a95-4e17-8555-90183e6123c1",
   "metadata": {},
   "outputs": [
    {
     "data": {
      "text/plain": [
       "tensor([[ 0.,  0.,  0.],\n",
       "        [ 1.,  1.,  1.],\n",
       "        [ 2.,  2.,  2.],\n",
       "        [ 3.,  3.,  3.],\n",
       "        [ 4.,  4.,  4.],\n",
       "        [ 5.,  5.,  5.],\n",
       "        [ 6.,  6.,  6.],\n",
       "        [ 7.,  7.,  7.],\n",
       "        [ 8.,  8.,  8.],\n",
       "        [ 9.,  9.,  9.],\n",
       "        [10., 10., 10.],\n",
       "        [11., 11., 11.],\n",
       "        [12., 12., 12.],\n",
       "        [13., 13., 13.],\n",
       "        [14., 14., 14.],\n",
       "        [15., 15., 15.],\n",
       "        [16., 16., 16.],\n",
       "        [17., 17., 17.],\n",
       "        [18., 18., 18.],\n",
       "        [19., 19., 19.],\n",
       "        [20., 20., 20.],\n",
       "        [21., 21., 21.],\n",
       "        [22., 22., 22.],\n",
       "        [23., 23., 23.],\n",
       "        [24., 24., 24.],\n",
       "        [25., 25., 25.],\n",
       "        [26., 26., 26.]])"
      ]
     },
     "execution_count": 37,
     "metadata": {},
     "output_type": "execute_result"
    }
   ],
   "source": [
    "# Initialize a matrix of zeros with dimensions [vocab_size, n_embd]\n",
    "# This will be used to hold the positional encodings for each word in the vocabulary\n",
    "pe = torch.zeros(vocab_size, n_embd)\n",
    "\n",
    "# Concatenate the position tensor three times along dimension 1 (columns)\n",
    "# This simplistic example is likely a placeholder for a more complex function of position that would be used in a real positional encoding\n",
    "pe = torch.cat((position, position, position), 1)\n",
    "\n",
    "# Display the positional encoding tensor\n",
    "# In an actual implementation, this would involve a more sophisticated method that reflects the position's impact on the embeddings\n",
    "pe"
   ]
  },
  {
   "cell_type": "markdown",
   "id": "cdc03f7c-e133-49c1-bcd9-8fe335201360",
   "metadata": {},
   "source": [
    "You only need positional encodings for each sequence of embeddings, to determine this. Next, count the number of embeddings in the sequence. Refer to the sentence 'he painted the car red he painted the red car' in my **`my_embdings`**.\n"
   ]
  },
  {
   "cell_type": "code",
   "execution_count": 38,
   "id": "700b7da1-88d2-4cec-b6a9-2d2f25a68dd3",
   "metadata": {},
   "outputs": [
    {
     "data": {
      "text/plain": [
       "(5, 3)"
      ]
     },
     "execution_count": 38,
     "metadata": {},
     "output_type": "execute_result"
    }
   ],
   "source": [
    "# Obtain the shape of the embedded_x tensor which contains the embedded representations\n",
    "# 'samples' will hold the number of tokens/samples in the batch\n",
    "# 'dim' will hold the dimensionality of the embeddings\n",
    "samples, dim = embedded_x.shape\n",
    "\n",
    "# Print the tuple (samples, dim) to show the size of the batch and the embedding dimension\n",
    "samples, dim"
   ]
  },
  {
   "cell_type": "markdown",
   "id": "edfc4aa2-1ae0-4c1f-8df8-e75d0a5f2c25",
   "metadata": {},
   "source": [
    "Add the positional encodings to the embeddings and plot the results; and observe that they are different.\n"
   ]
  },
  {
   "cell_type": "code",
   "execution_count": 39,
   "id": "61530eda-1742-4e4e-8122-ea4efc23e41e",
   "metadata": {},
   "outputs": [],
   "source": [
    "# Select the appropriate positional encodings based on the number of samples and embedding dimensions\n",
    "# This slice of the positional encoding tensor 'pe' corresponds to the actual batch size and embedding size\n",
    "pe_slice = pe[0:samples, 0:n_embd]"
   ]
  },
  {
   "cell_type": "code",
   "execution_count": 40,
   "id": "4532879d-31e4-45a0-979f-c6c622743d2d",
   "metadata": {},
   "outputs": [
    {
     "data": {
      "text/plain": [
       "tensor([[ 0.3835, -0.3731, -0.3071],\n",
       "        [ 0.9936, -2.0599,  0.0975],\n",
       "        [ 1.7429,  2.6148,  1.5355],\n",
       "        [ 2.9851,  2.3994,  2.7679],\n",
       "        [ 4.9392,  4.8648,  3.9975]], grad_fn=<AddBackward0>)"
      ]
     },
     "execution_count": 40,
     "metadata": {},
     "output_type": "execute_result"
    }
   ],
   "source": [
    "# Add the positional encodings to the token embeddings\n",
    "# This step integrates the position information into the embeddings\n",
    "pos_embding = embedded_x + pe_slice\n",
    "\n",
    "# The result 'pos_embding' now contains the token embeddings adjusted with positional information\n",
    "# Display the adjusted embeddings tensor\n",
    "pos_embding"
   ]
  },
  {
   "cell_type": "code",
   "execution_count": 41,
   "id": "6780829e-01c5-41fb-81c7-4b7b3b77ed4c",
   "metadata": {},
   "outputs": [
    {
     "data": {
      "image/png": "[encoded data removed]",
      "text/plain": [
       "<Figure size 640x480 with 1 Axes>"
      ]
     },
     "metadata": {},
     "output_type": "display_data"
    },
    {
     "data": {
      "image/png": "[encoded data removed]",
      "text/plain": [
       "<Figure size 640x480 with 1 Axes>"
      ]
     },
     "metadata": {},
     "output_type": "display_data"
    }
   ],
   "source": [
    "# Visualize the embeddings with positional encodings using the defined plot function\n",
    "# 'pos_embding.detach().numpy()' converts the embeddings tensor to a NumPy array and detaches it from the current computation graph\n",
    "# 'tokenizer(my_tokens)' tokenizes the sample sentence for labeling in the plot\n",
    "# 'vocab' is passed to associate tokens with their embeddings for plotting\n",
    "plot_embdings(pos_embding.detach().numpy(), tokenizer(my_tokens), vocab)\n",
    "plot_embdings(pos_embding.detach().numpy(),tokenizer(my_tokens),vocab)"
   ]
  },
  {
   "cell_type": "markdown",
   "id": "e9eff986-2df9-4a9c-8f11-8beb6aea5f34",
   "metadata": {},
   "source": [
    "When incorporating linear positional encodings into embeddings, a significant challenge arises: the embeddings for positions later in the sequence tend to become much larger. This issue becomes especially prominent with longer sequences. To illustrate, let's consider the word 'car' appearing at indices 3 and 9 within a sequence. The embedding for 'car' at position 9 is noticeably larger than the one at position 3. This difference becomes more pronounced as the sequence length increases.\n",
    "\n",
    "The problem here is that embeddings are intended to represent words or tokens in a consistent manner. Excessive differences in magnitude can lead to a divergence from the original embeddings, making it challenging for the model to interpret and process the sequence effectively. It's crucial to address this issue to maintain the integrity of the embeddings and ensure that the positional information enhances, rather than distorts, the overall representation of the words in the sequence.\n"
   ]
  },
  {
   "cell_type": "code",
   "execution_count": 42,
   "id": "33d78990-834c-4fcc-a7f8-d4a472e25400",
   "metadata": {},
   "outputs": [
    {
     "data": {
      "text/plain": [
       "tensor([2.9851, 2.3994, 2.7679], grad_fn=<SelectBackward0>)"
      ]
     },
     "execution_count": 42,
     "metadata": {},
     "output_type": "execute_result"
    }
   ],
   "source": [
    "pos_embding[3]# add -3 to get original embedding"
   ]
  },
  {
   "cell_type": "code",
   "execution_count": 43,
   "id": "22239c66-b353-4690-918e-f3e14389ad9a",
   "metadata": {},
   "outputs": [
    {
     "data": {
      "text/plain": [
       "tensor([4.9392, 4.8648, 3.9975], grad_fn=<SelectBackward0>)"
      ]
     },
     "execution_count": 43,
     "metadata": {},
     "output_type": "execute_result"
    }
   ],
   "source": [
    "pos_embding[-1]#add -9 original embedding"
   ]
  },
  {
   "cell_type": "markdown",
   "id": "7313daf3-bed7-48fc-812d-dbd3fae5c928",
   "metadata": {},
   "source": [
    "Address this magnitude issue through various approaches. First, employ a function that doesn't exhibit such significant amplification. Additionally, have the option to introduce different functions. For instance, when considering our word positional encodings, the magnitude of the positional encodings $\\textbf{p}_{n,d}$ can be represented as $[p_{n,1}, p_{n,2}, p_{n,3}]$, which, in this case, translates to $[0.1n, -0.1n, 0]$.\n",
    "\n",
    "In this modified scheme, the magnitudes of the first two dimensions $[p_{n,1}, p_{n,2}]$ increase linearly with the position $n$ but at a slower rate (0.1 times the position). The third dimension $[p_{n,3}]$ remains constant at 0. Adjusting these coefficients, can control the rate at which the magnitudes change, ensuring that the embeddings do not escalate significantly and providing a more balanced representation of positions within the sequence.\n"
   ]
  },
  {
   "cell_type": "code",
   "execution_count": 44,
   "id": "43078387-0f0e-4c98-aa42-4bb4d2323693",
   "metadata": {},
   "outputs": [],
   "source": [
    "pe=torch.cat((0.1*position, -0.1*position, 0*position), 1)"
   ]
  },
  {
   "cell_type": "markdown",
   "id": "f5f58e2d-163c-439c-82af-ff3e71b010e5",
   "metadata": {},
   "source": [
    "Plot the positional encodings.\n"
   ]
  },
  {
   "cell_type": "code",
   "execution_count": 45,
   "id": "a986687f-12c8-4e37-bc24-57b64b9000dc",
   "metadata": {},
   "outputs": [
    {
     "data": {
      "image/png": "[encoded data removed]",
      "text/plain": [
       "<Figure size 640x480 with 1 Axes>"
      ]
     },
     "metadata": {},
     "output_type": "display_data"
    }
   ],
   "source": [
    "# Plot the first dimension of positional encodings for all positions in the sequence\n",
    "plt.plot(pe[:, 0].numpy(), label=\"Dimension 1\")\n",
    "\n",
    "# Plot the second dimension of positional encodings for all positions in the sequence\n",
    "plt.plot(pe[:, 1].numpy(), label=\"Dimension 2\")\n",
    "\n",
    "# Plot the third dimension of positional encodings for all positions in the sequence\n",
    "plt.plot(pe[:, 2].numpy(), label=\"Dimension 3\")\n",
    "\n",
    "# Label the x-axis as 'Sequence Number' to represent the position in the sequence\n",
    "plt.xlabel(\"Sequence Number\")\n",
    "\n",
    "# Add a legend to the plot to identify which line corresponds to which dimension of positional encoding\n",
    "plt.legend()\n",
    "\n",
    "# Display the plot on screen\n",
    "plt.show()"
   ]
  },
  {
   "cell_type": "markdown",
   "id": "32c2a4b2-904d-4387-a81d-4ecec19361d7",
   "metadata": {},
   "source": [
    "\n",
    "Observe that the words are closer together, but employing a linear function still presents the same drawbacks. This means that eventually, the embeddings will keep on increasing linearly.\n"
   ]
  },
  {
   "cell_type": "code",
   "execution_count": 46,
   "id": "7f4d4cdb-0023-4da1-9690-aaee475e46db",
   "metadata": {},
   "outputs": [
    {
     "data": {
      "image/png": "[encoded data removed]",
      "text/plain": [
       "<Figure size 640x480 with 1 Axes>"
      ]
     },
     "metadata": {},
     "output_type": "display_data"
    }
   ],
   "source": [
    "# After the positional encodings have been added, we need to detach the tensor from the computation graph\n",
    "# and convert it to a NumPy array for visualization\n",
    "# 'detach()' is necessary because 'embedded_x' requires gradients and we don't need them for plotting\n",
    "# 'numpy()' converts the PyTorch tensor to a NumPy array\n",
    "pos_embding_numpy = pos_embding.detach().numpy()\n",
    "\n",
    "# Tokenize the sample sentence to use as labels in the plot\n",
    "tokens = tokenizer(my_tokens)\n",
    "\n",
    "# Visualize the token embeddings with positional encodings\n",
    "# The 'plot_embdings' function presumably takes the NumPy array of embeddings, token labels, and a vocabulary\n",
    "# to plot the embeddings in a space where similar embeddings are closer together\n",
    "plot_embdings(pos_embding_numpy, tokens, vocab)"
   ]
  },
  {
   "cell_type": "markdown",
   "id": "293984bd-5ee9-42e2-87b1-01fd553657c8",
   "metadata": {},
   "source": [
    "When analyze positional encodings, it might appear that the words are closer together, indicating an improvement. However, it's crucial to recognize that the use of a linear function still comes with its own set of limitations. Despite the visual impression of words being in closer proximity, linear positional encodings have inherent issues. One significant problem is the potential for amplifying magnitudes as positions progress, which can adversely affect the model's ability to capture subtle positional nuances effectively.\n",
    "\n",
    "To overcome these challenges, exploring alternative methods and functions for generating positional encodings is valuable. One promising approach involves leveraging periodic functions, such as sine and cosine functions. These functions possess a unique property called periodicity, meaning they repeat their values over regular intervals. This periodic nature prevents them from growing too rapidly as positions increase in the sequence.\n",
    "\n",
    "By incorporating sine and cosine functions into positional encodings, introduces a more context-aware and adaptive mechanism. These functions allow us to capture the sequential information without the risk of magnitudes escalating uncontrollably. As a result, the model can better discern the relative positions of words within the sequence, leading to more accurate and meaningful representations.\n"
   ]
  },
  {
   "cell_type": "code",
   "execution_count": 47,
   "id": "4729437e-c40a-443e-b372-f312732a0a31",
   "metadata": {},
   "outputs": [
    {
     "data": {
      "image/png": "[encoded data removed]",
      "text/plain": [
       "<Figure size 640x480 with 1 Axes>"
      ]
     },
     "metadata": {},
     "output_type": "display_data"
    }
   ],
   "source": [
    "# Generate positional encodings using a sinusoidal function and concatenation\n",
    "# The first dimension is encoded with a sine function\n",
    "# The second and third dimensions are placeholders and are simply set to 1 (this is not typical in practice and likely serves as a simplified example)\n",
    "pe = torch.cat((torch.sin(2 * 3.14 * position / 6),  # Sinusoidal encoding for dimension 1\n",
    "                0 * position + 1,                     # Constant encoding (1) for dimension 2\n",
    "                0 * position + 1), axis=1)            # Constant encoding (1) for dimension 3\n",
    "\n",
    "# Add the sinusoidal positional encodings to the token embeddings\n",
    "# This step enriches the embeddings with information about the position of each token in the sequence\n",
    "pos_embding = embedded_x + pe[0:samples, :]\n",
    "\n",
    "# Prepare the positional embeddings for visualization\n",
    "# 'detach()' is used to stop tracking all operations on 'pos_embding'\n",
    "# 'numpy()' converts the tensor to a NumPy array suitable for plotting\n",
    "pos_embding_numpy = pos_embding.detach().numpy()\n",
    "\n",
    "# Tokenize the sample sentence to get the labels for the embedding plot\n",
    "tokens = tokenizer(my_tokens)\n",
    "\n",
    "# Visualize the embeddings using the plot function\n",
    "# It is assumed the function will plot these embeddings in a way that illustrates the effects of adding positional encodings\n",
    "plot_embdings(pos_embding_numpy, tokens, vocab)"
   ]
  },
  {
   "cell_type": "markdown",
   "id": "ddd3c2bf-590c-496f-a2b7-3b8883aae8b0",
   "metadata": {},
   "source": [
    "The first dimension of **$pe$** follows a sine wave pattern, while the 2nd and 3rd dimensions have constant values. This is showcased in the graph below.\n"
   ]
  },
  {
   "cell_type": "code",
   "execution_count": 48,
   "id": "62f6902f-ca9d-4e1b-802e-5dde16d4cd62",
   "metadata": {},
   "outputs": [
    {
     "data": {
      "text/plain": [
       "tensor([[ 0.0000,  1.0000,  1.0000],\n",
       "        [ 0.8658,  1.0000,  1.0000],\n",
       "        [ 0.8666,  1.0000,  1.0000],\n",
       "        [ 0.0016,  1.0000,  1.0000],\n",
       "        [-0.8650,  1.0000,  1.0000],\n",
       "        [-0.8673,  1.0000,  1.0000],\n",
       "        [-0.0032,  1.0000,  1.0000],\n",
       "        [ 0.8642,  1.0000,  1.0000],\n",
       "        [ 0.8681,  1.0000,  1.0000],\n",
       "        [ 0.0048,  1.0000,  1.0000],\n",
       "        [-0.8634,  1.0000,  1.0000],\n",
       "        [-0.8689,  1.0000,  1.0000],\n",
       "        [-0.0064,  1.0000,  1.0000],\n",
       "        [ 0.8626,  1.0000,  1.0000],\n",
       "        [ 0.8697,  1.0000,  1.0000],\n",
       "        [ 0.0080,  1.0000,  1.0000],\n",
       "        [-0.8617,  1.0000,  1.0000],\n",
       "        [-0.8705,  1.0000,  1.0000],\n",
       "        [-0.0096,  1.0000,  1.0000],\n",
       "        [ 0.8609,  1.0000,  1.0000],\n",
       "        [ 0.8713,  1.0000,  1.0000],\n",
       "        [ 0.0111,  1.0000,  1.0000],\n",
       "        [-0.8601,  1.0000,  1.0000],\n",
       "        [-0.8721,  1.0000,  1.0000],\n",
       "        [-0.0127,  1.0000,  1.0000],\n",
       "        [ 0.8593,  1.0000,  1.0000],\n",
       "        [ 0.8728,  1.0000,  1.0000]])"
      ]
     },
     "execution_count": 48,
     "metadata": {},
     "output_type": "execute_result"
    }
   ],
   "source": [
    "pe"
   ]
  },
  {
   "cell_type": "markdown",
   "id": "abc3f833-81be-43bb-8530-df7645c943a9",
   "metadata": {},
   "source": [
    "In our exploration of word embeddings, we've noticed a fascinating pattern: words are generally positioned close enough in the embedding space to preserve their proximity, ensuring that they are contextually related while maintaining distinctiveness from one another. However, there's a significant exception that arises specifically with the word 'car.'\n",
    "\n",
    "This peculiar behavior can be attributed to the nature of the sine wave used in positional encoding. The sine wave is inherently periodic, meaning it repeats its pattern at regular intervals. This periodicity is visually illustrated in the accompanying image, where you can observe the sinusoidal curve repeating itself. As a result, the positional encoding for the word 'car' at different locations within the sequence remains the same.\n",
    "\n",
    "This periodic nature poses a challenge, especially for words like 'car,' which may appear multiple times in a sequence but carry different contextual meanings each time. Despite their varying contexts, the positional encoding for all occurrences of 'car' would be identical due to the repetitive pattern of the sine wave.\n"
   ]
  },
  {
   "cell_type": "code",
   "execution_count": 49,
   "id": "2679be57-2ffc-4cc5-b433-c19d24eba103",
   "metadata": {},
   "outputs": [
    {
     "data": {
      "image/png": "[encoded data removed]",
      "text/plain": [
       "<Figure size 640x480 with 1 Axes>"
      ]
     },
     "metadata": {},
     "output_type": "display_data"
    }
   ],
   "source": [
    "# Plot the positional encodings with different line styles and markers\n",
    "plt.plot(pe[:, 0].numpy(), label=\"Dimension 1\", linestyle='-')\n",
    "plt.plot(pe[:, 1].numpy(), label=\"Dimension 2\", linestyle='--')\n",
    "plt.plot(pe[:, 2].numpy(), label=\"Dimension 3\", linestyle=':')\n",
    "\n",
    "# Adjust the y-axis scale for better visibility\n",
    "plt.ylim([-1, 1.1])\n",
    "\n",
    "plt.xlabel(\"Sequence Number\")\n",
    "plt.legend()\n",
    "plt.show()"
   ]
  },
  {
   "cell_type": "markdown",
   "id": "904a41c3-83b2-4a2e-a8f6-53c2813594ac",
   "metadata": {},
   "source": [
    "By incorporating sine and cosine functions with varying frequencies, encode sequences of differing lengths. As demonstrated here, it becomes evident that these encodings position elements in such a way that they maintain proximity while still preserving their distinctiveness from one another\n"
   ]
  },
  {
   "cell_type": "code",
   "execution_count": 50,
   "id": "edf7426b-5057-4605-9ebf-2805d636470c",
   "metadata": {},
   "outputs": [
    {
     "data": {
      "image/png": "[encoded data removed]",
      "text/plain": [
       "<Figure size 640x480 with 1 Axes>"
      ]
     },
     "metadata": {},
     "output_type": "display_data"
    },
    {
     "data": {
      "image/png": "[encoded data removed]",
      "text/plain": [
       "<Figure size 640x480 with 1 Axes>"
      ]
     },
     "metadata": {},
     "output_type": "display_data"
    }
   ],
   "source": [
    "# Create positional encodings using sinusoidal functions\n",
    "# Concatenate cosine and sine functions for different dimensions to form the encoding\n",
    "pe = torch.cat((torch.cos(2 * 3.14 * position / 25),  # Cosine function for the first dimension\n",
    "                torch.sin(2 * 3.14 * position / 25),  # Sine function for the second dimension\n",
    "                torch.sin(2 * 3.14 * position / 5)), axis=1)  # Sine function with different frequency for the third dimension\n",
    "\n",
    "# Add the generated positional encodings to the token embeddings\n",
    "# This enriches the embeddings with positional information\n",
    "pos_embding = embedded_x + pe[0:samples, :]\n",
    "\n",
    "# Detach the embeddings from the computational graph and convert to NumPy for visualization\n",
    "pos_embding_numpy = pos_embding.detach().numpy()\n",
    "\n",
    "# Tokenize the input text to be used as labels in the plot\n",
    "tokens = tokenizer(my_tokens)\n",
    "\n",
    "# Visualize the embeddings with positional encodings\n",
    "plot_embdings(pos_embding_numpy, tokens, vocab)\n",
    "\n",
    "# Additionally, plot each dimension of the positional encodings to visualize their patterns\n",
    "plt.plot(pe[:, 0].numpy(), label=\"Dimension 1 - Cosine Wave\")\n",
    "plt.plot(pe[:, 1].numpy(), label=\"Dimension 2 - Sine Wave\")\n",
    "plt.plot(pe[:, 2].numpy(), label=\"Dimension 3 - Sine Wave\")\n",
    "\n",
    "# Add a legend in the upper left corner outside of the plot area\n",
    "plt.legend(loc='upper left', bbox_to_anchor=(1, 1))\n",
    "\n",
    "# Display the plot\n",
    "plt.show()"
   ]
  },
  {
   "cell_type": "markdown",
   "id": "6ea87c33-5ce9-46d2-9115-f81c751ce657",
   "metadata": {},
   "source": [
    "Overall, periodic functions provide a more expressive and adaptable means of encoding positional information in sequences, making them a preferred choice in modern sequence-to-sequence models like transformers. They offer improved capabilities for modeling both short-range and long-range dependencies, which are crucial for tasks in natural language processing and other domains.\n"
   ]
  },
  {
   "cell_type": "markdown",
   "id": "4f2b6a7b-355e-46d7-8a63-eda3ac9e9351",
   "metadata": {},
   "source": [
    "Now that you comprehend positional encoding, embedding and self attention, let's put all layers together to create a transformer model that receives a sequence and transfrom it for further processes.\n"
   ]
  },
  {
   "cell_type": "code",
   "execution_count": 51,
   "id": "75904f1f-8cef-47a9-8253-f7b8eefbeac9",
   "metadata": {},
   "outputs": [],
   "source": [
    "class PositionalEncoding(nn.Module):\n",
    "    \"\"\"Positional encoding module injects some information about the relative or absolute position of the tokens in the sequence.\"\"\"\n",
    "    def __init__(self, n_embd, vocab_size, dropout=0.1):\n",
    "        super(PositionalEncoding, self).__init__()\n",
    "        # Initialize a buffer for the positional encodings (not a parameter, so it's not updated during training)\n",
    "        pe = torch.zeros(vocab_size, n_embd)\n",
    "        position = torch.arange(0, vocab_size, dtype=torch.float).unsqueeze(1)\n",
    "        # Calculate the positional encodings once in log space\n",
    "        pe = torch.cat((torch.cos(2 * 3.14 * position / 25), torch.sin(2 * 3.14 * position / 25), torch.sin(2 * 3.14 * position / 5)), 1)\n",
    "        self.register_buffer('pe', pe)\n",
    "\n",
    "    def forward(self, x):\n",
    "        # Add positional encoding to each embedding vector assuming x is (seq_len, batch_size, n_embd)\n",
    "        # Note: 'pe' is a registered buffer and does not require gradients\n",
    "        pos = x + self.pe[:x.size(0), :]\n",
    "        return pos\n",
    "\n",
    "class Head(nn.Module):\n",
    "    \"\"\"Self attention head.\"\"\"\n",
    "    def __init__(self, n_embd, vocab_size):\n",
    "        super().__init__()\n",
    "        # An embedding layer that converts input data (token indices) into dense vectors of fixed size\n",
    "        self.embedding = nn.Embedding(vocab_size, n_embd)\n",
    "        # The positional encoding layer\n",
    "        self.pos_encoder = PositionalEncoding(n_embd, vocab_size)\n",
    "        # Layers to transform the position-encoded embeddings into queries, keys, and values\n",
    "        self.key = nn.Linear(n_embd, n_embd, bias=False)\n",
    "        self.query = nn.Linear(n_embd, n_embd, bias=False)\n",
    "        self.value = nn.Linear(n_embd, n_embd, bias=False)\n",
    "\n",
    "    def forward(self, x):\n",
    "        # Pass the input through the embedding layer to get fixed size dense embeddings\n",
    "        embedded_x = self.embedding(x)\n",
    "        # Pass the embeddings through the positional encoder\n",
    "        p_encoded_x = self.pos_encoder(embedded_x)\n",
    "        # Generate queries, keys, and values for the attention\n",
    "        k = self.key(p_encoded_x)\n",
    "        q = self.query(p_encoded_x)\n",
    "        v = self.value(p_encoded_x)\n",
    "        # Calculate the attention scores as the dot product of queries and keys\n",
    "        w = q @ k.transpose(-2, -1) * k.shape[-1] ** -0.5  # Query * Keys / normalization\n",
    "        # Apply the softmax function to the attention scores to get probabilities\n",
    "        w = F.softmax(w, dim=-1)\n",
    "        # Multiply the attention weights with the values to get the output\n",
    "        out = w @ v\n",
    "        return out"
   ]
  },
  {
   "cell_type": "markdown",
   "id": "67ebc403-6156-4fb0-9976-4db9fc2ef12e",
   "metadata": {},
   "source": [
    "In the code above, the `Head` class is an implementation of a self-attention mechanism. It first converts each input token into a dense vector using an embedding layer, and then adds positional information to the vectors using a positional encoding layer. This is done to give the model some information about the position of each token in the input sequence.\n",
    "\n",
    "Next, the `Head` class creates three different linear projections (key, query, and value) of the positionally-encoded input data using the `nn.Linear` layers defined in the `__init__` method. These projections are created by multiplying the input data with three different weight matrices.\n",
    "\n",
    "The attention scores (also known as attention weights) are then computed by taking the dot product of the query and key projections, and then scaling the result by the square root of the key dimension. This is done to stabilize the gradients during training. The softmax function is then applied to these scores to ensure they sum up to 1.\n",
    "\n",
    "Finally, the output of the attention head is computed by taking a weighted sum of the value projection, where the weights are the attention scores. This output is a weighted sum of the input data, where the weights are determined by the relationships between all pairs of input data points.\n"
   ]
  },
  {
   "cell_type": "code",
   "execution_count": 52,
   "id": "421ed539-7fe6-422e-b9bb-c78c7b6b2fe2",
   "metadata": {},
   "outputs": [
    {
     "name": "stdout",
     "output_type": "stream",
     "text": [
      "Output shape: torch.Size([5, 3])\n",
      "Output: tensor([[ 0.7417,  0.4638, -0.5649],\n",
      "        [-1.0964, -0.8508,  0.9319],\n",
      "        [-0.1132, -0.2521, -0.1333],\n",
      "        [ 0.7127,  0.4256, -0.6014],\n",
      "        [ 0.2371,  0.0420, -0.3039]], grad_fn=<MmBackward0>)\n"
     ]
    }
   ],
   "source": [
    "# Instantiate the Head class with embedding dimension and vocabulary size as parameters\n",
    "transformer = Head(n_embd, vocab_size)\n",
    "\n",
    "# Pass the input data through the transformer model to obtain the output\n",
    "# This process includes embedding the input, adding positional encodings, and applying self-attention\n",
    "out = transformer(input_data)\n",
    "\n",
    "# Print the shape of the output tensor\n",
    "# The shape will provide insight into how the data has been transformed through the model\n",
    "print(\"Output shape:\", out.shape)\n",
    "\n",
    "# Display the output tensor itself\n",
    "# This output represents the transformed data after applying the embedding, positional encoding, and self-attention mechanisms\n",
    "print(\"Output:\", out)"
   ]
  },
  {
   "cell_type": "markdown",
   "id": "2ecbe4a0-7f5e-469a-b4f2-083fe4ff3a28",
   "metadata": {},
   "source": [
    "<a name=\"torchtr\"></a>\n",
    "# Transformers in PyTorch\n",
    "In this section, you will learn how to create transfomer models using `nn.torch` library.\n",
    "\n",
    "This code block creates an instance of the Transformer model from the nn (neural network) module in PyTorch. The nhead parameter specifies the number of heads in the multi-head attention mechanism, which is a crucial component of the Transformer architecture. In this case, it is set to 16.\n",
    "\n",
    "The num_encoder_layers parameter determines the number of encoder layers in the Transformer model. Here, it is set to 12.\n"
   ]
  },
  {
   "cell_type": "code",
   "execution_count": 53,
   "id": "1d62279b-920e-4abc-949c-703e6eeac03b",
   "metadata": {},
   "outputs": [],
   "source": [
    "transformer_model = nn.Transformer(nhead=16, num_encoder_layers=12)"
   ]
  },
  {
   "cell_type": "markdown",
   "id": "72b57120-c3a8-4189-a8a1-a0a4e89d13e4",
   "metadata": {},
   "source": [
    "These two lines create random tensors to represent the source and target sequences for the Transformer model.\n",
    "\n",
    "`src` represents 10 source sequences, each with a length of 32 and a feature dimension of 512.\n",
    "`tgt` represents 20 target sequences, each with a length of 32 and a feature dimension of 512.\n",
    "In the context of sequence-to-sequence tasks, the source sequences are the input data (e.g., sentences in one language), and the target sequences are the desired output (e.g., the corresponding sentences in another language).\n"
   ]
  },
  {
   "cell_type": "code",
   "execution_count": 54,
   "id": "029da4f6-d75a-4d7b-bef2-162eef33bab6",
   "metadata": {},
   "outputs": [],
   "source": [
    "src = torch.rand((10, 32, 512))\n",
    "tgt = torch.rand((20, 32, 512))"
   ]
  },
  {
   "cell_type": "markdown",
   "id": "2be0eb19-cfe0-4fee-81b7-2d7d29b0f76b",
   "metadata": {},
   "source": [
    "Then, pass the source and target tensors through the Transformer model. The out variable will contain the output of the Transformer model, which should have the same shape as the tgt tensor ((20, 32, 512)). This output can be further processed or used for downstream tasks, such as calculating a loss function for training or generating text for inference.\n"
   ]
  },
  {
   "cell_type": "code",
   "execution_count": 55,
   "id": "4a9c4f62-8703-43b2-af79-db74651d65d4",
   "metadata": {},
   "outputs": [],
   "source": [
    "out = transformer_model(src, tgt)"
   ]
  },
  {
   "cell_type": "markdown",
   "id": "364328d0-838f-47ac-8e71-c9de12261552",
   "metadata": {},
   "source": [
    "## MultiHead attention\n",
    "\n",
    "`nn.MultiheadAttention` is a module in PyTorch that implements the multi-head self-attention mechanism, a key component of the Transformer architecture. This attention mechanism enables the model to focus on different parts of the input sequence simultaneously, capturing various contextual dependencies and improving the model's ability to process complex natural language patterns.\n",
    "\n",
    "The `nn.MultiheadAttention` module has three main inputs: `query`, `key`, and `value` as illustrated below. \n",
    "<p style=\"text-align:center\">\n",
    "    <img src=\"https://cf-courses-data.s3.us.cloud-object-storage.appdomain.cloud/IBMSkillsNetwork-AI0201EN-Coursera/MultiHeadAttention.png\" width=\"300\" alt=\"MultiHead\"/>\n",
    "</p>\n",
    "\n",
    "The multi-head attention mechanism works by first splitting the `query`, `key`, and `value` inputs into multiple \"heads,\" each with its own set of learnable weights. This process allows the model to learn different attention patterns in parallel. \n",
    "\n",
    "The outputs from all heads are concatenated and passed through a linear layer, known as the output projection, to combine the information learned by each head. This final output represents the contextually enriched sequence that can be used in subsequent layers of the Transformer model.\n"
   ]
  },
  {
   "cell_type": "code",
   "execution_count": 56,
   "id": "ef160ddf-f115-443f-87b9-5294fafe9c67",
   "metadata": {},
   "outputs": [
    {
     "name": "stdout",
     "output_type": "stream",
     "text": [
      "should be zero: 0\n"
     ]
    }
   ],
   "source": [
    "\n",
    "# Embedding dimension\n",
    "embed_dim =4\n",
    "# Number of attention heads\n",
    "num_heads = 2\n",
    "print(\"should be zero:\",embed_dim %num_heads)\n",
    "# Initialize MultiheadAttention\n",
    "multihead_attn = nn.MultiheadAttention(embed_dim=embed_dim, num_heads=num_heads,batch_first=False)"
   ]
  },
  {
   "cell_type": "code",
   "execution_count": 57,
   "id": "ba90f69e-fcee-4d62-a1b7-ed8b71647959",
   "metadata": {},
   "outputs": [
    {
     "name": "stdout",
     "output_type": "stream",
     "text": [
      "Attention Output Shape: torch.Size([10, 5, 4])\n"
     ]
    }
   ],
   "source": [
    "seq_length = 10 # Sequence length\n",
    "batch_size = 5 # Batch size\n",
    "query = torch.rand((seq_length, batch_size, embed_dim))\n",
    "key = torch.rand((seq_length, batch_size, embed_dim))\n",
    "value = torch.rand((seq_length, batch_size, embed_dim))\n",
    "# Perform multi-head attention\n",
    "attn_output, _= multihead_attn(query, key, value)\n",
    "print(\"Attention Output Shape:\", attn_output.shape)"
   ]
  },
  {
   "cell_type": "markdown",
   "id": "9c28d171-fe55-441e-ace9-88ce68159804",
   "metadata": {},
   "source": [
    "## TransformerEncoderLayer and TransformerEncoder\n",
    "\n",
    "The `TransformerEncoderLayer` and `TransformerEncoder` are essential components of the Transformer architecture in PyTorch. These components work together to create a multi-layer, attention-based neural network.\n",
    "\n",
    "### TransformerEncoderLayer:\n",
    "This is a single encoding layer in the Transformer architecture, consisting of two primary sub-layers as shown below: the Multi-head Self-Attention layer and the Feed-Forward Network (FFN). Each of these sub-layers is followed by a residual connection and layer normalization.\n",
    "<p style=\"text-align:center\">\n",
    "    <img src=\"https://cf-courses-data.s3.us.cloud-object-storage.appdomain.cloud/IBMSkillsNetwork-AI0201EN-Coursera/TrLayer.png\" width=\"200\" alt=\"TrLayer\"/>\n",
    "</p>\n"
   ]
  },
  {
   "cell_type": "markdown",
   "id": "792b7e58-4768-4b1f-9d07-7402a6becc5b",
   "metadata": {},
   "source": [
    "### TransformerEncoder:\n",
    "The TransformerEncoder is a stack of multiple `TransformerEncoderLayer` instances. The encoder consists of N identical layers. N can be adjusted based on the desired complexity of the model.\n",
    "\n",
    "The encoder takes an input sequence, applies positional encoding, and passes it through each of the TransformerEncoderLayers sequentially. This allows the model to learn rich, hierarchical representations of the input sequence, capturing both local and long-range dependencies.\n",
    "\n",
    "TransformerEncoder accepts the following parameters:\n",
    "- `src` (required): The sequence to the encoder.\n",
    "\n",
    "- `mask` (Optional): The mask parameter is used to restrict the attention mechanism from considering certain positions in the input sequence. It is a binary tensor with the same shape as the input sequence. A value of 1 indicates that attention is allowed, while a value of 0 indicates that attention should be disregarded. This mask is particularly useful when working with triangular attention masks, where each position in the sequence can only attend to previous positions.\n",
    "\n",
    "- `src_key_padding_mask` (Optional): The src_key_padding_mask parameter is used to specify which positions in the input sequence correspond to padding tokens. It is a binary tensor with shape (batch_size, sequence_length). A value of 1 indicates that the corresponding position contains a valid token, while a value of 0 indicates that the position contains a padding token. By providing this mask, the attention mechanism can ignore padding tokens and focus only on the meaningful parts of the input sequence. This parameter is particularly useful when dealing with variable-length sequences that have been padded to a fixed length.\n"
   ]
  },
  {
   "cell_type": "code",
   "execution_count": 58,
   "id": "5933b17b-6ed6-418a-8095-3bef1f6a3f86",
   "metadata": {},
   "outputs": [],
   "source": [
    "# Embedding dimension\n",
    "embed_dim = 4\n",
    "# Number of attention h\n",
    "num_heads = 2\n",
    "# Checking if the embedding dimension is divisible by the number of heads, print(\"should be zero\", embed_dim % num_h\n",
    "# Number of encoder layers\n",
    "num_layers = 6\n",
    "# Initialize the encoder layer with specified embedding dimension and number of heads.\n",
    "encoder_layer = nn.TransformerEncoderLayer(d_model=embed_dim, nhead=num_heads)\n",
    "# Build the transformer encoder by stacking the encoder layer 6 times.\n",
    "transformer_encoder = nn.TransformerEncoder(encoder_layer, num_layers=num_layers)"
   ]
  },
  {
   "cell_type": "markdown",
   "id": "d7aa32fc-8e9a-44f3-8688-ac913999ca66",
   "metadata": {},
   "source": [
    "Let's now test it with a random input:\n"
   ]
  },
  {
   "cell_type": "code",
   "execution_count": 59,
   "id": "6f50c5ab-4bca-458a-bcb4-3da3e47f17b1",
   "metadata": {},
   "outputs": [
    {
     "name": "stdout",
     "output_type": "stream",
     "text": [
      "Encoded Tensor Shape: torch.Size([10, 5, 4])\n"
     ]
    }
   ],
   "source": [
    "# Define sequence length as 10 and batch size as 5 for the input data.\n",
    "seq_length = 10 # Sequence length\n",
    "batch_size = 5 # Batch size\n",
    "# Generate random input tensor to simulate input embeddings for the transformer encoder.\n",
    "x = torch.rand((seq_length, batch_size, embed_dim))\n",
    "# Apply the transformer encoder to the input\n",
    "encoded = transformer_encoder(x)\n",
    "# Output the shape of the encoded tensor to verify the transformation.\n",
    "print(\"Encoded Tensor Shape:\", encoded.shape)"
   ]
  },
  {
   "cell_type": "markdown",
   "id": "6040dcd1-6392-4aab-97e1-3bdeed811729",
   "metadata": {},
   "source": [
    "## Exercise\n",
    "In this exercise, you will create a multi-hear transformer and use it to encode a an input vector. To achieve this, you will leverage nn.TransformerEncoderLayer and nn.TransformerEncoder. \n",
    "\n",
    ">Please note that the `embedding size` should be divisible by the `number of attention heads`.\n",
    "\n",
    "1. **Create a transformer encoder with the following parameters:**\n",
    "   - `embedding size` = 240\n",
    "   -  `number of layers` = 12\n",
    "   -  `number of attention heads` = 12\n",
    "\n",
    "2. **Create a random input tensor of length 20 and batch size of 1**\n",
    "\n",
    "3. **Pass the input tensor to model and print the shape of its output**\n"
   ]
  },
  {
   "cell_type": "code",
   "execution_count": 60,
   "id": "ebd19f96-0de4-4f8d-8cdf-ac2ef4dc7308",
   "metadata": {},
   "outputs": [
    {
     "name": "stdout",
     "output_type": "stream",
     "text": [
      "Encoded Tensor Shape: torch.Size([20, 1, 240])\n"
     ]
    }
   ],
   "source": [
    "embed_dim = 240\n",
    "num_heads = 12\n",
    "num_layers = 12\n",
    "encoder_layer = nn.TransformerEncoderLayer(d_model=embed_dim, nhead=num_heads)\n",
    "transformer_encoder = nn.TransformerEncoder(encoder_layer, num_layers=num_layers)\n",
    "\n",
    "seq_length = 20\n",
    "batch_size = 1\n",
    "x = torch.rand((seq_length, batch_size, embed_dim))\n",
    "encoded = transformer_encoder(x)\n",
    "print(\"Encoded Tensor Shape:\", encoded.shape)"
   ]
  },
  {
   "cell_type": "markdown",
   "id": "8e6842b2-3fae-49c0-a3c4-f3e780d9ffc7",
   "metadata": {},
   "source": [
    "<details>\n",
    "    <summary>Click here for Solution</summary>\n",
    "\n",
    "```python\n",
    "\n",
    "embed_dim = 240\n",
    "num_heads = 12\n",
    "num_layers = 12\n",
    "encoder_layer = nn.TransformerEncoderLayer(d_model=embed_dim, nhead=num_heads)\n",
    "transformer_encoder = nn.TransformerEncoder(encoder_layer, num_layers=num_layers)\n",
    "\n",
    "seq_length = 20\n",
    "batch_size = 1\n",
    "x = torch.rand((seq_length, batch_size, embed_dim))\n",
    "encoded = transformer_encoder(x)\n",
    "print(\"Encoded Tensor Shape:\", encoded.shape)\n",
    "```\n",
    "\n",
    "</details>\n"
   ]
  },
  {
   "cell_type": "markdown",
   "id": "4e0c1281-a743-4917-a227-3bcd83d2092b",
   "metadata": {},
   "source": [
    "# Congratulations! You've achieved a thorough understanding of the inner workings of transformers.\n",
    "\n"
   ]
  },
  {
   "cell_type": "markdown",
   "id": "839a17ac-40b5-4703-aaf8-ec49334aa566",
   "metadata": {},
   "source": [
    "## Authors\n",
    "\n",
    "[Joseph Santarcangelo](https://author.skills.network/instructors/joseph_santarcangelo) has a Ph.D. in Electrical Engineering, his research focused on using machine learning, signal processing, and computer vision to determine how videos impact human cognition. Joseph has been working for IBM since he completed his PhD.\n",
    "\n",
    "[Fateme Akbari](https://www.linkedin.com/in/fatemeakbari/) is a Ph.D. candidate in Information Systems at McMaster University with demonstrated research experience in Machine Learning and NLP.\n",
    "\n",
    "## Contributor\n",
    "\n",
    "[Ashutosh Sagar](https://www.linkedin.com/in/ashutoshsagar/) is completing his MS in CS from Dalhousie University. He has previous experience working with Natural Language Processing and as a Data Scientist.\n",
    "\n",
    "[Wojciech \"Victor\" Fulmyk](https://www.linkedin.com/in/wfulmyk)  Wojciech \"Victor\" Fulmyk is a Data Scientist at IBM, and a PhD Candidate in economics at the University of Calgary.\n"
   ]
  },
  {
   "cell_type": "markdown",
   "id": "56407516-2fd5-47f1-af3f-13cb1fb9fc93",
   "metadata": {},
   "source": [
    "## References\n",
    "[LLMs from dummies](https://github.com/pcingola/llms_from_dummies/blob/main/notebooks/LLMs_from_dummies_Part_1.ipynb) GitHub\n"
   ]
  },
  {
   "cell_type": "markdown",
   "id": "30cdf03a-2cba-4d6b-8f76-85c9ef9314e1",
   "metadata": {},
   "source": [
    "© Copyright IBM Corporation. All rights reserved.\n"
   ]
  }
 ],
 "metadata": {
  "kernelspec": {
   "display_name": "Python 3",
   "language": "python",
   "name": "python3"
  },
  "language_info": {
   "codemirror_mode": {
    "name": "ipython",
    "version": 3
   },
   "file_extension": ".py",
   "mimetype": "text/x-python",
   "name": "python",
   "nbconvert_exporter": "python",
   "pygments_lexer": "ipython3",
   "version": "3.10.11"
  },
  "prev_pub_hash": "88b73087c4a8bceca6bbde9c0c5ba3e2055ddd5fa5df1a5667b583169a8a26d3"
 },
 "nbformat": 4,
 "nbformat_minor": 4
}
