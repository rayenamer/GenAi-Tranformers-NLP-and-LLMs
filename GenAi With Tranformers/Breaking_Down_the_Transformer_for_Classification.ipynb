{
 "cells": [
  {
   "cell_type": "markdown",
   "id": "49896003-f1d9-46cf-9baa-b8c92e6bc7fa",
   "metadata": {},
   "source": [
    "<p style=\"text-align:center\">\n",
    "    <a href=\"https://skills.network\" target=\"_blank\">\n",
    "    <img src=\"https://cf-courses-data.s3.us.cloud-object-storage.appdomain.cloud/assets/logos/SN_web_lightmode.png\" width=\"200\" alt=\"Skills Network Logo\">\n",
    "    </a>\n",
    "</p>\n"
   ]
  },
  {
   "cell_type": "markdown",
   "id": "a00174c2-6f3c-4c0e-b6aa-f039f66afaf2",
   "metadata": {},
   "source": [
    "# **Applying Transformers for Classification**\n",
    "\n",
    "Estimated time needed: **60** minutes\n",
    "\n",
    "Imagine working at a prestigious newspaper or magazine company that boasts an extensive archive of documents dating back through the annals of time. Amid this treasure trove of information, a monumental task lies ahead: organizing these historical documents into their relevant topic sections. This strategic curation not only promises to enhance the user experience by delivering more streamlined content but also presents an opportunity to breathe new life into invaluable insights from the past through a modern lens. However, the sheer volume and scope of this undertaking calls for a sophisticated solution.\n",
    "\n",
    "![Documents Overload](https://cf-courses-data.s3.us.cloud-object-storage.appdomain.cloud/IBM-GPXX0Y15EN/docs.png)\n",
    "\n",
    "The implementation of an automated machine learning system makes it very efficient. Such a system, equipped with advanced natural language processing and machine learning capabilities, could sift through the vast archives, categorizing articles into their respective topics with remarkable precision. As a result, readers would seamlessly access a wealth of knowledge tailored to their interests, while the editorial team gains newfound agility in content management.\n",
    "\n",
    "In this lab, you will embark on the exciting task of classifying news articles for a content search engine. The goal is to build a model that can automatically categorize news articles into different topics or classes, enabling the search engine to deliver relevant content to users efficiently. To achieve this, you will leverage the powerful torchtext library, which simplifies the process of creating a dataset for text classification analysis.\n",
    "\n",
    "With torchtext, you'll have the flexibility to access and preprocess raw news data effortlessly. The library enables you to convert text strings into torch.Tensors, which are essential for training machine learning models. By using torchtext's convenient functionalities, you can set up an efficient data processing pipeline that prepares your text data for classification.\n",
    "\n",
    "Throughout this tutorial, you will demonstrate how to effectively shuffle and iterate through the processed data using torch.utils.data.DataLoader. This DataLoader simplifies the data handling process, allowing you to focus on building and training your text classification model effectively.\n"
   ]
  },
  {
   "cell_type": "markdown",
   "id": "8dbc4670-6af8-466c-b8d0-3c0cb2c4fe43",
   "metadata": {},
   "source": [
    "\n",
    "The following infographic provides an overview of the internal workings of the transformers.\n",
    "![](https://cf-courses-data.s3.us.cloud-object-storage.appdomain.cloud/IBMSkillsNetwork-GPXX05RNEN/Tokenization%20-%20Color.jpeg)\n"
   ]
  },
  {
   "cell_type": "markdown",
   "id": "998cb16f-b53b-4793-8650-fbc708007e33",
   "metadata": {},
   "source": [
    "# __Table of Contents__\n",
    "\n",
    "<ol>\n",
    "    <li><a href=\"#Objectives\">Objectives</a></li>\n",
    "    <li>\n",
    "        <a href=\"#Setup\">Setup</a>\n",
    "        <ol>\n",
    "            <li><a href=\"#Installing-required-libraries\">Installing required libraries</a></li>\n",
    "            <li><a href=\"#Importing-required-libraries\">Importing required libraries</a></li>\n",
    "            <li><a href=\"#Defining-helper-hunctions\">Defining helper functions</a></li>\n",
    "        </ol>\n",
    "    </li>\n",
    "    <li><a href=\"#Toy-dataset\">Toy dataset</a>\n",
    "    <li><a href=\"#Zero-padding\">Zero padding</a></li>\n",
    "    <li><a href=\"#Positional-encodings\">Positional encodings</a></li>\n",
    "    <li><a href=\"#Encoder-layer\">Encoder layer</a></li>\n",
    "    <li>\n",
    "        <a href=\"#Text-classification\">Text classification</a></li>\n",
    "        <ol>\n",
    "            <li><a href=\"#Import-bank-dataset\">Import bank dataset</a></li>\n",
    "            <li><a href=\"#Dataset\">Dataset</a></li>\n",
    "            <li><a href=\"#Data-loader\">Data loader</a></li>\n",
    "            <li><a href=\"#Neural-network\">Neural network</a></li>\n",
    "        </ol>\n",
    "    <li><a href=\"#Training\">Training</a></li>\n",
    "    <li><a href=\"#Exercise\">Exercise</a></li>\n",
    "</ol>\n"
   ]
  },
  {
   "cell_type": "markdown",
   "id": "1a04e4cc-fa98-4e77-8d08-acd4541fcdb8",
   "metadata": {},
   "source": [
    "---\n"
   ]
  },
  {
   "cell_type": "markdown",
   "id": "992da791-8f70-468b-ba67-db4019481b34",
   "metadata": {},
   "source": [
    "# Objectives\n",
    "\n",
    "After completing this lab, you will be able to:\n",
    "\n",
    "- Work with datasets and understand tokenizer, embedding bag technique and vocabulary\n",
    "- Explore embeddings in PyTorch and understand token indices\n",
    "- Perform text classification using data loader and apply it on a neural network model\n",
    "- Train the text classification model on a news dataset\n",
    "- Engage in various exercises to solidify your understanding\n"
   ]
  },
  {
   "cell_type": "markdown",
   "id": "73f13747-6e2c-43d3-9491-14ce8d0aa2b2",
   "metadata": {},
   "source": [
    "---\n"
   ]
  },
  {
   "cell_type": "markdown",
   "id": "1348f034-ab74-42fb-9479-a2ea729d7522",
   "metadata": {},
   "source": [
    "# Setup\n"
   ]
  },
  {
   "cell_type": "markdown",
   "id": "3934abf8-ae46-4f1b-adfb-e9d59703bb24",
   "metadata": {},
   "source": [
    "For this lab, you will be using the following libraries:\n"
   ]
  },
  {
   "cell_type": "markdown",
   "id": "24feba4d-4a26-4858-98a6-fbb6e5f11f1d",
   "metadata": {},
   "source": [
    "### Installing required libraries\n",
    "\n",
    "The following required libraries are pre-installed in the Skills Network Labs environment. However, if you run this notebook commands in a different Jupyter environment (e.g. Watson Studio or Ananconda), you will need to install these libraries by removing the `#` sign before `!pip` in the code cell below.\n"
   ]
  },
  {
   "cell_type": "code",
   "execution_count": null,
   "id": "7714e5f5-209c-4c0d-89ab-3ce58fba4da7",
   "metadata": {},
   "outputs": [],
   "source": [
    "# All Libraries required for this lab are listed below. \n",
    "# The libraries pre-installed on Skills Network Labs are commented. \n",
    "# Uncomment these if you are running the lab in your localenvironment, to install these packages.\n",
    "\n",
    "# !pip install -qy pandas==1.3.4 numpy==1.21.4 seaborn==0.9.0 matplotlib==3.5.0 scikit-learn==0.20.1\n",
    "# - Update a specific package\n",
    "# !pip install pmdarima -U\n",
    "# - Update a package to specific version\n",
    "# !pip install --upgrade pmdarima==2.0.2\n",
    "# Note: If your environment doesn't support \"!pip install\", use \"!mamba install\""
   ]
  },
  {
   "cell_type": "markdown",
   "id": "fd3e4bcb-7166-44d1-a760-691180b84fc7",
   "metadata": {},
   "source": [
    "The following required libraries are __not__ pre-installed in the Skills Network Labs environment. __You will need to run the following cell__ to install them:\n"
   ]
  },
  {
   "cell_type": "code",
   "execution_count": null,
   "id": "b359893c-4741-4b28-9fd2-7aad3137c3ea",
   "metadata": {},
   "outputs": [],
   "source": [
    "!pip install dash==2.9.3 dash-core-components==2.0.0 dash-html-components==2.0.0 dash-table==5.0.0\n",
    "!pip install -U portalocker>=2.0.0\n",
    "!pip install torchtext torchdata\n"
   ]
  },
  {
   "cell_type": "markdown",
   "id": "12612d17-2b24-4719-838e-2c39a0678e5c",
   "metadata": {},
   "source": [
    "### Importing required libraries\n"
   ]
  },
  {
   "cell_type": "code",
   "execution_count": 2,
   "metadata": {},
   "outputs": [
    {
     "name": "stdout",
     "output_type": "stream",
     "text": [
      "Collecting plotly\n",
      "  Downloading plotly-6.2.0-py3-none-any.whl (9.6 MB)\n",
      "     ---------------------------------------- 0.0/9.6 MB ? eta -:--:--\n",
      "     ---------------------------------------- 0.0/9.6 MB ? eta -:--:--\n",
      "     ---------------------------------------- 0.1/9.6 MB 787.7 kB/s eta 0:00:13\n",
      "     ---------------------------------------- 0.1/9.6 MB 939.4 kB/s eta 0:00:11\n",
      "      --------------------------------------- 0.1/9.6 MB 901.1 kB/s eta 0:00:11\n",
      "      --------------------------------------- 0.2/9.6 MB 841.6 kB/s eta 0:00:12\n",
      "      --------------------------------------- 0.2/9.6 MB 841.6 kB/s eta 0:00:12\n",
      "      --------------------------------------- 0.2/9.6 MB 722.1 kB/s eta 0:00:14\n",
      "     - -------------------------------------- 0.3/9.6 MB 741.6 kB/s eta 0:00:13\n",
      "     - -------------------------------------- 0.3/9.6 MB 761.4 kB/s eta 0:00:13\n",
      "     - -------------------------------------- 0.3/9.6 MB 776.5 kB/s eta 0:00:12\n",
      "     - -------------------------------------- 0.4/9.6 MB 782.8 kB/s eta 0:00:12\n",
      "     - -------------------------------------- 0.4/9.6 MB 790.7 kB/s eta 0:00:12\n",
      "     - -------------------------------------- 0.5/9.6 MB 797.2 kB/s eta 0:00:12\n",
      "     -- ------------------------------------- 0.5/9.6 MB 786.4 kB/s eta 0:00:12\n",
      "     -- ------------------------------------- 0.5/9.6 MB 811.7 kB/s eta 0:00:12\n",
      "     -- ------------------------------------- 0.6/9.6 MB 815.7 kB/s eta 0:00:12\n",
      "     -- ------------------------------------- 0.6/9.6 MB 803.1 kB/s eta 0:00:12\n",
      "     -- ------------------------------------- 0.7/9.6 MB 807.1 kB/s eta 0:00:12\n",
      "     -- ------------------------------------- 0.7/9.6 MB 810.6 kB/s eta 0:00:12\n",
      "     --- ------------------------------------ 0.7/9.6 MB 813.8 kB/s eta 0:00:11\n",
      "     --- ------------------------------------ 0.8/9.6 MB 819.6 kB/s eta 0:00:11\n",
      "     --- ------------------------------------ 0.8/9.6 MB 824.3 kB/s eta 0:00:11\n",
      "     --- ------------------------------------ 0.8/9.6 MB 814.4 kB/s eta 0:00:11\n",
      "     --- ------------------------------------ 0.9/9.6 MB 807.4 kB/s eta 0:00:11\n",
      "     --- ------------------------------------ 0.9/9.6 MB 819.2 kB/s eta 0:00:11\n",
      "     --- ------------------------------------ 0.9/9.6 MB 819.2 kB/s eta 0:00:11\n",
      "     ---- ----------------------------------- 1.0/9.6 MB 825.7 kB/s eta 0:00:11\n",
      "     ---- ----------------------------------- 1.0/9.6 MB 823.2 kB/s eta 0:00:11\n",
      "     ---- ----------------------------------- 1.0/9.6 MB 823.2 kB/s eta 0:00:11\n",
      "     ---- ----------------------------------- 1.1/9.6 MB 817.3 kB/s eta 0:00:11\n",
      "     ---- ----------------------------------- 1.2/9.6 MB 825.1 kB/s eta 0:00:11\n",
      "     ---- ----------------------------------- 1.2/9.6 MB 828.1 kB/s eta 0:00:11\n",
      "     ----- ---------------------------------- 1.2/9.6 MB 828.0 kB/s eta 0:00:11\n",
      "     ----- ---------------------------------- 1.3/9.6 MB 822.7 kB/s eta 0:00:11\n",
      "     ----- ---------------------------------- 1.3/9.6 MB 826.0 kB/s eta 0:00:11\n",
      "     ----- ---------------------------------- 1.3/9.6 MB 828.7 kB/s eta 0:00:11\n",
      "     ----- ---------------------------------- 1.4/9.6 MB 830.4 kB/s eta 0:00:10\n",
      "     ----- ---------------------------------- 1.4/9.6 MB 831.6 kB/s eta 0:00:10\n",
      "     ------ --------------------------------- 1.5/9.6 MB 832.7 kB/s eta 0:00:10\n",
      "     ------ --------------------------------- 1.5/9.6 MB 835.4 kB/s eta 0:00:10\n",
      "     ------ --------------------------------- 1.5/9.6 MB 827.4 kB/s eta 0:00:10\n",
      "     ------ --------------------------------- 1.6/9.6 MB 823.5 kB/s eta 0:00:10\n",
      "     ------ --------------------------------- 1.6/9.6 MB 832.7 kB/s eta 0:00:10\n",
      "     ------ --------------------------------- 1.6/9.6 MB 832.1 kB/s eta 0:00:10\n",
      "     ------ --------------------------------- 1.7/9.6 MB 828.3 kB/s eta 0:00:10\n",
      "     ------- -------------------------------- 1.7/9.6 MB 830.4 kB/s eta 0:00:10\n",
      "     ------- -------------------------------- 1.8/9.6 MB 830.3 kB/s eta 0:00:10\n",
      "     ------- -------------------------------- 1.8/9.6 MB 832.6 kB/s eta 0:00:10\n",
      "     ------- -------------------------------- 1.8/9.6 MB 826.0 kB/s eta 0:00:10\n",
      "     ------- -------------------------------- 1.9/9.6 MB 828.3 kB/s eta 0:00:10\n",
      "     ------- -------------------------------- 1.9/9.6 MB 830.5 kB/s eta 0:00:10\n",
      "     -------- ------------------------------- 2.0/9.6 MB 830.0 kB/s eta 0:00:10\n",
      "     -------- ------------------------------- 2.0/9.6 MB 829.9 kB/s eta 0:00:10\n",
      "     -------- ------------------------------- 2.0/9.6 MB 832.9 kB/s eta 0:00:10\n",
      "     -------- ------------------------------- 2.1/9.6 MB 833.6 kB/s eta 0:00:10\n",
      "     -------- ------------------------------- 2.1/9.6 MB 833.4 kB/s eta 0:00:10\n",
      "     -------- ------------------------------- 2.2/9.6 MB 835.3 kB/s eta 0:00:09\n",
      "     --------- ------------------------------ 2.2/9.6 MB 840.8 kB/s eta 0:00:09\n",
      "     --------- ------------------------------ 2.2/9.6 MB 836.6 kB/s eta 0:00:09\n",
      "     --------- ------------------------------ 2.3/9.6 MB 837.2 kB/s eta 0:00:09\n",
      "     --------- ------------------------------ 2.3/9.6 MB 837.8 kB/s eta 0:00:09\n",
      "     --------- ------------------------------ 2.4/9.6 MB 833.9 kB/s eta 0:00:09\n",
      "     --------- ------------------------------ 2.4/9.6 MB 840.1 kB/s eta 0:00:09\n",
      "     ---------- ----------------------------- 2.4/9.6 MB 837.0 kB/s eta 0:00:09\n",
      "     ---------- ----------------------------- 2.4/9.6 MB 838.7 kB/s eta 0:00:09\n",
      "     ---------- ----------------------------- 2.5/9.6 MB 833.9 kB/s eta 0:00:09\n",
      "     ---------- ----------------------------- 2.5/9.6 MB 837.8 kB/s eta 0:00:09\n",
      "     ---------- ----------------------------- 2.6/9.6 MB 835.0 kB/s eta 0:00:09\n",
      "     ---------- ----------------------------- 2.6/9.6 MB 836.6 kB/s eta 0:00:09\n",
      "     ----------- ---------------------------- 2.7/9.6 MB 836.1 kB/s eta 0:00:09\n",
      "     ----------- ---------------------------- 2.7/9.6 MB 837.6 kB/s eta 0:00:09\n",
      "     ----------- ---------------------------- 2.7/9.6 MB 837.4 kB/s eta 0:00:09\n",
      "     ----------- ---------------------------- 2.8/9.6 MB 836.9 kB/s eta 0:00:09\n",
      "     ----------- ---------------------------- 2.9/9.6 MB 835.8 kB/s eta 0:00:09\n",
      "     ----------- ---------------------------- 2.9/9.6 MB 837.2 kB/s eta 0:00:09\n",
      "     ------------ --------------------------- 2.9/9.6 MB 838.3 kB/s eta 0:00:09\n",
      "     ------------ --------------------------- 3.0/9.6 MB 834.3 kB/s eta 0:00:08\n",
      "     ------------ --------------------------- 3.0/9.6 MB 835.7 kB/s eta 0:00:08\n",
      "     ------------ --------------------------- 3.1/9.6 MB 839.0 kB/s eta 0:00:08\n",
      "     ------------ --------------------------- 3.1/9.6 MB 836.6 kB/s eta 0:00:08\n",
      "     ------------- -------------------------- 3.1/9.6 MB 839.8 kB/s eta 0:00:08\n",
      "     ------------- -------------------------- 3.2/9.6 MB 837.7 kB/s eta 0:00:08\n",
      "     ------------- -------------------------- 3.2/9.6 MB 838.1 kB/s eta 0:00:08\n",
      "     ------------- -------------------------- 3.2/9.6 MB 839.1 kB/s eta 0:00:08\n",
      "     ------------- -------------------------- 3.3/9.6 MB 838.9 kB/s eta 0:00:08\n",
      "     ------------- -------------------------- 3.3/9.6 MB 840.1 kB/s eta 0:00:08\n",
      "     ------------- -------------------------- 3.3/9.6 MB 841.1 kB/s eta 0:00:08\n",
      "     -------------- ------------------------- 3.4/9.6 MB 839.1 kB/s eta 0:00:08\n",
      "     -------------- ------------------------- 3.4/9.6 MB 838.7 kB/s eta 0:00:08\n",
      "     -------------- ------------------------- 3.5/9.6 MB 836.6 kB/s eta 0:00:08\n",
      "     -------------- ------------------------- 3.5/9.6 MB 837.7 kB/s eta 0:00:08\n",
      "     -------------- ------------------------- 3.5/9.6 MB 840.5 kB/s eta 0:00:08\n",
      "     -------------- ------------------------- 3.6/9.6 MB 838.5 kB/s eta 0:00:08\n",
      "     --------------- ------------------------ 3.6/9.6 MB 838.3 kB/s eta 0:00:08\n",
      "     --------------- ------------------------ 3.7/9.6 MB 839.2 kB/s eta 0:00:08\n",
      "     --------------- ------------------------ 3.7/9.6 MB 836.7 kB/s eta 0:00:08\n",
      "     --------------- ------------------------ 3.7/9.6 MB 840.1 kB/s eta 0:00:08\n",
      "     --------------- ------------------------ 3.8/9.6 MB 838.1 kB/s eta 0:00:08\n",
      "     --------------- ------------------------ 3.8/9.6 MB 840.7 kB/s eta 0:00:07\n",
      "     --------------- ------------------------ 3.9/9.6 MB 838.8 kB/s eta 0:00:07\n",
      "     ---------------- ----------------------- 3.9/9.6 MB 839.8 kB/s eta 0:00:07\n",
      "     ---------------- ----------------------- 3.9/9.6 MB 842.3 kB/s eta 0:00:07\n",
      "     ---------------- ----------------------- 4.0/9.6 MB 840.5 kB/s eta 0:00:07\n",
      "     ---------------- ----------------------- 4.0/9.6 MB 840.3 kB/s eta 0:00:07\n",
      "     ---------------- ----------------------- 4.0/9.6 MB 841.1 kB/s eta 0:00:07\n",
      "     ---------------- ----------------------- 4.1/9.6 MB 839.2 kB/s eta 0:00:07\n",
      "     ----------------- ---------------------- 4.1/9.6 MB 840.2 kB/s eta 0:00:07\n",
      "     ----------------- ---------------------- 4.1/9.6 MB 840.5 kB/s eta 0:00:07\n",
      "     ----------------- ---------------------- 4.2/9.6 MB 841.4 kB/s eta 0:00:07\n",
      "     ----------------- ---------------------- 4.2/9.6 MB 839.7 kB/s eta 0:00:07\n",
      "     ----------------- ---------------------- 4.3/9.6 MB 842.0 kB/s eta 0:00:07\n",
      "     ----------------- ---------------------- 4.3/9.6 MB 840.3 kB/s eta 0:00:07\n",
      "     ----------------- ---------------------- 4.3/9.6 MB 841.2 kB/s eta 0:00:07\n",
      "     ------------------ --------------------- 4.4/9.6 MB 841.0 kB/s eta 0:00:07\n",
      "     ------------------ --------------------- 4.4/9.6 MB 841.7 kB/s eta 0:00:07\n",
      "     ------------------ --------------------- 4.4/9.6 MB 840.2 kB/s eta 0:00:07\n",
      "     ------------------ --------------------- 4.5/9.6 MB 842.4 kB/s eta 0:00:07\n",
      "     ------------------ --------------------- 4.5/9.6 MB 840.8 kB/s eta 0:00:07\n",
      "     ------------------ --------------------- 4.6/9.6 MB 843.5 kB/s eta 0:00:07\n",
      "     ------------------- -------------------- 4.6/9.6 MB 841.3 kB/s eta 0:00:06\n",
      "     ------------------- -------------------- 4.6/9.6 MB 843.4 kB/s eta 0:00:06\n",
      "     ------------------- -------------------- 4.7/9.6 MB 841.8 kB/s eta 0:00:06\n",
      "     ------------------- -------------------- 4.7/9.6 MB 843.9 kB/s eta 0:00:06\n",
      "     ------------------- -------------------- 4.8/9.6 MB 842.4 kB/s eta 0:00:06\n",
      "     ------------------- -------------------- 4.8/9.6 MB 842.1 kB/s eta 0:00:06\n",
      "     -------------------- ------------------- 4.8/9.6 MB 842.9 kB/s eta 0:00:06\n",
      "     -------------------- ------------------- 4.9/9.6 MB 841.4 kB/s eta 0:00:06\n",
      "     -------------------- ------------------- 4.9/9.6 MB 843.4 kB/s eta 0:00:06\n",
      "     -------------------- ------------------- 5.0/9.6 MB 841.9 kB/s eta 0:00:06\n",
      "     -------------------- ------------------- 5.0/9.6 MB 842.6 kB/s eta 0:00:06\n",
      "     -------------------- ------------------- 5.0/9.6 MB 844.6 kB/s eta 0:00:06\n",
      "     --------------------- ------------------ 5.1/9.6 MB 843.1 kB/s eta 0:00:06\n",
      "     --------------------- ------------------ 5.1/9.6 MB 841.6 kB/s eta 0:00:06\n",
      "     --------------------- ------------------ 5.1/9.6 MB 844.1 kB/s eta 0:00:06\n",
      "     --------------------- ------------------ 5.2/9.6 MB 844.8 kB/s eta 0:00:06\n",
      "     --------------------- ------------------ 5.2/9.6 MB 842.8 kB/s eta 0:00:06\n",
      "     --------------------- ------------------ 5.3/9.6 MB 842.7 kB/s eta 0:00:06\n",
      "     --------------------- ------------------ 5.3/9.6 MB 843.4 kB/s eta 0:00:06\n",
      "     ---------------------- ----------------- 5.3/9.6 MB 844.0 kB/s eta 0:00:06\n",
      "     ---------------------- ----------------- 5.4/9.6 MB 842.6 kB/s eta 0:00:06\n",
      "     ---------------------- ----------------- 5.4/9.6 MB 842.9 kB/s eta 0:00:06\n",
      "     ---------------------- ----------------- 5.4/9.6 MB 843.1 kB/s eta 0:00:05\n",
      "     ---------------------- ----------------- 5.5/9.6 MB 843.3 kB/s eta 0:00:05\n",
      "     ---------------------- ----------------- 5.5/9.6 MB 843.5 kB/s eta 0:00:05\n",
      "     ----------------------- ---------------- 5.6/9.6 MB 843.7 kB/s eta 0:00:05\n",
      "     ----------------------- ---------------- 5.6/9.6 MB 842.4 kB/s eta 0:00:05\n",
      "     ----------------------- ---------------- 5.6/9.6 MB 843.1 kB/s eta 0:00:05\n",
      "     ----------------------- ---------------- 5.7/9.6 MB 844.8 kB/s eta 0:00:05\n",
      "     ----------------------- ---------------- 5.7/9.6 MB 845.0 kB/s eta 0:00:05\n",
      "     ----------------------- ---------------- 5.7/9.6 MB 843.7 kB/s eta 0:00:05\n",
      "     ----------------------- ---------------- 5.8/9.6 MB 844.3 kB/s eta 0:00:05\n",
      "     ------------------------ --------------- 5.8/9.6 MB 842.2 kB/s eta 0:00:05\n",
      "     ------------------------ --------------- 5.9/9.6 MB 842.9 kB/s eta 0:00:05\n",
      "     ------------------------ --------------- 5.9/9.6 MB 841.6 kB/s eta 0:00:05\n",
      "     ------------------------ --------------- 5.9/9.6 MB 843.3 kB/s eta 0:00:05\n",
      "     ------------------------ --------------- 6.0/9.6 MB 842.0 kB/s eta 0:00:05\n",
      "     ------------------------ --------------- 6.0/9.6 MB 842.6 kB/s eta 0:00:05\n",
      "     ------------------------- -------------- 6.1/9.6 MB 842.4 kB/s eta 0:00:05\n",
      "     ------------------------- -------------- 6.1/9.6 MB 843.0 kB/s eta 0:00:05\n",
      "     ------------------------- -------------- 6.1/9.6 MB 843.7 kB/s eta 0:00:05\n",
      "     ------------------------- -------------- 6.2/9.6 MB 843.4 kB/s eta 0:00:05\n",
      "     ------------------------- -------------- 6.2/9.6 MB 843.2 kB/s eta 0:00:05\n",
      "     ------------------------- -------------- 6.2/9.6 MB 842.0 kB/s eta 0:00:05\n",
      "     -------------------------- ------------- 6.3/9.6 MB 842.7 kB/s eta 0:00:04\n",
      "     -------------------------- ------------- 6.3/9.6 MB 844.2 kB/s eta 0:00:04\n",
      "     -------------------------- ------------- 6.4/9.6 MB 843.0 kB/s eta 0:00:04\n",
      "     -------------------------- ------------- 6.4/9.6 MB 844.5 kB/s eta 0:00:04\n",
      "     -------------------------- ------------- 6.4/9.6 MB 843.4 kB/s eta 0:00:04\n",
      "     -------------------------- ------------- 6.5/9.6 MB 844.0 kB/s eta 0:00:04\n",
      "     --------------------------- ------------ 6.5/9.6 MB 843.7 kB/s eta 0:00:04\n",
      "     --------------------------- ------------ 6.6/9.6 MB 843.6 kB/s eta 0:00:04\n",
      "     --------------------------- ------------ 6.6/9.6 MB 842.4 kB/s eta 0:00:04\n",
      "     --------------------------- ------------ 6.7/9.6 MB 843.9 kB/s eta 0:00:04\n",
      "     --------------------------- ------------ 6.7/9.6 MB 842.8 kB/s eta 0:00:04\n",
      "     --------------------------- ------------ 6.7/9.6 MB 844.2 kB/s eta 0:00:04\n",
      "     ---------------------------- ----------- 6.8/9.6 MB 843.2 kB/s eta 0:00:04\n",
      "     ---------------------------- ----------- 6.8/9.6 MB 842.1 kB/s eta 0:00:04\n",
      "     ---------------------------- ----------- 6.9/9.6 MB 843.5 kB/s eta 0:00:04\n",
      "     ---------------------------- ----------- 6.9/9.6 MB 842.5 kB/s eta 0:00:04\n",
      "     ---------------------------- ----------- 6.9/9.6 MB 845.8 kB/s eta 0:00:04\n",
      "     ---------------------------- ----------- 7.0/9.6 MB 844.4 kB/s eta 0:00:04\n",
      "     ----------------------------- ---------- 7.0/9.6 MB 844.6 kB/s eta 0:00:04\n",
      "     ----------------------------- ---------- 7.0/9.6 MB 843.1 kB/s eta 0:00:04\n",
      "     ----------------------------- ---------- 7.1/9.6 MB 843.4 kB/s eta 0:00:04\n",
      "     ----------------------------- ---------- 7.1/9.6 MB 843.5 kB/s eta 0:00:03\n",
      "     ----------------------------- ---------- 7.2/9.6 MB 843.7 kB/s eta 0:00:03\n",
      "     ----------------------------- ---------- 7.2/9.6 MB 844.2 kB/s eta 0:00:03\n",
      "     ------------------------------ --------- 7.2/9.6 MB 845.6 kB/s eta 0:00:03\n",
      "     ------------------------------ --------- 7.3/9.6 MB 844.5 kB/s eta 0:00:03\n",
      "     ------------------------------ --------- 7.3/9.6 MB 843.5 kB/s eta 0:00:03\n",
      "     ------------------------------ --------- 7.3/9.6 MB 844.0 kB/s eta 0:00:03\n",
      "     ------------------------------ --------- 7.4/9.6 MB 843.8 kB/s eta 0:00:03\n",
      "     ------------------------------ --------- 7.4/9.6 MB 842.8 kB/s eta 0:00:03\n",
      "     ------------------------------ --------- 7.5/9.6 MB 841.8 kB/s eta 0:00:03\n",
      "     ------------------------------- -------- 7.5/9.6 MB 843.2 kB/s eta 0:00:03\n",
      "     ------------------------------- -------- 7.5/9.6 MB 843.6 kB/s eta 0:00:03\n",
      "     ------------------------------- -------- 7.6/9.6 MB 843.7 kB/s eta 0:00:03\n",
      "     ------------------------------- -------- 7.6/9.6 MB 842.5 kB/s eta 0:00:03\n",
      "     ------------------------------- -------- 7.7/9.6 MB 843.7 kB/s eta 0:00:03\n",
      "     ------------------------------- -------- 7.7/9.6 MB 842.8 kB/s eta 0:00:03\n",
      "     -------------------------------- ------- 7.7/9.6 MB 844.4 kB/s eta 0:00:03\n",
      "     -------------------------------- ------- 7.8/9.6 MB 843.1 kB/s eta 0:00:03\n",
      "     -------------------------------- ------- 7.8/9.6 MB 844.7 kB/s eta 0:00:03\n",
      "     -------------------------------- ------- 7.9/9.6 MB 843.7 kB/s eta 0:00:03\n",
      "     -------------------------------- ------- 7.9/9.6 MB 842.7 kB/s eta 0:00:03\n",
      "     -------------------------------- ------- 7.9/9.6 MB 844.1 kB/s eta 0:00:03\n",
      "     --------------------------------- ------ 8.0/9.6 MB 843.1 kB/s eta 0:00:02\n",
      "     --------------------------------- ------ 8.0/9.6 MB 843.5 kB/s eta 0:00:02\n",
      "     --------------------------------- ------ 8.0/9.6 MB 842.7 kB/s eta 0:00:02\n",
      "     --------------------------------- ------ 8.1/9.6 MB 842.5 kB/s eta 0:00:02\n",
      "     --------------------------------- ------ 8.1/9.6 MB 842.9 kB/s eta 0:00:02\n",
      "     --------------------------------- ------ 8.2/9.6 MB 843.1 kB/s eta 0:00:02\n",
      "     --------------------------------- ------ 8.2/9.6 MB 842.2 kB/s eta 0:00:02\n",
      "     ---------------------------------- ----- 8.2/9.6 MB 842.6 kB/s eta 0:00:02\n",
      "     ---------------------------------- ----- 8.3/9.6 MB 842.4 kB/s eta 0:00:02\n",
      "     ---------------------------------- ----- 8.3/9.6 MB 841.5 kB/s eta 0:00:02\n",
      "     ---------------------------------- ----- 8.3/9.6 MB 841.8 kB/s eta 0:00:02\n",
      "     ---------------------------------- ----- 8.4/9.6 MB 840.9 kB/s eta 0:00:02\n",
      "     ---------------------------------- ----- 8.4/9.6 MB 841.0 kB/s eta 0:00:02\n",
      "     ----------------------------------- ---- 8.4/9.6 MB 841.2 kB/s eta 0:00:02\n",
      "     ----------------------------------- ---- 8.5/9.6 MB 841.3 kB/s eta 0:00:02\n",
      "     ----------------------------------- ---- 8.5/9.6 MB 841.8 kB/s eta 0:00:02\n",
      "     ----------------------------------- ---- 8.6/9.6 MB 840.9 kB/s eta 0:00:02\n",
      "     ----------------------------------- ---- 8.6/9.6 MB 840.7 kB/s eta 0:00:02\n",
      "     ----------------------------------- ---- 8.6/9.6 MB 841.2 kB/s eta 0:00:02\n",
      "     ------------------------------------ --- 8.7/9.6 MB 841.1 kB/s eta 0:00:02\n",
      "     ------------------------------------ --- 8.7/9.6 MB 840.2 kB/s eta 0:00:02\n",
      "     ------------------------------------ --- 8.7/9.6 MB 840.7 kB/s eta 0:00:02\n",
      "     ------------------------------------ --- 8.8/9.6 MB 839.8 kB/s eta 0:00:02\n",
      "     ------------------------------------ --- 8.8/9.6 MB 841.0 kB/s eta 0:00:01\n",
      "     ------------------------------------ --- 8.9/9.6 MB 840.1 kB/s eta 0:00:01\n",
      "     ------------------------------------ --- 8.9/9.6 MB 839.3 kB/s eta 0:00:01\n",
      "     ------------------------------------- -- 8.9/9.6 MB 838.5 kB/s eta 0:00:01\n",
      "     ------------------------------------- -- 9.0/9.6 MB 839.6 kB/s eta 0:00:01\n",
      "     ------------------------------------- -- 9.0/9.6 MB 840.0 kB/s eta 0:00:01\n",
      "     ------------------------------------- -- 9.0/9.6 MB 840.5 kB/s eta 0:00:01\n",
      "     ------------------------------------- -- 9.1/9.6 MB 840.3 kB/s eta 0:00:01\n",
      "     ------------------------------------- -- 9.1/9.6 MB 839.5 kB/s eta 0:00:01\n",
      "     ------------------------------------- -- 9.1/9.6 MB 839.9 kB/s eta 0:00:01\n",
      "     -------------------------------------- - 9.2/9.6 MB 839.8 kB/s eta 0:00:01\n",
      "     -------------------------------------- - 9.2/9.6 MB 839.0 kB/s eta 0:00:01\n",
      "     -------------------------------------- - 9.3/9.6 MB 840.1 kB/s eta 0:00:01\n",
      "     -------------------------------------- - 9.3/9.6 MB 839.3 kB/s eta 0:00:01\n",
      "     -------------------------------------- - 9.3/9.6 MB 839.9 kB/s eta 0:00:01\n",
      "     -------------------------------------- - 9.3/9.6 MB 839.9 kB/s eta 0:00:01\n",
      "     ---------------------------------------  9.4/9.6 MB 839.7 kB/s eta 0:00:01\n",
      "     ---------------------------------------  9.5/9.6 MB 839.0 kB/s eta 0:00:01\n",
      "     ---------------------------------------  9.5/9.6 MB 839.2 kB/s eta 0:00:01\n",
      "     ---------------------------------------  9.5/9.6 MB 839.3 kB/s eta 0:00:01\n",
      "     ---------------------------------------  9.6/9.6 MB 838.2 kB/s eta 0:00:01\n",
      "     ---------------------------------------  9.6/9.6 MB 838.7 kB/s eta 0:00:01\n",
      "     ---------------------------------------  9.6/9.6 MB 838.4 kB/s eta 0:00:01\n",
      "     ---------------------------------------- 9.6/9.6 MB 834.7 kB/s eta 0:00:00\n",
      "Collecting narwhals>=1.15.1\n",
      "  Downloading narwhals-1.47.0-py3-none-any.whl (374 kB)\n",
      "     ---------------------------------------- 0.0/374.7 kB ? eta -:--:--\n",
      "     --- --------------------------------- 30.7/374.7 kB 660.6 kB/s eta 0:00:01\n",
      "     -------- ---------------------------- 81.9/374.7 kB 919.0 kB/s eta 0:00:01\n",
      "     ---------- ------------------------- 112.6/374.7 kB 819.2 kB/s eta 0:00:01\n",
      "     ---------- ------------------------- 112.6/374.7 kB 819.2 kB/s eta 0:00:01\n",
      "     ------------------ ----------------- 194.6/374.7 kB 841.6 kB/s eta 0:00:01\n",
      "     --------------------- -------------- 225.3/374.7 kB 808.4 kB/s eta 0:00:01\n",
      "     ------------------------ ----------- 256.0/374.7 kB 785.2 kB/s eta 0:00:01\n",
      "     --------------------------- -------- 286.7/374.7 kB 803.7 kB/s eta 0:00:01\n",
      "     -------------------------------- --- 337.9/374.7 kB 807.1 kB/s eta 0:00:01\n",
      "     ------------------------------------ 374.7/374.7 kB 804.5 kB/s eta 0:00:00\n",
      "Requirement already satisfied: packaging in c:\\users\\user\\appdata\\roaming\\python\\python310\\site-packages (from plotly) (25.0)\n",
      "Installing collected packages: narwhals, plotly\n"
     ]
    },
    {
     "name": "stderr",
     "output_type": "stream",
     "text": [
      "WARNING: Ignoring invalid distribution -umpy (c:\\python310\\lib\\site-packages)\n",
      "WARNING: Ignoring invalid distribution -umpy (c:\\python310\\lib\\site-packages)\n",
      "WARNING: Ignoring invalid distribution -umpy (c:\\python310\\lib\\site-packages)\n",
      "ERROR: Could not install packages due to an OSError: [WinError 5] Accès refusé: 'C:\\\\Python310\\\\share'\n",
      "Consider using the `--user` option or check the permissions.\n",
      "\n",
      "WARNING: Ignoring invalid distribution -umpy (c:\\python310\\lib\\site-packages)\n",
      "WARNING: Ignoring invalid distribution -umpy (c:\\python310\\lib\\site-packages)\n",
      "WARNING: Ignoring invalid distribution -umpy (c:\\python310\\lib\\site-packages)\n",
      "\n",
      "[notice] A new release of pip is available: 23.0.1 -> 25.1.1\n",
      "[notice] To update, run: python.exe -m pip install --upgrade pip\n"
     ]
    }
   ],
   "source": [
    "!pip install plotly"
   ]
  },
  {
   "cell_type": "code",
   "execution_count": 3,
   "id": "6c9e9845-d950-48f4-a356-0f26008b5ed3",
   "metadata": {},
   "outputs": [],
   "source": [
    "# You can also use this section to suppress warnings generated by your code:\n",
    "def warn(*args, **kwargs):\n",
    "    pass\n",
    "import warnings\n",
    "warnings.warn = warn\n",
    "warnings.filterwarnings('ignore')\n",
    "\n",
    "from tqdm import tqdm\n",
    "import numpy as np\n",
    "import pandas as pd\n",
    "from itertools import accumulate\n",
    "import matplotlib.pyplot as plt\n",
    "import math\n",
    "\n",
    "import torch\n",
    "import torch.nn as nn\n",
    "\n",
    "from sklearn.manifold import TSNE\n",
    "\n",
    "from torch.utils.data import DataLoader\n",
    "import numpy as np\n",
    "from torchtext.datasets import AG_NEWS\n",
    "from IPython.display import Markdown as md\n",
    "from tqdm import tqdm\n",
    "\n",
    "from torchtext.data.utils import get_tokenizer\n",
    "from torchtext.vocab import build_vocab_from_iterator\n",
    "from torchtext.datasets import AG_NEWS\n",
    "from torch.utils.data.dataset import random_split\n",
    "from torchtext.data.functional import to_map_style_dataset\n",
    "from sklearn.manifold import TSNE\n",
    "import plotly.graph_objs as go\n",
    "import pickle\n",
    "\n",
    "from torch.nn.utils.rnn import pad_sequence"
   ]
  },
  {
   "cell_type": "markdown",
   "id": "a5920e2f-e02e-4ea3-81d3-9758d25f818f",
   "metadata": {},
   "source": [
    "### Defining helper functions\n"
   ]
  },
  {
   "cell_type": "code",
   "execution_count": 4,
   "id": "04d49870-0fca-4fda-bada-775f7c285f2b",
   "metadata": {},
   "outputs": [],
   "source": [
    "def plot(COST,ACC):\n",
    "    \n",
    "    fig, ax1 = plt.subplots()\n",
    "    color = 'tab:red'\n",
    "    ax1.plot(COST, color=color)\n",
    "    ax1.set_xlabel('epoch', color=color)\n",
    "    ax1.set_ylabel('total loss', color=color)\n",
    "    ax1.tick_params(axis='y', color=color)\n",
    "\n",
    "    ax2 = ax1.twinx()\n",
    "    color = 'tab:blue'\n",
    "    ax2.set_ylabel('accuracy', color=color)  # you already handled the x-label with ax1\n",
    "    ax2.plot(ACC, color=color)\n",
    "    ax2.tick_params(axis='y', color=color)\n",
    "    fig.tight_layout()  # otherwise the right y-label is slightly clipped\n",
    "\n",
    "    plt.show()"
   ]
  },
  {
   "cell_type": "code",
   "execution_count": 5,
   "id": "275e488e-7738-47e8-9fc6-5e28114ddc14",
   "metadata": {},
   "outputs": [],
   "source": [
    "def plot_embdings(my_embdings,name,vocab):\n",
    "  \n",
    "  fig = plt.figure()\n",
    "  ax = fig.add_subplot(111, projection='3d')\n",
    "\n",
    "  # Plot the data points\n",
    "  ax.scatter(my_embdings[:,0], my_embdings[:,1], my_embdings[:,2])\n",
    "\n",
    "  # Label the points\n",
    "  for j, label in enumerate(name):\n",
    "      i=vocab.get_stoi()[label]\n",
    "      ax.text(my_embdings[j,0], my_embdings[j,1], my_embdings[j,2], label)\n",
    "\n",
    "  # Set axis labels\n",
    "  ax.set_xlabel('X Label')\n",
    "  ax.set_ylabel('Y Label')\n",
    "  ax.set_zlabel('Z Label')\n",
    "\n",
    "  # Show the plot\n",
    "  plt.show()"
   ]
  },
  {
   "cell_type": "code",
   "execution_count": 7,
   "id": "3c6c8fc8-e991-476a-ab45-ac9149cb7abb",
   "metadata": {},
   "outputs": [],
   "source": [
    "\n",
    "\n",
    "def plot_tras(words, model):\n",
    "    # Tokenize the input words using a tokenizer function\n",
    "    tokens = tokenizer(words)\n",
    "\n",
    "    # Define the model's embedding dimension (d_model)\n",
    "    d_model = 100\n",
    "\n",
    "    # Convert the input words to a PyTorch tensor and move it to the specified device\n",
    "    x = torch.tensor(text_pipeline(words)).unsqueeze(0).to(device)\n",
    "\n",
    "    # Apply the model's embedding layer and scale the embeddings by sqrt(d_model)\n",
    "    x_ = model.emb(x) * math.sqrt(d_model)\n",
    "\n",
    "    # Apply the model's positional encoder to the embeddings\n",
    "    x = model.pos_encoder(x_)\n",
    "\n",
    "    # Extract projection weights for query, key, and value from the model's state_dict\n",
    "    q_proj_weight = model.state_dict()['transformer_encoder.layers.0.self_attn.in_proj_weight'][0:embed_dim].t()\n",
    "    k_proj_weight = model.state_dict()['transformer_encoder.layers.0.self_attn.in_proj_weight'][embed_dim:2*embed_dim].t()\n",
    "    v_proj_weight = model.state_dict()['transformer_encoder.layers.0.self_attn.in_proj_weight'][2*embed_dim:3*embed_dim].t()\n",
    "\n",
    "    # Calculate query (Q), key (K), and value (V) matrices\n",
    "    Q = (x @ q_proj_weight).squeeze(0)\n",
    "    K = (x @ k_proj_weight).squeeze(0)\n",
    "    V = (x @ v_proj_weight).squeeze(0)\n",
    "\n",
    "    # Calculate attention scores using dot-product attention\n",
    "    scores = Q @ K.T\n",
    "\n",
    "    # Set row and column labels for the attention matrix\n",
    "    row_labels = tokens\n",
    "    col_labels = row_labels\n",
    "\n",
    "    # Create a heatmap of the attention scores\n",
    "    plt.figure(figsize=(10, 8))\n",
    "    plt.imshow(scores.cpu().detach().numpy())\n",
    "    plt.yticks(range(len(row_labels)), row_labels)\n",
    "    plt.xticks(range(len(col_labels)), col_labels, rotation=90)\n",
    "    plt.title(\"Dot-Product Attention\")\n",
    "    plt.show()\n",
    "\n",
    "    # Apply softmax to the attention scores and create a heatmap\n",
    "    att = nn.Softmax(dim=1)(scores)\n",
    "    plt.figure(figsize=(10, 8))\n",
    "    plt.imshow(att.cpu().detach().numpy())\n",
    "    plt.yticks(range(len(row_labels)), row_labels)\n",
    "    plt.xticks(range(len(col_labels)), col_labels, rotation=90)\n",
    "    plt.title(\"Scaled Dot-Product Attention\")\n",
    "    plt.show()\n",
    "\n",
    "    # Calculate the attention head by multiplying softmax scores with values (V)\n",
    "    head = nn.Softmax(dim=1)(scores) @ V\n",
    "\n",
    "    # Visualize the embeddings and attention heads using t-SNE\n",
    "    tsne(x_, tokens, title=\"Embeddings\")\n",
    "    tsne(head, tokens, title=\"Attention Heads\")\n",
    "\n",
    "\n",
    "def tsne(embeddings, tokens, title=\"Embeddings\"):\n",
    "    # Initialize t-SNE with 2 components and a fixed random state\n",
    "    tsne = TSNE(n_components=2, random_state=0)\n",
    "\n",
    "    # Fit t-SNE to the embeddings (converting from GPU if necessary)\n",
    "    tsne_result = tsne.fit_transform(embeddings.squeeze(0).cpu().detach().numpy())\n",
    "\n",
    "    # Create a scatter plot of the t-SNE results\n",
    "    plt.scatter(tsne_result[:, 0], tsne_result[:, 1])\n",
    "\n",
    "    # Set a title for the plot\n",
    "    plt.title(title)\n",
    "\n",
    "    # Add labels for each point in the scatter plot\n",
    "    for j, label in enumerate(tokens):\n",
    "        # Place the label text at the corresponding t-SNE coordinates\n",
    "        plt.text(tsne_result[j, 0], tsne_result[j, 1], label)\n",
    "\n",
    "    plt.show()"
   ]
  },
  {
   "cell_type": "code",
   "execution_count": 8,
   "id": "c61c2c24-8af4-4d71-8d1e-7a09d9243264",
   "metadata": {},
   "outputs": [],
   "source": [
    "def save_list_to_file(lst, filename):\n",
    "    \"\"\"\n",
    "    Save a list to a file using pickle serialization.\n",
    "\n",
    "    Parameters:\n",
    "        lst (list): The list to be saved.\n",
    "        filename (str): The name of the file to save the list to.\n",
    "\n",
    "    Returns:\n",
    "        None\n",
    "    \"\"\"\n",
    "    with open(filename, 'wb') as file:\n",
    "        pickle.dump(lst, file)\n",
    "\n",
    "def load_list_from_file(filename):\n",
    "    \"\"\"\n",
    "    Load a list from a file using pickle deserialization.\n",
    "\n",
    "    Parameters:\n",
    "        filename (str): The name of the file to load the list from.\n",
    "\n",
    "    Returns:\n",
    "        list: The loaded list.\n",
    "    \"\"\"\n",
    "    with open(filename, 'rb') as file:\n",
    "        loaded_list = pickle.load(file)\n",
    "    return loaded_list"
   ]
  },
  {
   "cell_type": "markdown",
   "id": "5e84e539-eb72-4c7a-b62a-653d2b172fe1",
   "metadata": {},
   "source": [
    "## Toy dataset\n",
    "These are essentially the same steps that you have done in the previous labs. However, let's have a brief explanation. The code defines a dataset, tokenizes the text data using a basic English tokenizer, creates a vocabulary from the tokenized data, and sets up a default index for handling unknown tokens.\n"
   ]
  },
  {
   "cell_type": "code",
   "execution_count": 9,
   "id": "1536f2f3-f7f0-4ffa-8184-282eb79c4b7e",
   "metadata": {},
   "outputs": [],
   "source": [
    "dataset = [\n",
    "    (1,\"Introduction to NLP\"),\n",
    "    (2,\"Basics of PyTorch\"),\n",
    "    (1,\"NLP Techniques for Text Classification\"),\n",
    "    (3,\"Named Entity Recognition with PyTorch\"),\n",
    "    (3,\"Sentiment Analysis using PyTorch\"),\n",
    "    (3,\"Machine Translation with PyTorch\"),\n",
    "    (1,\" NLP Named Entity,Sentiment Analysis,Machine Translation \"),\n",
    "    (1,\" Machine Translation with NLP \"),\n",
    "    (1,\" Named Entity vs Sentiment Analysis  NLP \"),\n",
    "    (3,\"he painted the car red\"),\n",
    "    (1,\"he painted the red car\")\n",
    "    ]\n",
    "\n",
    "tokenizer = get_tokenizer(\"basic_english\")\n",
    "\n",
    "def yield_tokens(data_iter):\n",
    "    for  _,text in data_iter:\n",
    "        yield tokenizer(text)\n",
    "\n",
    "vocab = build_vocab_from_iterator(yield_tokens(dataset), specials=[\"<unk>\"])\n",
    "vocab.set_default_index(vocab[\"<unk>\"])"
   ]
  },
  {
   "cell_type": "markdown",
   "id": "39dd6f29-705d-49ba-9700-f04f0ec761e4",
   "metadata": {},
   "source": [
    "Prepare the text processing pipeline with the tokenizer and vocabulary. The text and label pipelines will be used to process the raw data strings from the dataset iterators.\n",
    "\n",
    "The function **```text_pipeline```** will tokenize the input text, and **```vocab```** will then be applied to get the token indices.\n",
    "The **```label_pipeline```** will ensure that the labels start at zero.\n",
    "\n",
    "These pipelines are defined here for future use.\n"
   ]
  },
  {
   "cell_type": "code",
   "execution_count": 10,
   "id": "aa0bbf64-fb93-4236-8a32-1c25da2fcc19",
   "metadata": {},
   "outputs": [],
   "source": [
    "def text_pipeline(x):\n",
    "  return vocab(tokenizer(x))\n",
    "\n",
    "def label_pipeline(x):\n",
    "   return int(x) - 1"
   ]
  },
  {
   "cell_type": "markdown",
   "id": "0bbc6cd4-4c5f-40ce-94d5-8501773893cc",
   "metadata": {},
   "source": [
    "\n",
    "## Zero padding\n",
    "In numerous PyTorch applications, ensuring consistent batch sizes is a fundamental requirement. This necessitates the use of zero-padding to harmonize varying sequence lengths within each batch, you can do this using ```pad_sequence```, consider the list of tensors of different lengths:\n"
   ]
  },
  {
   "cell_type": "code",
   "execution_count": 11,
   "id": "2b8d73cf-9b3b-43d0-9b48-ecfdf878dc23",
   "metadata": {},
   "outputs": [
    {
     "data": {
      "text/plain": [
       "[tensor([1]),\n",
       " tensor([1, 2]),\n",
       " tensor([1, 2, 3]),\n",
       " tensor([1, 2, 3, 4]),\n",
       " tensor([1, 2, 3, 4, 5]),\n",
       " tensor([1, 2, 3, 4, 5, 6]),\n",
       " tensor([1, 2, 3, 4, 5, 6, 7]),\n",
       " tensor([1, 2, 3, 4, 5, 6, 7, 8])]"
      ]
     },
     "execution_count": 11,
     "metadata": {},
     "output_type": "execute_result"
    }
   ],
   "source": [
    "sequences = [torch.tensor([j for j in range(1,i)]) for i in range(2,10)]\n",
    "sequences"
   ]
  },
  {
   "cell_type": "markdown",
   "id": "bd771ec4-5f80-4313-8555-ef1a70958c1b",
   "metadata": {},
   "source": [
    "The function `pad_sequence` from `torch.nn.utils.rnn` in PyTorch is used to pad a sequence of tensors to the same length along a specified dimension. This function is commonly used when dealing with sequences of variable lengths, such as in natural language processing (NLP) tasks when working with tokenized sentences of different lengths.\n",
    "\n",
    "Here's how it works:\n",
    "\n",
    "1. **Input**: `pad_sequence` takes a list of tensors as input, where each tensor represents a sequence. These sequences can have different lengths.\n",
    "2. **Padding**: The function pads the sequences with zeros (or another specified padding value) to make them all the same length. It pads sequences to match the length of the longest sequence in the list.\n",
    "3. **Output**: The output is a single tensor where all sequences are stacked along the specified dimension (by default, it's the first dimension). The result is a batch of sequences with the same length.\n"
   ]
  },
  {
   "cell_type": "code",
   "execution_count": 12,
   "id": "998b4238-b52f-4002-a99a-e12de77ffd69",
   "metadata": {},
   "outputs": [
    {
     "name": "stdout",
     "output_type": "stream",
     "text": [
      "tensor([[1, 0, 0, 0, 0, 0, 0, 0],\n",
      "        [1, 2, 0, 0, 0, 0, 0, 0],\n",
      "        [1, 2, 3, 0, 0, 0, 0, 0],\n",
      "        [1, 2, 3, 4, 0, 0, 0, 0],\n",
      "        [1, 2, 3, 4, 5, 0, 0, 0],\n",
      "        [1, 2, 3, 4, 5, 6, 0, 0],\n",
      "        [1, 2, 3, 4, 5, 6, 7, 0],\n",
      "        [1, 2, 3, 4, 5, 6, 7, 8]])\n"
     ]
    }
   ],
   "source": [
    "padded_sequences = pad_sequence(sequences, batch_first=True, padding_value=0)\n",
    "print(padded_sequences)"
   ]
  },
  {
   "cell_type": "markdown",
   "id": "6186f6c6-aff8-4b84-92a1-0cbb582f8a7d",
   "metadata": {},
   "source": [
    "---\n"
   ]
  },
  {
   "cell_type": "markdown",
   "id": "15695a7a-232a-4020-85fa-e5211e3c136c",
   "metadata": {},
   "source": [
    "## Positional encodings\n",
    "\n",
    "Positional encodings play a pivotal role in transformers and various sequence-to-sequence models, aiding in conveying critical information regarding the positions or sequencing of elements within a given sequence. To illustrate, let's examine the sentences: \"He painted the car red\" and \"He painted the red car.\" Despite their distinct meanings, it's worth noting that the embeddings for these sentences remain identical as shown here:\n"
   ]
  },
  {
   "cell_type": "code",
   "execution_count": 13,
   "id": "cc3b1146-99dd-46c1-9a5f-e650cd582e46",
   "metadata": {},
   "outputs": [
    {
     "name": "stdout",
     "output_type": "stream",
     "text": [
      "27\n"
     ]
    }
   ],
   "source": [
    "my_tokens='he painted the car red he painted the red car'\n",
    "\n",
    "my_index=text_pipeline(my_tokens)\n",
    "my_index\n",
    "\n",
    "embedding_dim=3\n",
    "\n",
    "vocab_size=len(vocab)\n",
    "print(vocab_size)\n",
    "\n",
    "embedding = nn.Embedding(vocab_size, embedding_dim)"
   ]
  },
  {
   "cell_type": "code",
   "execution_count": 14,
   "id": "f039ed81-ee57-40f1-8d64-fe73dfb1be27",
   "metadata": {},
   "outputs": [
    {
     "data": {
      "image/png": "[encoded data removed]",
      "text/plain": [
       "<Figure size 640x480 with 1 Axes>"
      ]
     },
     "metadata": {},
     "output_type": "display_data"
    }
   ],
   "source": [
    "my_embdings=embedding(torch.tensor(my_index)).detach().numpy()\n",
    "plot_embdings(my_embdings,tokenizer(my_tokens),vocab)"
   ]
  },
  {
   "cell_type": "markdown",
   "id": "eec05be8-411e-4724-bebd-57032ef3a22a",
   "metadata": {},
   "source": [
    "You can effectively represent the position of each sample within a sequence by associating it with its corresponding position index, expressing the positional encoding as $p_{n}=n$, where $n$ represents the sample's position in the sequence. To illustrate, you can assign index 0 to the initial encoding, index 1 to the second, and so forth. This approach remains robust even when handling sequences of considerable length, extending as far as your vocabulary permits.\n"
   ]
  },
  {
   "cell_type": "code",
   "execution_count": 15,
   "id": "f2706a1b-f80e-4a10-bfc6-a1d97005bbd8",
   "metadata": {},
   "outputs": [
    {
     "data": {
      "text/plain": [
       "tensor([[ 0.],\n",
       "        [ 1.],\n",
       "        [ 2.],\n",
       "        [ 3.],\n",
       "        [ 4.],\n",
       "        [ 5.],\n",
       "        [ 6.],\n",
       "        [ 7.],\n",
       "        [ 8.],\n",
       "        [ 9.],\n",
       "        [10.],\n",
       "        [11.],\n",
       "        [12.],\n",
       "        [13.],\n",
       "        [14.],\n",
       "        [15.],\n",
       "        [16.],\n",
       "        [17.],\n",
       "        [18.],\n",
       "        [19.],\n",
       "        [20.],\n",
       "        [21.],\n",
       "        [22.],\n",
       "        [23.],\n",
       "        [24.],\n",
       "        [25.],\n",
       "        [26.]])"
      ]
     },
     "execution_count": 15,
     "metadata": {},
     "output_type": "execute_result"
    }
   ],
   "source": [
    "position = torch.arange(0, vocab_size, dtype=torch.float).unsqueeze(1)\n",
    "position"
   ]
  },
  {
   "cell_type": "markdown",
   "id": "f170dd1d-8da9-444f-8ee0-1218d0a40332",
   "metadata": {},
   "source": [
    "You can assign importance to each dimension \\(d\\) within the embedding, denoting it as $\\textbf{p}_{n,d}$. For instance, in the case of an embedding dimension of three, the positional encodings $\\textbf{p}_{n,d}$ would be represented as $[\\text{ }p_{n,1},\\text{ }p_{n,2},\\text{ }p_{n,3}]$, which, in turn, corresponds to a three-dimensional embedding of each token.\n"
   ]
  },
  {
   "cell_type": "code",
   "execution_count": 16,
   "id": "0c282104-1e55-4ce1-b600-46887538ab35",
   "metadata": {},
   "outputs": [],
   "source": [
    "d_model=3\n",
    "pe = torch.zeros(vocab_size,d_model )"
   ]
  },
  {
   "cell_type": "code",
   "execution_count": 17,
   "id": "582348ec-06f1-41f6-aec0-4aa0c47ea7a1",
   "metadata": {},
   "outputs": [
    {
     "data": {
      "text/plain": [
       "tensor([[ 0.,  0.,  0.],\n",
       "        [ 1.,  1.,  1.],\n",
       "        [ 2.,  2.,  2.],\n",
       "        [ 3.,  3.,  3.],\n",
       "        [ 4.,  4.,  4.],\n",
       "        [ 5.,  5.,  5.],\n",
       "        [ 6.,  6.,  6.],\n",
       "        [ 7.,  7.,  7.],\n",
       "        [ 8.,  8.,  8.],\n",
       "        [ 9.,  9.,  9.],\n",
       "        [10., 10., 10.],\n",
       "        [11., 11., 11.],\n",
       "        [12., 12., 12.],\n",
       "        [13., 13., 13.],\n",
       "        [14., 14., 14.],\n",
       "        [15., 15., 15.],\n",
       "        [16., 16., 16.],\n",
       "        [17., 17., 17.],\n",
       "        [18., 18., 18.],\n",
       "        [19., 19., 19.],\n",
       "        [20., 20., 20.],\n",
       "        [21., 21., 21.],\n",
       "        [22., 22., 22.],\n",
       "        [23., 23., 23.],\n",
       "        [24., 24., 24.],\n",
       "        [25., 25., 25.],\n",
       "        [26., 26., 26.]])"
      ]
     },
     "execution_count": 17,
     "metadata": {},
     "output_type": "execute_result"
    }
   ],
   "source": [
    "pe=torch.cat((position, position, position), 1)\n",
    "pe"
   ]
  },
  {
   "cell_type": "markdown",
   "id": "fd94ec8b-ab8a-4819-ad1a-740d31ee9b31",
   "metadata": {},
   "source": [
    "You only need positional encodings for each sequence of embeddings, and to determine this, simply count the number of embeddings in the sequence.\n"
   ]
  },
  {
   "cell_type": "code",
   "execution_count": 18,
   "id": "b7e5243e-e797-4e42-9a43-4075c0b34af8",
   "metadata": {},
   "outputs": [
    {
     "data": {
      "text/plain": [
       "(10, 3)"
      ]
     },
     "execution_count": 18,
     "metadata": {},
     "output_type": "execute_result"
    }
   ],
   "source": [
    "samples,dim=my_embdings.shape\n",
    "samples,dim"
   ]
  },
  {
   "cell_type": "markdown",
   "id": "1e5932c1-e2be-4d6d-ac81-d39ee4ec637e",
   "metadata": {},
   "source": [
    "Once you add the positional encodings to the embeddings and plot the results; you will observe that they are different.\n"
   ]
  },
  {
   "cell_type": "code",
   "execution_count": 19,
   "id": "876534a1-71fa-4bdf-88dc-35e683c12f99",
   "metadata": {},
   "outputs": [],
   "source": [
    "pos_embding=my_embdings+pe[0:samples,:].numpy()"
   ]
  },
  {
   "cell_type": "code",
   "execution_count": 20,
   "id": "6da58eca-9c70-4ef3-86fb-3b10c3137635",
   "metadata": {},
   "outputs": [
    {
     "data": {
      "image/png": "[encoded data removed]",
      "text/plain": [
       "<Figure size 640x480 with 1 Axes>"
      ]
     },
     "metadata": {},
     "output_type": "display_data"
    }
   ],
   "source": [
    "plot_embdings(pos_embding,tokenizer(my_tokens),vocab)"
   ]
  },
  {
   "cell_type": "markdown",
   "id": "7d305a95-b9c3-410b-9e90-108240d2303b",
   "metadata": {},
   "source": [
    "An issue arising from the integration of linear positional encodings lies in the substantial increase in the magnitude of embeddings for positions further along in the sequence. This phenomenon becomes particularly pronounced when dealing with extensive sequences. For instance, when examining the embeddings for the word \"car\" at indices 3 and 9, you will observe that the embedding at position 9 is notably larger. This disparity intensifies as the sequence length grows. Given that embeddings are meant to represent words, aim to avoid excessive divergence from the original embeddings.\n"
   ]
  },
  {
   "cell_type": "code",
   "execution_count": 21,
   "id": "96f19486-4eb0-4b48-91e0-e554dcffec85",
   "metadata": {},
   "outputs": [
    {
     "data": {
      "text/plain": [
       "array([1.8938698, 3.6869645, 4.077647 ], dtype=float32)"
      ]
     },
     "execution_count": 21,
     "metadata": {},
     "output_type": "execute_result"
    }
   ],
   "source": [
    "pos_embding[3]# add -3 to get original embedding"
   ]
  },
  {
   "cell_type": "code",
   "execution_count": 22,
   "id": "50dabac9-cf27-444d-8618-6bb5cc1a32f6",
   "metadata": {},
   "outputs": [
    {
     "data": {
      "text/plain": [
       "array([ 7.89387 ,  9.686964, 10.077647], dtype=float32)"
      ]
     },
     "execution_count": 22,
     "metadata": {},
     "output_type": "execute_result"
    }
   ],
   "source": [
    "pos_embding[-1]#add -9 original embedding"
   ]
  },
  {
   "cell_type": "markdown",
   "id": "38b32d77-3ff7-41e4-b48c-eb3f824c1c92",
   "metadata": {},
   "source": [
    "You can address this magnitude issue through various approaches. Firstly, you can employ a function that doesn't exhibit such significant amplification. Additionally, you have the option to introduce different functions. For instance, when considering your word positional encodings, the magnitude of the positional encodings $\\textbf{p}_{n,d}$ can be represented as $[p_{n,1}, p_{n,2}, p_{n,3}]$, which, in this case, translates to $[0.1n, -0.1n, 1]$.\n"
   ]
  },
  {
   "cell_type": "code",
   "execution_count": 23,
   "id": "477f46e1-cceb-4cec-a811-9ccfd1cc0231",
   "metadata": {},
   "outputs": [],
   "source": [
    "pe=torch.cat((0.1*position, -0.1*position, 0*position), 1)"
   ]
  },
  {
   "cell_type": "markdown",
   "id": "a0a70c5d-1493-4ee0-8363-63acf24bb699",
   "metadata": {},
   "source": [
    "You can plot the positional encodings.\n"
   ]
  },
  {
   "cell_type": "code",
   "execution_count": 24,
   "id": "2354ebe1-2f74-4a40-a930-70f553687051",
   "metadata": {},
   "outputs": [
    {
     "data": {
      "image/png": "[encoded data removed]",
      "text/plain": [
       "<Figure size 640x480 with 1 Axes>"
      ]
     },
     "metadata": {},
     "output_type": "display_data"
    }
   ],
   "source": [
    "plt.plot(pe[:, 0].numpy(), label=\"Dimension 1\")\n",
    "plt.plot(pe[:, 1].numpy(), label=\"Dimension 2\")\n",
    "plt.plot(pe[:, 2].numpy(), label=\"Dimension 3\")\n",
    "\n",
    "plt.xlabel(\"Sequence Number\")\n",
    "plt.legend()\n",
    "plt.show()"
   ]
  },
  {
   "cell_type": "markdown",
   "id": "5e5b6ddb-ce82-4e6a-8a19-b188ca4fe215",
   "metadata": {},
   "source": [
    "You will observe that the words are closer together, but employing a linear function still presents the same drawbacks.\n"
   ]
  },
  {
   "cell_type": "code",
   "execution_count": 25,
   "id": "8199fba9-a770-4283-8cb1-e7d1633d20f2",
   "metadata": {},
   "outputs": [
    {
     "data": {
      "image/png": "[encoded data removed]",
      "text/plain": [
       "<Figure size 640x480 with 1 Axes>"
      ]
     },
     "metadata": {},
     "output_type": "display_data"
    }
   ],
   "source": [
    "pos_embding=my_embdings+pe[0:samples,:].numpy()\n",
    "plot_embdings(pos_embding,tokenizer(my_tokens),vocab)"
   ]
  },
  {
   "cell_type": "markdown",
   "id": "a089e87b-5ae5-47ce-8643-9df117dfce3d",
   "metadata": {},
   "source": [
    "When you examine the positional encodings, you will notice that the words appear to be closer together. However, it's important to acknowledge that the use of a linear function introduces similar drawbacks. While the words may seem closer in proximity, you will still encounter certain limitations associated with linear positional encodings. These limitations include the potential for amplifying magnitudes, which can impact the model's ability to effectively capture nuanced positional information. To address these challenges, alternative approaches and functions can be explored to provide more context-aware and adaptive positional encodings.\n",
    "\n",
    "Periodic functions, such as sine and cosine functions, possess the property of periodicity. This means they repeat their values over a regular interval, preventing them from growing too rapidly.\n"
   ]
  },
  {
   "cell_type": "code",
   "execution_count": 26,
   "id": "462d102d-9f3e-43cb-8fce-0e262d43f842",
   "metadata": {},
   "outputs": [
    {
     "data": {
      "image/png": "[encoded data removed]",
      "text/plain": [
       "<Figure size 640x480 with 1 Axes>"
      ]
     },
     "metadata": {},
     "output_type": "display_data"
    }
   ],
   "source": [
    "pe=torch.cat((torch.sin(2*3.14*position/6), 0*position+1, 0*position+1), 1)\n",
    "pos_embding=my_embdings+pe[0:samples,:].numpy()\n",
    "plot_embdings(pos_embding,tokenizer(my_tokens),vocab)"
   ]
  },
  {
   "cell_type": "markdown",
   "id": "4e8f509c-513c-40ab-8326-2222a486a9eb",
   "metadata": {},
   "source": [
    "The first dimension of **$pe$** follows a sine wave pattern, while the 2nd and 3rd dimensions have constant values. This is showcased in the graph below.\n"
   ]
  },
  {
   "cell_type": "code",
   "execution_count": 27,
   "id": "9e92434d-6e9f-461a-9b45-43896891bd3f",
   "metadata": {},
   "outputs": [
    {
     "data": {
      "text/plain": [
       "tensor([[ 0.0000,  1.0000,  1.0000],\n",
       "        [ 0.8658,  1.0000,  1.0000],\n",
       "        [ 0.8666,  1.0000,  1.0000],\n",
       "        [ 0.0016,  1.0000,  1.0000],\n",
       "        [-0.8650,  1.0000,  1.0000],\n",
       "        [-0.8673,  1.0000,  1.0000],\n",
       "        [-0.0032,  1.0000,  1.0000],\n",
       "        [ 0.8642,  1.0000,  1.0000],\n",
       "        [ 0.8681,  1.0000,  1.0000],\n",
       "        [ 0.0048,  1.0000,  1.0000],\n",
       "        [-0.8634,  1.0000,  1.0000],\n",
       "        [-0.8689,  1.0000,  1.0000],\n",
       "        [-0.0064,  1.0000,  1.0000],\n",
       "        [ 0.8626,  1.0000,  1.0000],\n",
       "        [ 0.8697,  1.0000,  1.0000],\n",
       "        [ 0.0080,  1.0000,  1.0000],\n",
       "        [-0.8617,  1.0000,  1.0000],\n",
       "        [-0.8705,  1.0000,  1.0000],\n",
       "        [-0.0096,  1.0000,  1.0000],\n",
       "        [ 0.8609,  1.0000,  1.0000],\n",
       "        [ 0.8713,  1.0000,  1.0000],\n",
       "        [ 0.0111,  1.0000,  1.0000],\n",
       "        [-0.8601,  1.0000,  1.0000],\n",
       "        [-0.8721,  1.0000,  1.0000],\n",
       "        [-0.0127,  1.0000,  1.0000],\n",
       "        [ 0.8593,  1.0000,  1.0000],\n",
       "        [ 0.8728,  1.0000,  1.0000]])"
      ]
     },
     "execution_count": 27,
     "metadata": {},
     "output_type": "execute_result"
    }
   ],
   "source": [
    "pe"
   ]
  },
  {
   "cell_type": "markdown",
   "id": "8eb1620b-c419-43ff-9d57-8706726ba679",
   "metadata": {},
   "source": [
    "You have observed an intriguing characteristic in the word embeddings: they are positioned closely enough to maintain proximity while remaining sufficiently distinct from each other. However, there is a notable exception when it comes to the embedding for \"car.\" This anomaly arises because the sine wave used in positional encoding is inherently periodic, as illustrated in the image below, where you can observe the repetitive nature of the sine function. Consequently, the positional encoding for \"car\" at different locations within the sequence remains the same.\n"
   ]
  },
  {
   "cell_type": "code",
   "execution_count": 28,
   "id": "7873dba4-4a51-46f2-b588-fc209aee27b1",
   "metadata": {},
   "outputs": [
    {
     "data": {
      "image/png": "[encoded data removed]",
      "text/plain": [
       "<Figure size 640x480 with 1 Axes>"
      ]
     },
     "metadata": {},
     "output_type": "display_data"
    }
   ],
   "source": [
    "# Plot the positional encodings with different line styles and markers\n",
    "plt.plot(pe[:, 0].numpy(), label=\"Dimension 1\", linestyle='-')\n",
    "plt.plot(pe[:, 1].numpy(), label=\"Dimension 2\", linestyle='--')\n",
    "plt.plot(pe[:, 2].numpy(), label=\"Dimension 3\", linestyle=':')\n",
    "\n",
    "# Adjust the y-axis scale for better visibility\n",
    "plt.ylim([-1, 1.1])\n",
    "\n",
    "plt.xlabel(\"Sequence Number\")\n",
    "plt.legend()\n",
    "plt.show()"
   ]
  },
  {
   "cell_type": "markdown",
   "id": "58409917-b810-4e34-b6ee-c15fa21d16e2",
   "metadata": {},
   "source": [
    "By incorporating sine and cosine functions with varying frequencies, you can effectively encode sequences of differing lengths. As demonstrated here, it becomes evident that these encodings position elements in such a way that they maintain proximity while still preserving their distinctiveness from one another.\n"
   ]
  },
  {
   "cell_type": "code",
   "execution_count": 29,
   "id": "34ec8164-1620-4588-a3c3-73d992917e00",
   "metadata": {},
   "outputs": [
    {
     "data": {
      "image/png": "[encoded data removed]",
      "text/plain": [
       "<Figure size 640x480 with 1 Axes>"
      ]
     },
     "metadata": {},
     "output_type": "display_data"
    }
   ],
   "source": [
    "pe=torch.cat((torch.cos(2*3.14*position/25), torch.sin(2*3.14*position/25),  torch.sin(2*3.14*position/5)), 1)\n",
    "pos_embding=my_embdings+pe[0:samples,:].numpy()\n",
    "plot_embdings(pos_embding,tokenizer(my_tokens),vocab)"
   ]
  },
  {
   "cell_type": "code",
   "execution_count": 30,
   "id": "1dfd3c9b-8c08-4c6d-9eb6-b7573a86a199",
   "metadata": {},
   "outputs": [
    {
     "data": {
      "text/plain": [
       "[<matplotlib.lines.Line2D at 0x1ec7f647f10>]"
      ]
     },
     "execution_count": 30,
     "metadata": {},
     "output_type": "execute_result"
    },
    {
     "data": {
      "image/png": "[encoded data removed]",
      "text/plain": [
       "<Figure size 640x480 with 1 Axes>"
      ]
     },
     "metadata": {},
     "output_type": "display_data"
    }
   ],
   "source": [
    "plt.plot(pe[:, 0].numpy(), label=\"Dimension 1\")\n",
    "plt.plot(pe[:, 1].numpy(), label=\"Dimension 2\")\n",
    "plt.plot(pe[:, 2].numpy(), label=\"Dimension 3\")"
   ]
  },
  {
   "cell_type": "markdown",
   "id": "52ad1089-872b-4957-a221-d3765e3cfa5b",
   "metadata": {},
   "source": [
    "Overall, periodic functions provide a more expressive and adaptable means of encoding positional information in sequences, making them a preferred choice in modern sequence-to-sequence models like transformers. They offer improved capabilities for modeling both short-range and long-range dependencies, which are crucial for tasks in natural language processing and other domains. You can use the following class to apply Positional Encoding. The dropout probability is applied to the positional encodings to prevent overfitting.\n"
   ]
  },
  {
   "cell_type": "code",
   "execution_count": 31,
   "id": "358d0b3c-6bb3-45b5-8932-fdba2f602944",
   "metadata": {},
   "outputs": [],
   "source": [
    "from torch import nn\n",
    "\n",
    "class PositionalEncoding(nn.Module):\n",
    "    \"\"\"\n",
    "    https://pytorch.org/tutorials/beginner/transformer_tutorial.html\n",
    "    \"\"\"\n",
    "\n",
    "    def __init__(self, d_model, vocab_size=5000, dropout=0.1):\n",
    "        super().__init__()\n",
    "        self.dropout = nn.Dropout(p=dropout)\n",
    "\n",
    "        pe = torch.zeros(vocab_size, d_model)\n",
    "        position = torch.arange(0, vocab_size, dtype=torch.float).unsqueeze(1)\n",
    "        div_term = torch.exp(\n",
    "            torch.arange(0, d_model, 2).float()\n",
    "            * (-math.log(10000.0) / d_model)\n",
    "        )\n",
    "        pe[:, 0::2] = torch.sin(position * div_term)\n",
    "        pe[:, 1::2] = torch.cos(position * div_term)\n",
    "        pe = pe.unsqueeze(0)\n",
    "        self.register_buffer(\"pe\", pe)\n",
    "\n",
    "    def forward(self, x):\n",
    "        x = x + self.pe[:, : x.size(1), :]\n",
    "        return self.dropout(x)"
   ]
  },
  {
   "cell_type": "markdown",
   "id": "3d206378-fe4b-46fd-968a-3eb0e3983981",
   "metadata": {},
   "source": [
    "## Encoder layer\n"
   ]
  },
  {
   "cell_type": "markdown",
   "id": "97650d46-1213-4835-b548-780356d87fae",
   "metadata": {},
   "source": [
    "### What is self-attention?\n",
    "\n",
    "Each word (or token) in a sentence is compared to every other word, including itself, to determine how much attention or importance should be assigned to each word. Three set of vectors - query, key and value are created for the tokens. Let's have a look at an analogy which will paint a better picture for these vectors.\n",
    "\n",
    "- Query: When you enter a search query into a search engine like Google, the text you enter in the search bar serves as the query. For example, if you search for \"best smartphones,\" this is your query.\n",
    "- Key: The search engine has indexed and stored information from web pages all over the internet. Each web page contains a variety of textual information, including titles, headings, content, and metadata. All of this text serves as the keys. In the context of your query, the keys could include words and phrases found in web page titles, headers, and content.\n",
    "- Value: When you submit your query, the search engine's algorithms use the query to find the most relevant web pages from its database. These web pages are the values. The search engine returns a list of web pages (search results) that are considered the best matches for your query based on their content and relevance to the keys associated with your query.\n"
   ]
  },
  {
   "cell_type": "markdown",
   "id": "6551e075-09ca-41f7-a606-6c1dbe0a6eeb",
   "metadata": {},
   "source": [
    "### nn.TransformerEncoderLayer\n",
    "\n",
    "The Transformer Encoder Layer is a specialized network layer commonly used for processing sequential data. Unlike a standard linear layer, it incorporates a unique set of parameters designed to capture intricate relationships between data samples. In your implementation, you can utilize `nn.TransformerEncoderLayer`. Consider the sequence of embeddings:\n"
   ]
  },
  {
   "cell_type": "code",
   "execution_count": 32,
   "id": "80ab4128-1bbd-4cc0-aba5-c27b1173753d",
   "metadata": {},
   "outputs": [
    {
     "data": {
      "text/plain": [
       "tensor([[-2.4709, -1.2003, -1.3401],\n",
       "        [-0.3808, -0.6624,  0.4711],\n",
       "        [-0.5545, -0.5171, -1.4703],\n",
       "        [-1.1061,  0.6870,  1.0776],\n",
       "        [ 0.9376,  0.1418, -0.5096],\n",
       "        [-2.4709, -1.2003, -1.3401],\n",
       "        [-0.3808, -0.6624,  0.4711],\n",
       "        [-0.5545, -0.5171, -1.4703],\n",
       "        [ 0.9376,  0.1418, -0.5096],\n",
       "        [-1.1061,  0.6870,  1.0776]], grad_fn=<EmbeddingBackward0>)"
      ]
     },
     "execution_count": 32,
     "metadata": {},
     "output_type": "execute_result"
    }
   ],
   "source": [
    "my_embdings=embedding(torch.tensor(my_index))\n",
    "my_embdings"
   ]
  },
  {
   "cell_type": "markdown",
   "id": "d5d1139c-01b8-4b9f-9da4-6dc0af1d95e1",
   "metadata": {},
   "source": [
    "There are ten embeddings, each with three dimensions.\n"
   ]
  },
  {
   "cell_type": "code",
   "execution_count": 33,
   "id": "981e48a7-5220-458c-a9c4-b825bca2ce7b",
   "metadata": {},
   "outputs": [
    {
     "data": {
      "text/plain": [
       "torch.Size([10, 3])"
      ]
     },
     "execution_count": 33,
     "metadata": {},
     "output_type": "execute_result"
    }
   ],
   "source": [
    "my_embdings.shape"
   ]
  },
  {
   "cell_type": "markdown",
   "id": "e9b40053-ae2c-479c-a63c-52edf3d4a9d8",
   "metadata": {},
   "source": [
    "This line of code initializes a Transformer Encoder Layer in PyTorch using the nn.TransformerEncoderLayer class. Let's break down its components:\n",
    "\n",
    "- `d_model=3`: This parameter specifies the dimensionality of the model's input and output features. In this case, each input and output vector will have a size of 3. You can think of this as the \"width\" of the model.\n",
    "\n",
    "- `nhead=1`: It defines the number of attention heads in the multi-head self-attention mechanism. In this case, there is only one attention head, meaning that the model will perform single-head self-attention. In the context of transformers, \"n heads\" refer to the number of parallel attention mechanisms used to capture diverse patterns and dependencies in the data simultaneously.\n",
    "\n",
    "- `dim_feedforward=1`: This parameter sets the dimensionality of the feedforward neural network used within the Transformer layer. The feedforward network is responsible for processing the attention output. Here, it has an extremely low dimension of 1, which is unusually small and may not perform well in practice. In practice, this value is typically much larger to capture complex patterns.\n",
    "\n",
    "- `dropout=0`: Dropout is a regularization technique used to prevent overfitting by randomly setting a fraction of input units to zero during training. A dropout rate of 0 means no dropout will be applied in this layer.\n"
   ]
  },
  {
   "cell_type": "code",
   "execution_count": 34,
   "id": "3e93507c-627e-4066-937a-dea3bb621ab2",
   "metadata": {},
   "outputs": [],
   "source": [
    "encoder_layer=nn.TransformerEncoderLayer(\n",
    "            d_model=3,\n",
    "            nhead=1,\n",
    "            dim_feedforward=1,\n",
    "            dropout=0,\n",
    "        )"
   ]
  },
  {
   "cell_type": "markdown",
   "id": "fd95df2a-552e-4131-9bc4-f3ff73d8498d",
   "metadata": {},
   "source": [
    "In the context of transformers, your objective is to train the model to take an input sequence and effectively generate another sequence as its output, a fundamental task that underlies a wide range of natural language processing and sequence-to-sequence tasks.\n"
   ]
  },
  {
   "cell_type": "code",
   "execution_count": 35,
   "id": "73cd1dac-28d9-4555-b8ea-5891de7f0e2e",
   "metadata": {},
   "outputs": [
    {
     "data": {
      "text/plain": [
       "tensor([[-0.8033,  1.4096, -0.6063],\n",
       "        [ 0.7560, -1.4130,  0.6571],\n",
       "        [ 0.6221,  0.7888, -1.4109],\n",
       "        [-1.2320,  1.2173,  0.0147],\n",
       "        [ 0.9866,  0.3842, -1.3708],\n",
       "        [-0.8033,  1.4096, -0.6063],\n",
       "        [ 0.7560, -1.4130,  0.6571],\n",
       "        [ 0.6221,  0.7888, -1.4109],\n",
       "        [ 0.9866,  0.3842, -1.3708],\n",
       "        [-1.2320,  1.2173,  0.0147]], grad_fn=<NativeLayerNormBackward0>)"
      ]
     },
     "execution_count": 35,
     "metadata": {},
     "output_type": "execute_result"
    }
   ],
   "source": [
    "out=encoder_layer(my_embdings)\n",
    "out"
   ]
  },
  {
   "cell_type": "markdown",
   "id": "4e05d60a-e456-4a1b-9191-9d4c40029852",
   "metadata": {},
   "source": [
    "In the context of transformers, for tasks such as sequence classification, you aggregate these individual outputs, often by calculating their mean, resulting in a single activation value. Subsequently, standard neural network layers are employed to perform the final sequence classification.\n"
   ]
  },
  {
   "cell_type": "code",
   "execution_count": 36,
   "id": "82855cfd-94c2-4c1d-b511-58103560fda8",
   "metadata": {},
   "outputs": [
    {
     "data": {
      "text/plain": [
       "tensor([ 1.9868e-08, -3.9736e-08,  3.9736e-08,  1.1797e-08,  3.9736e-08,\n",
       "         1.9868e-08, -3.9736e-08,  3.9736e-08,  3.9736e-08,  1.1797e-08],\n",
       "       grad_fn=<MeanBackward1>)"
      ]
     },
     "execution_count": 36,
     "metadata": {},
     "output_type": "execute_result"
    }
   ],
   "source": [
    "out.mean(dim=1)"
   ]
  },
  {
   "cell_type": "markdown",
   "id": "68c3b768-7937-4548-859f-344c2b4366db",
   "metadata": {},
   "source": [
    "You can access the parameters of the transformer, which encompass several crucial components. Among these, the key, query, and value parameters are particularly significant, playing pivotal roles in the model's attention mechanism and overall functionality.\n"
   ]
  },
  {
   "cell_type": "code",
   "execution_count": 37,
   "id": "4bf32cf1-70c7-4a36-acb5-7a7eb07baf11",
   "metadata": {},
   "outputs": [
    {
     "name": "stdout",
     "output_type": "stream",
     "text": [
      "self_attn.in_proj_weight torch.Size([9, 3])\n",
      "self_attn.in_proj_bias torch.Size([9])\n",
      "self_attn.out_proj.weight torch.Size([3, 3])\n",
      "self_attn.out_proj.bias torch.Size([3])\n",
      "linear1.weight torch.Size([1, 3])\n",
      "linear1.bias torch.Size([1])\n",
      "linear2.weight torch.Size([3, 1])\n",
      "linear2.bias torch.Size([3])\n",
      "norm1.weight torch.Size([3])\n",
      "norm1.bias torch.Size([3])\n",
      "norm2.weight torch.Size([3])\n",
      "norm2.bias torch.Size([3])\n"
     ]
    }
   ],
   "source": [
    "params_dict = encoder_layer.state_dict()\n",
    "# Print the parameter names and shapes\n",
    "for name, param in params_dict.items():\n",
    "    print(name, param.shape)"
   ]
  },
  {
   "cell_type": "markdown",
   "id": "d92cf621-1e52-4c87-a939-8d2701927189",
   "metadata": {},
   "source": [
    "The key, query, and value parameters are shown here.\n"
   ]
  },
  {
   "cell_type": "code",
   "execution_count": 38,
   "id": "3bbb560c-3c0d-4f0e-9f60-c9313ffed95e",
   "metadata": {},
   "outputs": [],
   "source": [
    "embed_dim=3\n",
    "q_proj_weight = encoder_layer.state_dict()['self_attn.in_proj_weight'][0:embed_dim].t()\n",
    "k_proj_weight = encoder_layer.state_dict()['self_attn.in_proj_weight'][embed_dim:2*embed_dim].t()\n",
    "v_proj_weight = encoder_layer.state_dict()['self_attn.in_proj_weight'][2*embed_dim:3*embed_dim].t()"
   ]
  },
  {
   "cell_type": "markdown",
   "id": "009adfcc-2dc0-4f1d-80f3-42f831cef654",
   "metadata": {},
   "source": [
    "## Query, key, and value \n",
    "\n",
    "In the context of self-attention in a transformer, you can perform the following projections:\n",
    "\n",
    "**Query (Q)**: $Q = XW^Q$\n",
    "\n",
    "**Key (K)**: $K = XW^K$\n",
    "\n",
    "**Value (V)**: $V = XW^V$\n",
    "\n",
    "Here, $X$ represents the embeddings and $W$ represents learnable weights.\n"
   ]
  },
  {
   "cell_type": "code",
   "execution_count": 39,
   "id": "080120d2-f7e5-4632-9437-39795594d572",
   "metadata": {},
   "outputs": [],
   "source": [
    "Q=my_embdings@q_proj_weight\n",
    "K=my_embdings@k_proj_weight\n",
    "V=my_embdings@v_proj_weight"
   ]
  },
  {
   "cell_type": "markdown",
   "id": "204a976d-2f44-4016-b931-a5f94badddc0",
   "metadata": {},
   "source": [
    "Attention scores:\n",
    "$\n",
    "   \\text{Scores} = \\frac{QK^T}{\\sqrt{d_k}}\n",
    "$\n"
   ]
  },
  {
   "cell_type": "code",
   "execution_count": 40,
   "id": "506682cb-22e7-4ad7-afa1-878d29b5646d",
   "metadata": {},
   "outputs": [
    {
     "data": {
      "text/plain": [
       "tensor([[ 1.1438,  0.0707,  0.6401, -0.2009, -0.0819,  1.1438,  0.0707,  0.6401,\n",
       "         -0.0819, -0.2009],\n",
       "        [-0.1765, -0.1389,  0.3463, -0.7890,  0.4205, -0.1765, -0.1389,  0.3463,\n",
       "          0.4205, -0.7890],\n",
       "        [ 0.7889,  0.1810,  0.1002,  0.4425, -0.3639,  0.7889,  0.1810,  0.1002,\n",
       "         -0.3639,  0.4425],\n",
       "        [-0.1892, -0.1295,  0.0375, -0.1237,  0.1328, -0.1892, -0.1295,  0.0375,\n",
       "          0.1328, -0.1237],\n",
       "        [ 0.0223,  0.1084, -0.2456,  0.4256, -0.2329,  0.0223,  0.1084, -0.2456,\n",
       "         -0.2329,  0.4256],\n",
       "        [ 1.1438,  0.0707,  0.6401, -0.2009, -0.0819,  1.1438,  0.0707,  0.6401,\n",
       "         -0.0819, -0.2009],\n",
       "        [-0.1765, -0.1389,  0.3463, -0.7890,  0.4205, -0.1765, -0.1389,  0.3463,\n",
       "          0.4205, -0.7890],\n",
       "        [ 0.7889,  0.1810,  0.1002,  0.4425, -0.3639,  0.7889,  0.1810,  0.1002,\n",
       "         -0.3639,  0.4425],\n",
       "        [ 0.0223,  0.1084, -0.2456,  0.4256, -0.2329,  0.0223,  0.1084, -0.2456,\n",
       "         -0.2329,  0.4256],\n",
       "        [-0.1892, -0.1295,  0.0375, -0.1237,  0.1328, -0.1892, -0.1295,  0.0375,\n",
       "          0.1328, -0.1237]], grad_fn=<DivBackward0>)"
      ]
     },
     "execution_count": 40,
     "metadata": {},
     "output_type": "execute_result"
    }
   ],
   "source": [
    "scores=Q@K.T/np. sqrt(embed_dim)\n",
    "scores"
   ]
  },
  {
   "cell_type": "markdown",
   "id": "a3c896e9-7b61-48f4-b124-c414ecdf01ae",
   "metadata": {},
   "source": [
    "You can calculate the attention weights using the softmax function applied to the Scores and then multiply them by the values:\n",
    "\n",
    "$O = \\text{softmax}(\\text{Scores})\\cdot V$\n"
   ]
  },
  {
   "cell_type": "code",
   "execution_count": 41,
   "id": "6f8de01c-bf91-4cdc-bb06-e09d1a5ae552",
   "metadata": {},
   "outputs": [
    {
     "data": {
      "text/plain": [
       "tensor([[-0.1342,  0.8001, -0.1304],\n",
       "        [-0.1704,  0.3688,  0.1752],\n",
       "        [ 0.0015,  0.6698, -0.3792],\n",
       "        [-0.0669,  0.3885, -0.0826],\n",
       "        [ 0.0581,  0.4466, -0.3976],\n",
       "        [-0.1342,  0.8001, -0.1304],\n",
       "        [-0.1704,  0.3688,  0.1752],\n",
       "        [ 0.0015,  0.6698, -0.3792],\n",
       "        [ 0.0581,  0.4466, -0.3976],\n",
       "        [-0.0669,  0.3885, -0.0826]], grad_fn=<MmBackward0>)"
      ]
     },
     "execution_count": 41,
     "metadata": {},
     "output_type": "execute_result"
    }
   ],
   "source": [
    "head=nn.Softmax(dim=1)(scores)@V\n",
    "head"
   ]
  },
  {
   "cell_type": "markdown",
   "id": "f98fcb02-483c-48bf-baeb-883dc5203952",
   "metadata": {},
   "source": [
    "In the context of multi-head attention, you can partition the embedding dimension into $h$ subspaces, each with a dimension of $d/h$, and independently apply the attention mechanism to these smaller components. Following the attention operation, you can collect the outputs and continue with the subsequent matrix operations.\n"
   ]
  },
  {
   "cell_type": "markdown",
   "id": "d5e8787b-17c2-4a0b-8672-7af8bdc93832",
   "metadata": {},
   "source": [
    "## Attention weights and linear transformation\n",
    "\n",
    "### Softmax attention weights\n",
    "\n",
    "After calculating the attention scores, you can proceed with linear transformations as follows:\n",
    "\n",
    "1. **Concatenated output**: You can concatenate the individual output vectors as follows:\n",
    "\n",
    "   $$\n",
    "   O_{\\text{concat}} = [O_1, O_2, \\ldots, O_h]\n",
    "   $$\n",
    "\n",
    "2. **Final output**: The final output is obtained by applying a linear transformation to the concatenated output:\n",
    "\n",
    "   $$\n",
    "   O_{\\text{final}} = O_{\\text{concat}}W^O + b^O\n",
    "   $$\n",
    "\n",
    "Here, $W^O$ represents the weight matrix, and $b^O$ represents the bias vector for the linear transformation.\n"
   ]
  },
  {
   "cell_type": "markdown",
   "id": "df9eeef1-407a-4b69-a356-fb012a516e25",
   "metadata": {},
   "source": [
    "These equations depict the fundamental elements of multi-head self-attention in a transformer. While there are several additional considerations, these pertain more to optimizing training and are akin to common practices in standard neural networks.\n",
    "\n",
    "### Multiple attention layers:\n",
    "Similar to deep neural networks that can have multiple hidden layers, transformers can also be configured with multiple attention layers.\n",
    "\n",
    "**`nn.TransformerEncoder`** is a module that represents a stack of multiple transformer encoder layers. Let's break down the parameters you've provided:\n",
    "\n",
    "**encoder_layer**: This parameter specifies the type of transformer encoder layer that you want to use within the stack. In your case, you've defined an encoder layer using `nn.TransformerEncoderLayer` with specific configurations. The encoder_layer will be repeated multiple times in the stack.\n",
    "\n",
    "**num_layers=2**: This parameter indicates the number of encoder layers to stack on top of each other within the `nn.TransformerEncoder`. In your example, you've chosen to stack 2 encoder layers.\n"
   ]
  },
  {
   "cell_type": "code",
   "execution_count": 42,
   "id": "02b11e77-d0ea-4812-ac01-4e79701a3289",
   "metadata": {},
   "outputs": [],
   "source": [
    "transformer_encoder = nn.TransformerEncoder(\n",
    "            encoder_layer,\n",
    "            num_layers=2)"
   ]
  },
  {
   "cell_type": "markdown",
   "id": "b65a73ed-458a-46ad-93ab-72afe088fca1",
   "metadata": {},
   "source": [
    "You can display the other layer.\n"
   ]
  },
  {
   "cell_type": "code",
   "execution_count": 43,
   "id": "0686b2e4-a45b-4b69-a4b6-c944b4dbc8f8",
   "metadata": {},
   "outputs": [
    {
     "name": "stdout",
     "output_type": "stream",
     "text": [
      "layers.0.self_attn.in_proj_weight torch.Size([9, 3])\n",
      "layers.0.self_attn.in_proj_bias torch.Size([9])\n",
      "layers.0.self_attn.out_proj.weight torch.Size([3, 3])\n",
      "layers.0.self_attn.out_proj.bias torch.Size([3])\n",
      "layers.0.linear1.weight torch.Size([1, 3])\n",
      "layers.0.linear1.bias torch.Size([1])\n",
      "layers.0.linear2.weight torch.Size([3, 1])\n",
      "layers.0.linear2.bias torch.Size([3])\n",
      "layers.0.norm1.weight torch.Size([3])\n",
      "layers.0.norm1.bias torch.Size([3])\n",
      "layers.0.norm2.weight torch.Size([3])\n",
      "layers.0.norm2.bias torch.Size([3])\n",
      "layers.1.self_attn.in_proj_weight torch.Size([9, 3])\n",
      "layers.1.self_attn.in_proj_bias torch.Size([9])\n",
      "layers.1.self_attn.out_proj.weight torch.Size([3, 3])\n",
      "layers.1.self_attn.out_proj.bias torch.Size([3])\n",
      "layers.1.linear1.weight torch.Size([1, 3])\n",
      "layers.1.linear1.bias torch.Size([1])\n",
      "layers.1.linear2.weight torch.Size([3, 1])\n",
      "layers.1.linear2.bias torch.Size([3])\n",
      "layers.1.norm1.weight torch.Size([3])\n",
      "layers.1.norm1.bias torch.Size([3])\n",
      "layers.1.norm2.weight torch.Size([3])\n",
      "layers.1.norm2.bias torch.Size([3])\n"
     ]
    }
   ],
   "source": [
    "params_dict = transformer_encoder.state_dict()\n",
    "for name, param in params_dict.items():\n",
    "    print(name, param.shape)"
   ]
  },
  {
   "cell_type": "markdown",
   "id": "3da9b722-5d91-4a41-9678-08c497e979ff",
   "metadata": {},
   "source": [
    "---\n"
   ]
  },
  {
   "cell_type": "markdown",
   "id": "d7d35acd-eaf4-4e8b-92ed-ca3d610716b2",
   "metadata": {},
   "source": [
    "## Text classification\n",
    "Let's build a text classification model using PyTorch and torchtext to classify news articles into one of the four categories: World, Sports, Business, and Sci/Tech.\n"
   ]
  },
  {
   "cell_type": "markdown",
   "id": "def839e8-2ad7-4b03-b511-e875ab9bbd45",
   "metadata": {},
   "source": [
    "### Import bank dataset\n",
    "\n",
    "Load the AG_NEWS dataset for the train split and split it into input text and corresponding labels:\n"
   ]
  },
  {
   "cell_type": "code",
   "execution_count": 44,
   "id": "867933bc-a517-4bf3-a82d-3073439caf2c",
   "metadata": {},
   "outputs": [],
   "source": [
    "train_iter= AG_NEWS(split=\"train\")"
   ]
  },
  {
   "cell_type": "markdown",
   "id": "9f05157b-d675-4e87-a238-eb52ac9b45f7",
   "metadata": {},
   "source": [
    "The AG_NEWS dataset in torchtext does not support direct indexing like a list or tuple. It is not a random access dataset but rather an iterable dataset that needs to be used with an iterator. This approach is more effective for text data.\n"
   ]
  },
  {
   "cell_type": "code",
   "execution_count": 45,
   "id": "0537d2ba-74d0-4b4e-9bd1-13b5d041c6fa",
   "metadata": {},
   "outputs": [
    {
     "name": "stdout",
     "output_type": "stream",
     "text": [
      "3 Wall St. Bears Claw Back Into the Black (Reuters) Reuters - Short-sellers, Wall Street's dwindling\\band of ultra-cynics, are seeing green again.\n"
     ]
    }
   ],
   "source": [
    "y,text= next(iter(train_iter ))\n",
    "print(y,text)"
   ]
  },
  {
   "cell_type": "markdown",
   "id": "7b8ca651-9753-40c0-85c6-f6709a427218",
   "metadata": {},
   "source": [
    "You can find the label of the sample.\n"
   ]
  },
  {
   "cell_type": "code",
   "execution_count": 46,
   "id": "21fe34b8-c577-48f1-944b-6874a4bb1c28",
   "metadata": {},
   "outputs": [
    {
     "data": {
      "text/plain": [
       "'Business'"
      ]
     },
     "execution_count": 46,
     "metadata": {},
     "output_type": "execute_result"
    }
   ],
   "source": [
    "ag_news_label = {1: \"World\", 2: \"Sports\", 3: \"Business\", 4: \"Sci/Tec\"}\n",
    "ag_news_label[y]"
   ]
  },
  {
   "cell_type": "markdown",
   "id": "19ffa546-4fce-4454-acff-35b026cc5468",
   "metadata": {},
   "source": [
    "You can also use the dataset to find all the classes.\n"
   ]
  },
  {
   "cell_type": "code",
   "execution_count": 47,
   "id": "3ac2058b-17b4-4de3-98a7-450ed0b12793",
   "metadata": {},
   "outputs": [
    {
     "data": {
      "text/plain": [
       "4"
      ]
     },
     "execution_count": 47,
     "metadata": {},
     "output_type": "execute_result"
    }
   ],
   "source": [
    "num_class = len(set([label for (label, text) in train_iter ]))\n",
    "num_class"
   ]
  },
  {
   "cell_type": "markdown",
   "id": "55826ffe-7d51-4442-ad3a-9c54cfa85ee7",
   "metadata": {},
   "source": [
    "You can build the vocabulary as before, just using the AG dataset to obtain token indices\n"
   ]
  },
  {
   "cell_type": "code",
   "execution_count": 48,
   "id": "25a4bb3a-e023-4ffa-b111-2d16126a66ae",
   "metadata": {},
   "outputs": [],
   "source": [
    "vocab = build_vocab_from_iterator(yield_tokens(train_iter), specials=[\"<unk>\"])\n",
    "vocab.set_default_index(vocab[\"<unk>\"])"
   ]
  },
  {
   "cell_type": "markdown",
   "id": "7a0f9dc0-89d8-4a7f-b553-b412f338b2a2",
   "metadata": {},
   "source": [
    "Here are some token indices:\n"
   ]
  },
  {
   "cell_type": "code",
   "execution_count": 49,
   "id": "d54c9536-d35b-4de5-8cff-fbb30bc76c74",
   "metadata": {},
   "outputs": [
    {
     "data": {
      "text/plain": [
       "[2120, 12544]"
      ]
     },
     "execution_count": 49,
     "metadata": {},
     "output_type": "execute_result"
    }
   ],
   "source": [
    "vocab([\"age\",\"hello\"])"
   ]
  },
  {
   "cell_type": "markdown",
   "id": "25ec5701-05d8-4bbd-8ad2-5376ef72db84",
   "metadata": {},
   "source": [
    "### Dataset\n"
   ]
  },
  {
   "cell_type": "markdown",
   "id": "216acb1a-c7dd-45ad-9224-1b0c3b08ea30",
   "metadata": {},
   "source": [
    "You can convert the dataset into map-style datasets and then perform a random split to create separate training and validation datasets. The training dataset will contain 95% of the samples, while the validation dataset will contain the remaining 5%. These datasets can be used for training and evaluating a machine learning model for text classification on the AG_NEWS dataset.\n"
   ]
  },
  {
   "cell_type": "code",
   "execution_count": 50,
   "id": "805ca9bc-ded6-4837-b28e-fad6b0e71ff3",
   "metadata": {},
   "outputs": [],
   "source": [
    "# Split the dataset into training and testing iterators.\n",
    "train_iter, test_iter = AG_NEWS()\n",
    "\n",
    "# Convert the training and testing iterators to map-style datasets.\n",
    "train_dataset = to_map_style_dataset(train_iter)\n",
    "test_dataset = to_map_style_dataset(test_iter)\n",
    "\n",
    "# Determine the number of samples to be used for training and validation (5% for validation).\n",
    "num_train = int(len(train_dataset) * 0.95)\n",
    "\n",
    "# Randomly split the training dataset into training and validation datasets using `random_split`.\n",
    "# The training dataset will contain 95% of the samples, and the validation dataset will contain the remaining 5%.\n",
    "split_train_, split_valid_ = random_split(train_dataset, [num_train, len(train_dataset) - num_train])"
   ]
  },
  {
   "cell_type": "markdown",
   "id": "c314466c-880e-43f5-8684-e5cbf71a6e54",
   "metadata": {},
   "source": [
    "The code checks if a CUDA-compatible GPU is available in the system using PyTorch, a popular deep learning framework. If a GPU is available, it assigns the device variable to \"cuda\" (which stands for CUDA, the parallel computing platform and application programming interface model developed by NVIDIA). If a GPU is not available, it assigns the device variable to \"cpu\" (which means the code will run on the CPU instead).\n"
   ]
  },
  {
   "cell_type": "code",
   "execution_count": 51,
   "id": "ca1ec078-bcb2-4826-85c3-cdeb65593498",
   "metadata": {},
   "outputs": [
    {
     "data": {
      "text/plain": [
       "device(type='cpu')"
      ]
     },
     "execution_count": 51,
     "metadata": {},
     "output_type": "execute_result"
    }
   ],
   "source": [
    "device = torch.device(\"cuda\" if torch.cuda.is_available() else \"cpu\")\n",
    "device"
   ]
  },
  {
   "cell_type": "markdown",
   "id": "22a6ea8b-abd5-4019-937c-5ad639ce554c",
   "metadata": {},
   "source": [
    "### Data loader\n"
   ]
  },
  {
   "cell_type": "markdown",
   "id": "4cf7a25a-b829-41df-b9f4-d1bac99e19e4",
   "metadata": {},
   "source": [
    "In PyTorch, the **`collate_fn`** function is used in conjunction with data loaders to customize the way batches are created from individual samples. The provided code defines a `collate_batch` function in PyTorch, which is used with data loaders to customize batch creation from individual samples. It processes a batch of data, including labels and text sequences. It applies the `label_pipeline` and `text_pipeline` functions to preprocess the labels and texts, respectively. The processed data is then converted into PyTorch tensors and returned as a tuple containing the label tensor, text tensor, and offsets tensor representing the starting positions of each text sequence in the combined tensor. The function also ensures that the returned tensors are moved to the specified device (e.g., GPU) for efficient computation.\n"
   ]
  },
  {
   "cell_type": "code",
   "execution_count": 52,
   "id": "765742b8-d8f1-43ff-bfa8-a5885adfc374",
   "metadata": {},
   "outputs": [],
   "source": [
    "from torch.nn.utils.rnn import pad_sequence\n",
    "\n",
    "def collate_batch(batch):\n",
    "    label_list, text_list = [], []\n",
    "    for _label, _text in batch:\n",
    "        label_list.append(label_pipeline(_label))\n",
    "        text_list.append(torch.tensor(text_pipeline(_text), dtype=torch.int64))\n",
    "\n",
    "\n",
    "    label_list = torch.tensor(label_list, dtype=torch.int64)\n",
    "    text_list = pad_sequence(text_list, batch_first=True)\n",
    "\n",
    "\n",
    "    return label_list.to(device), text_list.to(device)"
   ]
  },
  {
   "cell_type": "markdown",
   "id": "18124362-2c67-4f44-a034-915e71a25dc9",
   "metadata": {},
   "source": [
    "You can convert the dataset objects to a data loader by applying the collate function.\n"
   ]
  },
  {
   "cell_type": "code",
   "execution_count": 53,
   "id": "052714e9-8d6c-4cbb-aa67-6abac1534906",
   "metadata": {},
   "outputs": [],
   "source": [
    "BATCH_SIZE = 64\n",
    "\n",
    "train_dataloader = DataLoader(\n",
    "    split_train_, batch_size=BATCH_SIZE, shuffle=True, collate_fn=collate_batch\n",
    ")\n",
    "valid_dataloader = DataLoader(\n",
    "    split_valid_, batch_size=BATCH_SIZE, shuffle=True, collate_fn=collate_batch\n",
    ")\n",
    "test_dataloader = DataLoader(\n",
    "    test_dataset, batch_size=BATCH_SIZE, shuffle=True, collate_fn=collate_batch\n",
    ")"
   ]
  },
  {
   "cell_type": "markdown",
   "id": "5445a1ec-f5d0-4783-bf03-a981de34d18c",
   "metadata": {},
   "source": [
    "You can see the output sequence when you have the label, text, and offsets for each batch.\n"
   ]
  },
  {
   "cell_type": "code",
   "execution_count": 54,
   "id": "09144bfc-5b20-447a-a03e-f0d105718427",
   "metadata": {},
   "outputs": [],
   "source": [
    "label,seqence=next(iter(valid_dataloader ))"
   ]
  },
  {
   "cell_type": "markdown",
   "id": "09642385-8e6a-4b3b-bfd8-484a8cf91b4b",
   "metadata": {},
   "source": [
    "### Neural network\n"
   ]
  },
  {
   "cell_type": "markdown",
   "id": "40979579-9895-428f-b18e-48fd74674f84",
   "metadata": {},
   "source": [
    "You have created a neural network for a text classification model using an `EmbeddingBag` layer, followed by a softmax output layer. Additionally, you have initialized the model using a specific method.\n"
   ]
  },
  {
   "cell_type": "code",
   "execution_count": 56,
   "id": "dfec4cbe-43a8-4245-bb34-fd5d6657d6a6",
   "metadata": {},
   "outputs": [],
   "source": [
    "class Net(nn.Module):\n",
    "    \"\"\"\n",
    "    Text classifier based on a pytorch TransformerEncoder.\n",
    "    \"\"\"\n",
    "\n",
    "    def __init__(\n",
    "        \n",
    "        self,\n",
    "        vocab_size,\n",
    "        num_class,\n",
    "        embedding_dim=100,\n",
    "        nhead=5,\n",
    "        dim_feedforward=2048,\n",
    "        num_layers=6,\n",
    "        dropout=0.1,\n",
    "        activation=\"relu\",\n",
    "        classifier_dropout=0.1):\n",
    "\n",
    "        super().__init__()\n",
    "\n",
    "        self.emb = nn.Embedding(vocab_size,embedding_dim)\n",
    "\n",
    "        self.pos_encoder = PositionalEncoding(\n",
    "            d_model=embedding_dim,\n",
    "            dropout=dropout,\n",
    "            vocab_size=vocab_size,\n",
    "        )\n",
    "\n",
    "        encoder_layer = nn.TransformerEncoderLayer(\n",
    "            d_model=embedding_dim,\n",
    "            nhead=nhead,\n",
    "            dim_feedforward=dim_feedforward,\n",
    "            dropout=dropout,\n",
    "        )\n",
    "        self.transformer_encoder = nn.TransformerEncoder(\n",
    "            encoder_layer,\n",
    "            num_layers=num_layers,\n",
    "        )\n",
    "        self.classifier = nn.Linear(embedding_dim, num_class)\n",
    "        self.d_model = embedding_dim\n",
    "\n",
    "    def forward(self, x):\n",
    "        x = self.emb(x) * math.sqrt(self.d_model)\n",
    "        x = self.pos_encoder(x)\n",
    "        x = self.transformer_encoder(x)\n",
    "        x = x.mean(dim=1)\n",
    "        x = self.classifier(x)\n",
    "\n",
    "        return x"
   ]
  },
  {
   "cell_type": "code",
   "execution_count": 57,
   "id": "59b8cf6a-cf4b-4df7-ba0e-3ae2b0cd4707",
   "metadata": {},
   "outputs": [],
   "source": [
    "y,x=next(iter(train_dataloader))"
   ]
  },
  {
   "cell_type": "code",
   "execution_count": 58,
   "id": "03498fd1-4117-4c69-8913-1fe0487f463a",
   "metadata": {},
   "outputs": [
    {
     "data": {
      "text/plain": [
       "tensor([[ 3156,   913,   926,  ...,     0,     0,     0],\n",
       "        [ 4701,    16,     9,  ...,     0,     0,     0],\n",
       "        [ 8742,  2550,   535,  ...,     0,     0,     0],\n",
       "        ...,\n",
       "        [13563,  7849,  7336,  ...,     0,     0,     0],\n",
       "        [  173,   599,   811,  ...,     0,     0,     0],\n",
       "        [  731,    89,  2571,  ...,     0,     0,     0]])"
      ]
     },
     "execution_count": 58,
     "metadata": {},
     "output_type": "execute_result"
    }
   ],
   "source": [
    "x"
   ]
  },
  {
   "cell_type": "markdown",
   "id": "9c31f6fd-cded-4568-bf28-1330e5c776a2",
   "metadata": {},
   "source": [
    "You have created the model, and the embedding dimension size is a free parameter.\n"
   ]
  },
  {
   "cell_type": "code",
   "execution_count": 59,
   "id": "af88256d-9ae7-4304-a822-b41a209e3374",
   "metadata": {},
   "outputs": [],
   "source": [
    "emsize=64"
   ]
  },
  {
   "cell_type": "markdown",
   "id": "1ff18e9e-7c73-4e12-ab4e-aa1b3af01b47",
   "metadata": {},
   "source": [
    "You need the vocabulary size to determine the number of embeddings.\n"
   ]
  },
  {
   "cell_type": "code",
   "execution_count": 60,
   "id": "72bbecfe-a305-4248-9c0f-464724eebbc0",
   "metadata": {},
   "outputs": [
    {
     "data": {
      "text/plain": [
       "95811"
      ]
     },
     "execution_count": 60,
     "metadata": {},
     "output_type": "execute_result"
    }
   ],
   "source": [
    "vocab_size=len(vocab)\n",
    "vocab_size"
   ]
  },
  {
   "cell_type": "markdown",
   "id": "49de6f28-390d-493a-a6ba-7458655daae2",
   "metadata": {},
   "source": [
    "You have also determined the number of classes for the output layer.\n"
   ]
  },
  {
   "cell_type": "code",
   "execution_count": 61,
   "id": "73f77827-4471-48e9-900c-d04b814693e9",
   "metadata": {},
   "outputs": [
    {
     "data": {
      "text/plain": [
       "4"
      ]
     },
     "execution_count": 61,
     "metadata": {},
     "output_type": "execute_result"
    }
   ],
   "source": [
    "num_class"
   ]
  },
  {
   "cell_type": "markdown",
   "id": "7f482c96-e8f3-4512-b279-6c2509d8273a",
   "metadata": {},
   "source": [
    "Creating the model:\n"
   ]
  },
  {
   "cell_type": "code",
   "execution_count": 62,
   "id": "2537569e-7197-4427-ad79-2a40604fd4ac",
   "metadata": {},
   "outputs": [
    {
     "data": {
      "text/plain": [
       "Net(\n",
       "  (emb): Embedding(95811, 100)\n",
       "  (pos_encoder): PositionalEncoding(\n",
       "    (dropout): Dropout(p=0.1, inplace=False)\n",
       "  )\n",
       "  (transformer_encoder): TransformerEncoder(\n",
       "    (layers): ModuleList(\n",
       "      (0-5): 6 x TransformerEncoderLayer(\n",
       "        (self_attn): MultiheadAttention(\n",
       "          (out_proj): NonDynamicallyQuantizableLinear(in_features=100, out_features=100, bias=True)\n",
       "        )\n",
       "        (linear1): Linear(in_features=100, out_features=2048, bias=True)\n",
       "        (dropout): Dropout(p=0.1, inplace=False)\n",
       "        (linear2): Linear(in_features=2048, out_features=100, bias=True)\n",
       "        (norm1): LayerNorm((100,), eps=1e-05, elementwise_affine=True)\n",
       "        (norm2): LayerNorm((100,), eps=1e-05, elementwise_affine=True)\n",
       "        (dropout1): Dropout(p=0.1, inplace=False)\n",
       "        (dropout2): Dropout(p=0.1, inplace=False)\n",
       "      )\n",
       "    )\n",
       "  )\n",
       "  (classifier): Linear(in_features=100, out_features=4, bias=True)\n",
       ")"
      ]
     },
     "execution_count": 62,
     "metadata": {},
     "output_type": "execute_result"
    }
   ],
   "source": [
    "model = Net(vocab_size=vocab_size,num_class=4).to(device)\n",
    "model"
   ]
  },
  {
   "cell_type": "markdown",
   "id": "657f61d2-4d0a-4700-84ad-804948f8a800",
   "metadata": {},
   "source": [
    "The code line `predicted_label=model(text, offsets)` is used to obtain predicted labels from a machine learning model for a given input text and its corresponding offsets. The `model` is the machine learning model being used for text classification or similar tasks.\n"
   ]
  },
  {
   "cell_type": "code",
   "execution_count": 63,
   "id": "473a61d8-2941-4328-8361-79c726859285",
   "metadata": {},
   "outputs": [],
   "source": [
    "predicted_label=model(x)"
   ]
  },
  {
   "cell_type": "markdown",
   "id": "b3238967-cdf5-41a6-90f6-739992a9ae45",
   "metadata": {},
   "source": [
    "You can verify the output shape of your model. In this case, the model is trained with a mini-batch size of 64 samples. The output layer of the model produces 4 logits for each neuron, corresponding to the four classes in the classification task. You can also create a function to find the accuracy given a dataset.\n"
   ]
  },
  {
   "cell_type": "code",
   "execution_count": 64,
   "id": "650982c2-fb17-4694-85fc-9dc53be2f702",
   "metadata": {},
   "outputs": [
    {
     "data": {
      "text/plain": [
       "torch.Size([64, 4])"
      ]
     },
     "execution_count": 64,
     "metadata": {},
     "output_type": "execute_result"
    }
   ],
   "source": [
    "predicted_label.shape"
   ]
  },
  {
   "cell_type": "code",
   "execution_count": 65,
   "id": "bb2565ae-9a30-4d39-863e-31b61621799a",
   "metadata": {},
   "outputs": [
    {
     "data": {
      "text/plain": [
       "torch.Size([64, 78])"
      ]
     },
     "execution_count": 65,
     "metadata": {},
     "output_type": "execute_result"
    }
   ],
   "source": [
    "x.shape"
   ]
  },
  {
   "cell_type": "markdown",
   "id": "61069860-e754-441c-95c1-e13e882e8196",
   "metadata": {},
   "source": [
    "Function **`predict`** takes in a text and a text pipeline, which preprocesses the text for machine learning. It uses a pre-trained model to predict the label of the text for text classification on the AG_NEWS dataset. The function returns the predicted label as a result.\n"
   ]
  },
  {
   "cell_type": "code",
   "execution_count": 66,
   "id": "a368a6d9-830e-4e7e-a236-c8cdb2491e23",
   "metadata": {},
   "outputs": [],
   "source": [
    "def predict(text, text_pipeline):\n",
    "    with torch.no_grad():\n",
    "        text = torch.unsqueeze(torch.tensor(text_pipeline(text)),0).to(device)\n",
    "\n",
    "        output = model(text)\n",
    "        return ag_news_label[output.argmax(1).item() + 1]"
   ]
  },
  {
   "cell_type": "code",
   "execution_count": 67,
   "id": "0ce7d62e-b8e0-47a8-83b0-9aff33780580",
   "metadata": {},
   "outputs": [
    {
     "data": {
      "text/plain": [
       "'World'"
      ]
     },
     "execution_count": 67,
     "metadata": {},
     "output_type": "execute_result"
    }
   ],
   "source": [
    "predict(\"I like sports and stuff\",text_pipeline )"
   ]
  },
  {
   "cell_type": "markdown",
   "id": "96e59c3e-4670-428d-9e32-debf9bf42e98",
   "metadata": {},
   "source": [
    "You can create a function to evaluate the model's accuracy on a dataset.\n"
   ]
  },
  {
   "cell_type": "code",
   "execution_count": 68,
   "id": "d1242a68-0755-4374-b07a-e75c831043b9",
   "metadata": {},
   "outputs": [],
   "source": [
    "def evaluate(dataloader, model_eval):\n",
    "    model_eval.eval()\n",
    "    total_acc, total_count= 0, 0\n",
    "\n",
    "    with torch.no_grad():\n",
    "        for idx, (label, text) in enumerate(dataloader):\n",
    "            predicted_label = model_eval(text.to(device))\n",
    "\n",
    "            total_acc += (predicted_label.argmax(1) == label).sum().item()\n",
    "            total_count += label.size(0)\n",
    "    return total_acc / total_count"
   ]
  },
  {
   "cell_type": "markdown",
   "id": "808c1600-11f0-466f-a7ee-e6af3be78493",
   "metadata": {},
   "source": [
    "You proceed to evaluate the model, and upon observation, found that its performance is no better than average. This outcome is expected, considering that the model has not undergone any training yet.\n"
   ]
  },
  {
   "cell_type": "code",
   "execution_count": 69,
   "id": "9ee05e49-1957-457a-bb8f-ac91ad44a61f",
   "metadata": {},
   "outputs": [
    {
     "data": {
      "text/plain": [
       "0.25802631578947366"
      ]
     },
     "execution_count": 69,
     "metadata": {},
     "output_type": "execute_result"
    }
   ],
   "source": [
    "evaluate(test_dataloader, model)"
   ]
  },
  {
   "cell_type": "markdown",
   "id": "aea94194-12c8-4869-aa82-4e6dcfaced23",
   "metadata": {},
   "source": [
    "Let's train your model.\n"
   ]
  },
  {
   "cell_type": "markdown",
   "id": "826deb4b-0dee-4fdc-b7f9-eaf17fafbac0",
   "metadata": {},
   "source": [
    "---\n"
   ]
  },
  {
   "cell_type": "markdown",
   "id": "0b756680-bc82-40b2-85ca-b6ef4119c403",
   "metadata": {},
   "source": [
    "## Training\n",
    "\n",
    "You set the learning rate (LR) to 0.1, which determines the step size at which the optimizer updates the model's parameters during training. The CrossEntropyLoss criterion is used to calculate the loss between the model's predicted outputs and the ground truth labels. This loss function is commonly employed for multi-class classification tasks.\n",
    "\n",
    "The chosen optimizer is Stochastic Gradient Descent (SGD), which optimizes the model's parameters based on the computed gradients with respect to the loss function. The SGD optimizer uses the specified learning rate to control the size of the weight updates.\n",
    "\n",
    "Additionally, a learning rate scheduler is defined using StepLR. This scheduler adjusts the learning rate during training, reducing it by a factor (gamma) of 0.1 after every epoch (step) to improve convergence and fine-tune the model's performance. These components together form the essential setup for training a neural network using the specified learning rate, loss criterion, optimizer, and learning rate scheduler.\n",
    "\n",
    "**Note: The training takes a lot of time with CPU. The Skills Network lab environment provides only CPU. If you have access to GPU, you can uncomment the code below and run it to train the model. Else you can directly jump to the next section where you have been provided with a trained model and saved it for you to explore it.**\n"
   ]
  },
  {
   "cell_type": "code",
   "execution_count": 70,
   "id": "6c223c1d-1d1e-4cd6-9ada-ac9505c64817",
   "metadata": {},
   "outputs": [],
   "source": [
    "LR=0.\n",
    "criterion = torch.nn.CrossEntropyLoss()\n",
    "optimizer = torch.optim.SGD(model.parameters(), lr=LR)\n",
    "scheduler = torch.optim.lr_scheduler.StepLR(optimizer, 1.0, gamma=0.1)"
   ]
  },
  {
   "cell_type": "markdown",
   "id": "b1741734-bcb5-4082-b1be-17a1cafaf0c6",
   "metadata": {},
   "source": [
    "Training the model for 10 epochs.\n",
    "\n",
    ">Please skip this step if you don't have GPU. Retrieve and use the model has been trained for 100 epochs and saved, in the next step.\n"
   ]
  },
  {
   "cell_type": "code",
   "execution_count": 71,
   "id": "3c7212a6-985d-44ef-beaa-b50359e60572",
   "metadata": {},
   "outputs": [
    {
     "name": "stderr",
     "output_type": "stream",
     "text": [
      "  0%|          | 0/10 [00:12<?, ?it/s]\n"
     ]
    },
    {
     "ename": "KeyboardInterrupt",
     "evalue": "",
     "output_type": "error",
     "traceback": [
      "\u001b[1;31m---------------------------------------------------------------------------\u001b[0m",
      "\u001b[1;31mKeyboardInterrupt\u001b[0m                         Traceback (most recent call last)",
      "Cell \u001b[1;32mIn[71], line 16\u001b[0m\n\u001b[0;32m     14\u001b[0m predicted_label \u001b[38;5;241m=\u001b[39m model(text)\n\u001b[0;32m     15\u001b[0m loss \u001b[38;5;241m=\u001b[39m criterion(predicted_label, label)\n\u001b[1;32m---> 16\u001b[0m \u001b[43mloss\u001b[49m\u001b[38;5;241;43m.\u001b[39;49m\u001b[43mbackward\u001b[49m\u001b[43m(\u001b[49m\u001b[43m)\u001b[49m\n\u001b[0;32m     17\u001b[0m torch\u001b[38;5;241m.\u001b[39mnn\u001b[38;5;241m.\u001b[39mutils\u001b[38;5;241m.\u001b[39mclip_grad_norm_(model\u001b[38;5;241m.\u001b[39mparameters(), \u001b[38;5;241m0.1\u001b[39m)\n\u001b[0;32m     18\u001b[0m optimizer\u001b[38;5;241m.\u001b[39mstep()\n",
      "File \u001b[1;32mc:\\Python310\\lib\\site-packages\\torch\\_tensor.py:522\u001b[0m, in \u001b[0;36mTensor.backward\u001b[1;34m(self, gradient, retain_graph, create_graph, inputs)\u001b[0m\n\u001b[0;32m    512\u001b[0m \u001b[38;5;28;01mif\u001b[39;00m has_torch_function_unary(\u001b[38;5;28mself\u001b[39m):\n\u001b[0;32m    513\u001b[0m     \u001b[38;5;28;01mreturn\u001b[39;00m handle_torch_function(\n\u001b[0;32m    514\u001b[0m         Tensor\u001b[38;5;241m.\u001b[39mbackward,\n\u001b[0;32m    515\u001b[0m         (\u001b[38;5;28mself\u001b[39m,),\n\u001b[1;32m   (...)\u001b[0m\n\u001b[0;32m    520\u001b[0m         inputs\u001b[38;5;241m=\u001b[39minputs,\n\u001b[0;32m    521\u001b[0m     )\n\u001b[1;32m--> 522\u001b[0m \u001b[43mtorch\u001b[49m\u001b[38;5;241;43m.\u001b[39;49m\u001b[43mautograd\u001b[49m\u001b[38;5;241;43m.\u001b[39;49m\u001b[43mbackward\u001b[49m\u001b[43m(\u001b[49m\n\u001b[0;32m    523\u001b[0m \u001b[43m    \u001b[49m\u001b[38;5;28;43mself\u001b[39;49m\u001b[43m,\u001b[49m\u001b[43m \u001b[49m\u001b[43mgradient\u001b[49m\u001b[43m,\u001b[49m\u001b[43m \u001b[49m\u001b[43mretain_graph\u001b[49m\u001b[43m,\u001b[49m\u001b[43m \u001b[49m\u001b[43mcreate_graph\u001b[49m\u001b[43m,\u001b[49m\u001b[43m \u001b[49m\u001b[43minputs\u001b[49m\u001b[38;5;241;43m=\u001b[39;49m\u001b[43minputs\u001b[49m\n\u001b[0;32m    524\u001b[0m \u001b[43m\u001b[49m\u001b[43m)\u001b[49m\n",
      "File \u001b[1;32mc:\\Python310\\lib\\site-packages\\torch\\autograd\\__init__.py:266\u001b[0m, in \u001b[0;36mbackward\u001b[1;34m(tensors, grad_tensors, retain_graph, create_graph, grad_variables, inputs)\u001b[0m\n\u001b[0;32m    261\u001b[0m     retain_graph \u001b[38;5;241m=\u001b[39m create_graph\n\u001b[0;32m    263\u001b[0m \u001b[38;5;66;03m# The reason we repeat the same comment below is that\u001b[39;00m\n\u001b[0;32m    264\u001b[0m \u001b[38;5;66;03m# some Python versions print out the first line of a multi-line function\u001b[39;00m\n\u001b[0;32m    265\u001b[0m \u001b[38;5;66;03m# calls in the traceback and some print out the last line\u001b[39;00m\n\u001b[1;32m--> 266\u001b[0m \u001b[43mVariable\u001b[49m\u001b[38;5;241;43m.\u001b[39;49m\u001b[43m_execution_engine\u001b[49m\u001b[38;5;241;43m.\u001b[39;49m\u001b[43mrun_backward\u001b[49m\u001b[43m(\u001b[49m\u001b[43m  \u001b[49m\u001b[38;5;66;43;03m# Calls into the C++ engine to run the backward pass\u001b[39;49;00m\n\u001b[0;32m    267\u001b[0m \u001b[43m    \u001b[49m\u001b[43mtensors\u001b[49m\u001b[43m,\u001b[49m\n\u001b[0;32m    268\u001b[0m \u001b[43m    \u001b[49m\u001b[43mgrad_tensors_\u001b[49m\u001b[43m,\u001b[49m\n\u001b[0;32m    269\u001b[0m \u001b[43m    \u001b[49m\u001b[43mretain_graph\u001b[49m\u001b[43m,\u001b[49m\n\u001b[0;32m    270\u001b[0m \u001b[43m    \u001b[49m\u001b[43mcreate_graph\u001b[49m\u001b[43m,\u001b[49m\n\u001b[0;32m    271\u001b[0m \u001b[43m    \u001b[49m\u001b[43minputs\u001b[49m\u001b[43m,\u001b[49m\n\u001b[0;32m    272\u001b[0m \u001b[43m    \u001b[49m\u001b[43mallow_unreachable\u001b[49m\u001b[38;5;241;43m=\u001b[39;49m\u001b[38;5;28;43;01mTrue\u001b[39;49;00m\u001b[43m,\u001b[49m\n\u001b[0;32m    273\u001b[0m \u001b[43m    \u001b[49m\u001b[43maccumulate_grad\u001b[49m\u001b[38;5;241;43m=\u001b[39;49m\u001b[38;5;28;43;01mTrue\u001b[39;49;00m\u001b[43m,\u001b[49m\n\u001b[0;32m    274\u001b[0m \u001b[43m\u001b[49m\u001b[43m)\u001b[49m\n",
      "\u001b[1;31mKeyboardInterrupt\u001b[0m: "
     ]
    }
   ],
   "source": [
    "EPOCHS = 10\n",
    "cum_loss_list=[]\n",
    "acc_epoch=[]\n",
    "acc_old=0\n",
    "\n",
    "for epoch in tqdm(range(1, EPOCHS + 1)):\n",
    "    model.train()\n",
    "    cum_loss=0\n",
    "    for idx, (label, text) in enumerate(train_dataloader):\n",
    "        optimizer.zero_grad()\n",
    "        label, text=label.to(device), text.to(device)\n",
    "\n",
    "\n",
    "        predicted_label = model(text)\n",
    "        loss = criterion(predicted_label, label)\n",
    "        loss.backward()\n",
    "        torch.nn.utils.clip_grad_norm_(model.parameters(), 0.1)\n",
    "        optimizer.step()\n",
    "        cum_loss+=loss.item()\n",
    "    print(\"Loss\",cum_loss)\n",
    "\n",
    "    cum_loss_list.append(cum_loss)\n",
    "    accu_val = evaluate(valid_dataloader)\n",
    "    acc_epoch.append(accu_val)\n",
    "\n",
    "    if accu_val > acc_old:\n",
    "      acc_old= accu_val\n",
    "      torch.save(model.state_dict(), 'my_model.pth')\n",
    "\n",
    "save_list_to_file(lst=cum_loss_list, filename=\"loss.pkl\")\n",
    "save_list_to_file(lst=acc_epoch, filename=\"acc.pkl\")"
   ]
  },
  {
   "cell_type": "markdown",
   "id": "194e4ada-696c-4328-bda2-0d7fa7110fb6",
   "metadata": {},
   "source": [
    "You have the capability to upload the trained model along with comprehensive data on cumulative loss and average accuracy at each epoch.\n"
   ]
  },
  {
   "cell_type": "code",
   "execution_count": null,
   "id": "cc2f3963-54f4-4c7b-80df-44d2f76f1db8",
   "metadata": {},
   "outputs": [],
   "source": [
    "! wget https://cf-courses-data.s3.us.cloud-object-storage.appdomain.cloud/IBMSkillsNetwork-GPXX05RNEN/my_model.pth\n",
    "! wget https://cf-courses-data.s3.us.cloud-object-storage.appdomain.cloud/IBMSkillsNetwork-GPXX05RNEN/acc.pkl\n",
    "! wget https://cf-courses-data.s3.us.cloud-object-storage.appdomain.cloud/IBMSkillsNetwork-GPXX05RNEN/loss.pkl"
   ]
  },
  {
   "cell_type": "code",
   "execution_count": null,
   "id": "01e547d9-615c-4caa-a834-8211b9f02330",
   "metadata": {},
   "outputs": [],
   "source": [
    "cum_loss_list=load_list_from_file(\"loss.pkl\")\n",
    "acc_epoch=load_list_from_file(\"acc.pkl\")"
   ]
  },
  {
   "cell_type": "code",
   "execution_count": null,
   "id": "2ba35319-7109-4d39-a47d-41227a6715c8",
   "metadata": {},
   "outputs": [],
   "source": [
    "pretrained_model_path = 'my_model.pth'\n",
    "model_ = Net(vocab_size=vocab_size, num_class=4).to(device)\n",
    "model_.load_state_dict(torch.load(pretrained_model_path, map_location=torch.device('cpu')))"
   ]
  },
  {
   "cell_type": "code",
   "execution_count": null,
   "id": "bec793b7-6b85-4e0e-a0de-0a4f3071f01b",
   "metadata": {},
   "outputs": [],
   "source": [
    "plot(cum_loss_list,acc_epoch)"
   ]
  },
  {
   "cell_type": "markdown",
   "id": "b935c873-a8be-43be-907f-3db4b35ca45d",
   "metadata": {},
   "source": [
    "You can evaluate the results on the test data; you achieve over 80%.\n"
   ]
  },
  {
   "cell_type": "code",
   "execution_count": null,
   "id": "b08add1a-d228-4164-928c-5e13861ed0c8",
   "metadata": {},
   "outputs": [],
   "source": [
    "evaluate(test_dataloader, model_)"
   ]
  },
  {
   "cell_type": "markdown",
   "id": "f549fcb7-a71a-4b78-9fcd-3a0db769b74c",
   "metadata": {},
   "source": [
    "The `plot_tras` function takes input words and a transformer model as arguments. It tokenizes the input words, applies the model's embedding and positional encoding layers, and extracts projection weights for query, key, and value from the model's state_dict. Using dot-product attention, it computes and visualizes attention scores as a heatmap. The softmax of these scores is also visualized as a separate heatmap. The function calculates the attention head by multiplying softmax scores with values and employs t-SNE to visualize both the embeddings and attention heads, offering insights into the attention mechanisms within the transformer model.\n"
   ]
  },
  {
   "cell_type": "code",
   "execution_count": null,
   "id": "1e83c2e6-6723-47c5-bacc-6f2ff7491643",
   "metadata": {},
   "outputs": [],
   "source": [
    "sample=15\n",
    "\n",
    "words=train_dataset[sample][1]\n",
    "print(words)\n",
    "plot_tras(words, model)"
   ]
  },
  {
   "cell_type": "markdown",
   "id": "bfbc7eb9-46cd-4dec-8aad-c4e0b31007be",
   "metadata": {},
   "source": [
    "In scaled dot-product attention, if you look from x-axis, rescuing is important with words like soon, don, their, help and an.\n"
   ]
  },
  {
   "cell_type": "code",
   "execution_count": null,
   "id": "46e541a4-d990-4de3-85cf-64be297de1ae",
   "metadata": {},
   "outputs": [],
   "source": [
    "sample=1\n",
    "\n",
    "words=train_dataset[sample][1]\n",
    "print(words)\n",
    "plot_tras(words, model)"
   ]
  },
  {
   "cell_type": "markdown",
   "id": "c7cc617e-e04f-4084-a836-3ada6ef536af",
   "metadata": {},
   "source": [
    "# Exercise\n"
   ]
  },
  {
   "cell_type": "markdown",
   "id": "1f5bdeac-d033-4d44-8323-c4a6cf023296",
   "metadata": {},
   "source": [
    "You can make a prediction on the following article using the function **`predict`**.\n"
   ]
  },
  {
   "cell_type": "code",
   "execution_count": null,
   "id": "09566e73-7148-4e53-924d-aca0b817da72",
   "metadata": {},
   "outputs": [],
   "source": [
    "article=\"\"\"Canada navigated a stiff test against the Republic of Ireland on a rain soaked evening in Perth, coming from behind to claim a vital 2-1 victory at the Women’s World Cup.\n",
    "Katie McCabe opened the scoring with an incredible Olimpico goal – scoring straight from a corner kick – as her corner flew straight over the despairing Canada goalkeeper Kailen Sheridan at Perth Rectangular Stadium in Australia.\n",
    "Just when Ireland thought it had safely navigated itself to half time with a lead, Megan Connolly failed to get a clean connection on a clearance with the resulting contact squirming into her own net to level the score.\n",
    "Minutes into the second half, Adriana Leon completed the turnaround for the Olympic champion, slotting home from the edge of the area to seal the three points.\"\"\""
   ]
  },
  {
   "cell_type": "markdown",
   "id": "d81398b9-45cc-4cd7-b7d9-92026f5e9dc7",
   "metadata": {},
   "source": [
    "This markdown content generates a styled box with light gray background and padding. It contains an `<h3>` header displaying the content of the `article` variable, and an `<h4>` header indicating the predicted category of the news article which is provided by the `result` variable. The placeholders `{article}` and `{result}` will be dynamically replaced with actual values when this markdown is rendered.\n"
   ]
  },
  {
   "cell_type": "code",
   "execution_count": null,
   "id": "ce1d0c55-c404-489d-9938-5a3b61a8242f",
   "metadata": {},
   "outputs": [],
   "source": [
    "result = #Call predict() for the article to see the result\n",
    "\n",
    "markdown_content = f'''\n",
    "<div style=\"background-color: gray; padding: 10px;\">\n",
    "    <h3>{article}</h3>\n",
    "    <h4>The category of the news article: {result}</h4>\n",
    "</div>\n",
    "'''\n",
    "\n",
    "md(markdown_content)"
   ]
  },
  {
   "cell_type": "markdown",
   "id": "e3528259-fb29-42d7-af1a-24691a357f06",
   "metadata": {},
   "source": [
    "<details>\n",
    "    <summary>Click here for Solution</summary>\n",
    "\n",
    "```python\n",
    "result = predict(article, text_pipeline)\n",
    "\n",
    "markdown_content = f'''\n",
    "<div style=\"background-color: gray; padding: 10px;\">\n",
    "    <h3>{article}</h3>\n",
    "    <h4>The category of the news article: {result}</h4>\n",
    "</div>\n",
    "'''\n",
    "\n",
    "md(markdown_content)\n",
    "```\n",
    "\n",
    "</details>\n"
   ]
  },
  {
   "cell_type": "markdown",
   "id": "bb5690ea-13e5-4abe-86f9-d490805e4f2c",
   "metadata": {},
   "source": [
    "Looks good!\n"
   ]
  },
  {
   "cell_type": "markdown",
   "id": "485130e4-05a1-48f8-a314-7e721705e868",
   "metadata": {},
   "source": [
    "---\n"
   ]
  },
  {
   "cell_type": "markdown",
   "id": "aadb1229-5233-4159-9687-ab34d6a726c4",
   "metadata": {},
   "source": [
    "## Congratulations! You have completed the lab\n"
   ]
  },
  {
   "cell_type": "markdown",
   "id": "227f1cac-d2a2-49c8-816a-e9e60391c5ad",
   "metadata": {},
   "source": [
    "## Authors\n"
   ]
  },
  {
   "cell_type": "markdown",
   "id": "0b14d920-cd41-4848-b967-9030414ce796",
   "metadata": {},
   "source": [
    "[Roodra Kanwar](https://www.linkedin.com/in/roodrakanwar/) is completing his MS in CS specializing in big data from Simon Fraser University. He has previous experience working with machine learning and as a data engineer.\n"
   ]
  },
  {
   "cell_type": "markdown",
   "id": "99cb0c5b-a807-4458-b3c1-44e7858980ed",
   "metadata": {},
   "source": [
    "## Contributors\n"
   ]
  },
  {
   "cell_type": "markdown",
   "id": "49955055-d813-4075-91a6-9997f362c335",
   "metadata": {},
   "source": [
    "[Joseph Santarcangelo](https://author.skills.network/instructors/joseph_santarcangelo)\n",
    "\n",
    "Joseph has a Ph.D. in Electrical Engineering, his research focused on using machine learning, signal processing, and computer vision to determine how videos impact human cognition. Joseph has been working for IBM since he completed his PhD.\n",
    "\n",
    "[Ashutosh Sagar](https://www.linkedin.com/in/ashutoshsagar/) is completing his MS in CS from Dalhousie University. He has previous experience working with Natural Language Processing and as a Data Scientist.\n"
   ]
  },
  {
   "cell_type": "markdown",
   "id": "37d35ef1-95fd-4378-b328-b584530716c9",
   "metadata": {},
   "source": [
    "## References\n",
    "\n",
    "\n",
    "[TEXT CLASSIFICATION WITH THE TORCHTEXT LIBRARY](https://pytorch.org/tutorials/beginner/text_sentiment_ngrams_tutorial.html)\n"
   ]
  },
  {
   "cell_type": "markdown",
   "id": "a8c675bd-6499-4db2-ac2a-8fb09ff569c9",
   "metadata": {},
   "source": [
    "© Copyright IBM Corporation. All rights reserved.\n"
   ]
  }
 ],
 "metadata": {
  "kernelspec": {
   "display_name": "Python 3",
   "language": "python",
   "name": "python3"
  },
  "language_info": {
   "codemirror_mode": {
    "name": "ipython",
    "version": 3
   },
   "file_extension": ".py",
   "mimetype": "text/x-python",
   "name": "python",
   "nbconvert_exporter": "python",
   "pygments_lexer": "ipython3",
   "version": "3.10.11"
  },
  "prev_pub_hash": "14eb86410073efd200da48f917d2dbc3fa71d1dc58b1fb1e82e220ea87672d04"
 },
 "nbformat": 4,
 "nbformat_minor": 4
}
